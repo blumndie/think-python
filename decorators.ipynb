{
 "cells": [
  {
   "cell_type": "code",
   "execution_count": 8,
   "id": "d91dbbe1",
   "metadata": {},
   "outputs": [],
   "source": [
    "def deco(func):\n",
    "    print(func)\n",
    "    func()"
   ]
  },
  {
   "cell_type": "code",
   "execution_count": 10,
   "id": "31f59b73",
   "metadata": {},
   "outputs": [
    {
     "name": "stdout",
     "output_type": "stream",
     "text": [
      "<function funcitself at 0x000002112C43EE80>\n",
      "printing\n"
     ]
    }
   ],
   "source": [
    "@deco\n",
    "def funcitself():\n",
    "    print(f'printing')"
   ]
  }
 ],
 "metadata": {
  "kernelspec": {
   "display_name": "Python 3",
   "language": "python",
   "name": "python3"
  },
  "language_info": {
   "codemirror_mode": {
    "name": "ipython",
    "version": 3
   },
   "file_extension": ".py",
   "mimetype": "text/x-python",
   "name": "python",
   "nbconvert_exporter": "python",
   "pygments_lexer": "ipython3",
   "version": "3.13.7"
  }
 },
 "nbformat": 4,
 "nbformat_minor": 5
}
