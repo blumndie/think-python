{
  "cells": [
    {
      "cell_type": "markdown",
      "id": "1331faa1",
      "metadata": {
        "id": "1331faa1"
      },
      "source": [
        "You can order print and ebook versions of *Think Python 3e* from\n",
        "[Bookshop.org](https://bookshop.org/a/98697/9781098155438) and\n",
        "[Amazon](https://www.amazon.com/_/dp/1098155432?smid=ATVPDKIKX0DER&_encoding=UTF8&tag=oreilly20-20&_encoding=UTF8&tag=greenteapre01-20&linkCode=ur2&linkId=e2a529f94920295d27ec8a06e757dc7c&camp=1789&creative=9325)."
      ]
    },
    {
      "cell_type": "code",
      "execution_count": 2,
      "id": "31b6f97a",
      "metadata": {
        "id": "31b6f97a",
        "tags": []
      },
      "outputs": [],
      "source": [
        "from os.path import basename, exists\n",
        "\n",
        "\n",
        "def download(url):\n",
        "    filename = basename(url)\n",
        "    if not exists(filename):\n",
        "        from urllib.request import urlretrieve\n",
        "\n",
        "        local, _ = urlretrieve(url, filename)\n",
        "        print(\"Downloaded \" + str(local))\n",
        "    return filename\n",
        "\n",
        "download('https://github.com/AllenDowney/ThinkPython/raw/v3/thinkpython.py');\n",
        "download('https://github.com/AllenDowney/ThinkPython/raw/v3/diagram.py');\n",
        "\n",
        "import thinkpython"
      ]
    },
    {
      "cell_type": "markdown",
      "id": "c3ee5c27",
      "metadata": {
        "id": "c3ee5c27",
        "tags": []
      },
      "source": [
        "Credit: Photos downloaded from [Lorem Picsum](https://picsum.photos/), a service that provides placeholder images.\n",
        "The name is a reference to \"lorem ipsum\", which is a name for placeholder text.\n"
      ]
    },
    {
      "cell_type": "code",
      "execution_count": 2,
      "id": "9b246dc6",
      "metadata": {
        "id": "9b246dc6",
        "tags": []
      },
      "outputs": [],
      "source": [
        "# This cell downloads an archive file that contains the the files we'll\n",
        "# use for the examples in this chapter.\n",
        "\n",
        "download('https://github.com/AllenDowney/ThinkPython/raw/v3/photos.zip');"
      ]
    },
    {
      "cell_type": "code",
      "execution_count": 3,
      "id": "23792899",
      "metadata": {
        "id": "23792899",
        "tags": []
      },
      "outputs": [],
      "source": [
        "# WARNING: This cell removes the photos/ directory if it already exists.\n",
        "# Any files already in the photos/ directory will be deleted.\n",
        "\n",
        "# !rm -rf photos/"
      ]
    },
    {
      "cell_type": "code",
      "execution_count": 4,
      "id": "713dfeb0",
      "metadata": {
        "id": "713dfeb0",
        "tags": []
      },
      "outputs": [
        {
          "name": "stderr",
          "output_type": "stream",
          "text": [
            "'unzip' is not recognized as an internal or external command,\n",
            "operable program or batch file.\n"
          ]
        }
      ],
      "source": [
        "!unzip -o photos.zip"
      ]
    },
    {
      "cell_type": "markdown",
      "id": "92934cb0",
      "metadata": {
        "id": "92934cb0"
      },
      "source": [
        "# Files and Databases\n",
        "\n",
        "Most of the programs we have seen so far are **ephemeral** in the sense that they run for a short time and produce output, but when they end, their data disappears.\n",
        "Each time you run an ephemeral program, it starts with a clean slate.\n",
        "\n",
        "Other programs are **persistent**: they run for a long time (or all the time); they keep at least some of their data in long-term storage; and if they shut down and restart, they pick up where they left off.\n",
        "\n",
        "A simple way for programs to maintain their data is by reading and writing text files.\n",
        "A more versatile alternative is to store data in a database.\n",
        "Databases are specialized files that can be read and written more efficiently than text files, and they provide additional capabilities.\n",
        "\n",
        "In this chapter, we'll write programs that read and write text files and databases, and as an exercise you'll write a program that searches a collection of photos for duplicates.\n",
        "But before you can work with a file, you have to find it, so we'll start with file names, paths, and directories."
      ]
    },
    {
      "cell_type": "markdown",
      "id": "75cec7ca",
      "metadata": {
        "id": "75cec7ca"
      },
      "source": [
        "## Filenames and paths\n",
        "\n",
        "Files are organized into **directories**, also called \"folders\".\n",
        "Every running program has a **current working directory**, which is the default directory for most operations.\n",
        "For example, when you open a file, Python looks for it in the current working directory.\n",
        "\n",
        "The `os` module provides functions for working with files and directories (\"os\" stands for \"operating system\").\n",
        "It provides a function called `getcwd` that gets the name of the current working directory."
      ]
    },
    {
      "cell_type": "code",
      "execution_count": 5,
      "id": "4fdb528a",
      "metadata": {
        "id": "4fdb528a",
        "tags": []
      },
      "outputs": [],
      "source": [
        "# this cell replaces `os.cwd` with a function that returns a fake path\n",
        "\n",
        "import os\n",
        "\n",
        "def getcwd():\n",
        "    return \"/home/dinsdale\"\n",
        "\n",
        "os.getcwd = getcwd"
      ]
    },
    {
      "cell_type": "code",
      "execution_count": 6,
      "id": "c7b209f6",
      "metadata": {
        "id": "c7b209f6"
      },
      "outputs": [
        {
          "data": {
            "text/plain": [
              "'/home/dinsdale'"
            ]
          },
          "execution_count": 6,
          "metadata": {},
          "output_type": "execute_result"
        }
      ],
      "source": [
        "import os\n",
        "\n",
        "os.getcwd()"
      ]
    },
    {
      "cell_type": "markdown",
      "id": "6c55575f",
      "metadata": {
        "id": "6c55575f"
      },
      "source": [
        "The result in this example is the home directory of a user named `dinsdale`.\n",
        "A string like `'/home/dinsdale'` that identifies a file or directory is called a **path**.\n",
        "\n",
        "A simple filename like `'memo.txt'` is also considered a path, but it is a **relative path** because it specifies a file name relative to the current directory.\n",
        "In this example, the current directory is `/home/dinsdale`, so `'memo.txt'` is equivalent to the complete path `'/home/dinsdale/memo.txt'`.\n",
        "\n",
        "A path that begins with `/` does not depend on the current directory -- it is called an **absolute path**.\n",
        "To find the absolute path to a file, you can use `abspath`."
      ]
    },
    {
      "cell_type": "code",
      "execution_count": 7,
      "id": "66a15e44",
      "metadata": {
        "id": "66a15e44"
      },
      "outputs": [
        {
          "data": {
            "text/plain": [
              "'g:\\\\My Drive\\\\My Files\\\\IT Study\\\\Python\\\\python\\\\think-python\\\\chapters\\\\memo.txt'"
            ]
          },
          "execution_count": 7,
          "metadata": {},
          "output_type": "execute_result"
        }
      ],
      "source": [
        "os.path.abspath('memo.txt')"
      ]
    },
    {
      "cell_type": "markdown",
      "id": "f1a0cf04",
      "metadata": {
        "id": "f1a0cf04"
      },
      "source": [
        "The `os` module provides other functions for working with filenames and paths.\n",
        "`listdir` returns a list of the contents of the given directory, including files and other directories.\n",
        "Here's an example that lists the contents of a directory named `photos`."
      ]
    },
    {
      "cell_type": "code",
      "execution_count": 8,
      "id": "a22d2675",
      "metadata": {
        "id": "a22d2675"
      },
      "outputs": [
        {
          "data": {
            "text/plain": [
              "['notes.txt', 'mar-2023', 'jan-2023', 'feb-2023']"
            ]
          },
          "execution_count": 8,
          "metadata": {},
          "output_type": "execute_result"
        }
      ],
      "source": [
        "os.listdir('photos')"
      ]
    },
    {
      "cell_type": "markdown",
      "id": "ab160f29",
      "metadata": {
        "id": "ab160f29"
      },
      "source": [
        "This directory contains a text file named `notes.txt` and three directories.\n",
        "The directories contain image files in the JPEG format."
      ]
    },
    {
      "cell_type": "code",
      "execution_count": 9,
      "id": "a217eac7",
      "metadata": {
        "id": "a217eac7"
      },
      "outputs": [
        {
          "data": {
            "text/plain": [
              "['photo3.jpg', 'photo2.jpg', 'photo1.jpg']"
            ]
          },
          "execution_count": 9,
          "metadata": {},
          "output_type": "execute_result"
        }
      ],
      "source": [
        "os.listdir('photos/jan-2023')"
      ]
    },
    {
      "cell_type": "markdown",
      "id": "06b27c85",
      "metadata": {
        "id": "06b27c85"
      },
      "source": [
        "To check whether a file or directory exists, we can use `os.path.exists`."
      ]
    },
    {
      "cell_type": "code",
      "execution_count": 10,
      "id": "aa56aeac",
      "metadata": {
        "id": "aa56aeac"
      },
      "outputs": [
        {
          "data": {
            "text/plain": [
              "True"
            ]
          },
          "execution_count": 10,
          "metadata": {},
          "output_type": "execute_result"
        }
      ],
      "source": [
        "os.path.exists('photos')"
      ]
    },
    {
      "cell_type": "code",
      "execution_count": 11,
      "id": "9049009a",
      "metadata": {
        "id": "9049009a"
      },
      "outputs": [
        {
          "data": {
            "text/plain": [
              "False"
            ]
          },
          "execution_count": 11,
          "metadata": {},
          "output_type": "execute_result"
        }
      ],
      "source": [
        "os.path.exists('photos/apr-2023')"
      ]
    },
    {
      "cell_type": "markdown",
      "id": "d41f235c",
      "metadata": {
        "id": "d41f235c"
      },
      "source": [
        "To check whether a path refers to a file or directory, we can use `isdir`, which return `True` if a path refers to a directory."
      ]
    },
    {
      "cell_type": "code",
      "execution_count": 12,
      "id": "0feddb06",
      "metadata": {
        "id": "0feddb06"
      },
      "outputs": [
        {
          "data": {
            "text/plain": [
              "True"
            ]
          },
          "execution_count": 12,
          "metadata": {},
          "output_type": "execute_result"
        }
      ],
      "source": [
        "os.path.isdir('photos')"
      ]
    },
    {
      "cell_type": "markdown",
      "id": "4bd70cc9",
      "metadata": {
        "id": "4bd70cc9"
      },
      "source": [
        "And `isfile` which returns `True` if a path refers to a file."
      ]
    },
    {
      "cell_type": "code",
      "execution_count": 13,
      "id": "e9f6a762",
      "metadata": {
        "id": "e9f6a762"
      },
      "outputs": [
        {
          "data": {
            "text/plain": [
              "True"
            ]
          },
          "execution_count": 13,
          "metadata": {},
          "output_type": "execute_result"
        }
      ],
      "source": [
        "os.path.isfile('photos/notes.txt')"
      ]
    },
    {
      "cell_type": "markdown",
      "id": "c6933c18",
      "metadata": {
        "id": "c6933c18"
      },
      "source": [
        "One challenge of working with paths is that they look different on different operating systems.\n",
        "On macOS and UNIX systems like Linux, the directory and file names in a path are separated by a forward slash, `/`.\n",
        "Windows uses a backward slash, `\\`.\n",
        "So, if you you run these examples on Windows, you will see backward slashes in the paths, and you'll have to replace the forward slashes in the examples.\n",
        "\n",
        "Or, to write code that works on both systems, you can use `os.path.join`, which joins directory and filenames into a path using a forward or backward slash, depending on which operating system you are using."
      ]
    },
    {
      "cell_type": "code",
      "execution_count": 14,
      "id": "eb738376",
      "metadata": {
        "id": "eb738376"
      },
      "outputs": [
        {
          "data": {
            "text/plain": [
              "'photos\\\\jan-2023\\\\photo1.jpg'"
            ]
          },
          "execution_count": 14,
          "metadata": {},
          "output_type": "execute_result"
        }
      ],
      "source": [
        "os.path.join('photos', 'jan-2023', 'photo1.jpg')"
      ]
    },
    {
      "cell_type": "markdown",
      "id": "0a665cf9",
      "metadata": {
        "id": "0a665cf9"
      },
      "source": [
        "Later in this chapter we'll use these functions to search a set of directories and find all of the image files."
      ]
    },
    {
      "cell_type": "markdown",
      "id": "31a96ba4",
      "metadata": {
        "id": "31a96ba4"
      },
      "source": [
        "## f-strings\n",
        "\n",
        "One way for programs to store data is to write it to a text file.\n",
        "For example, suppose you are a camel spotter, and you want to record the number of camels you have seen during a period of observation.\n",
        "And suppose that in one and a half years, you have spotted `23` camels.\n",
        "The data in your camel-spotting book might look like this."
      ]
    },
    {
      "cell_type": "code",
      "execution_count": 15,
      "id": "23e7a6a4",
      "metadata": {
        "id": "23e7a6a4"
      },
      "outputs": [],
      "source": [
        "num_years = 1.5\n",
        "num_camels = 23"
      ]
    },
    {
      "cell_type": "markdown",
      "id": "f652aaac",
      "metadata": {
        "id": "f652aaac"
      },
      "source": [
        "To write this data to a file, you can use the `write` method, which we saw in Chapter 8.\n",
        "The argument of `write` has to be a string, so if we want to put other values in a file, we have to convert them to strings.\n",
        "The easiest way to do that is with the built-in function `str`.\n",
        "\n",
        "Here's what that looks like:"
      ]
    },
    {
      "cell_type": "code",
      "execution_count": 16,
      "id": "174d4f83",
      "metadata": {
        "id": "174d4f83"
      },
      "outputs": [],
      "source": [
        "writer = open('camel-spotting-book.txt', 'w')\n",
        "writer.write(str(num_years))\n",
        "writer.write(str(num_camels))\n",
        "writer.close()"
      ]
    },
    {
      "cell_type": "markdown",
      "id": "307c22d2",
      "metadata": {
        "id": "307c22d2"
      },
      "source": [
        "That works, but `write` doesn't add a space or newline unless you include it explicitly.\n",
        "If we read back the file, we see that the two numbers are run together."
      ]
    },
    {
      "cell_type": "code",
      "execution_count": 17,
      "id": "5209eda3",
      "metadata": {
        "id": "5209eda3"
      },
      "outputs": [
        {
          "data": {
            "text/plain": [
              "'1.523'"
            ]
          },
          "execution_count": 17,
          "metadata": {},
          "output_type": "execute_result"
        }
      ],
      "source": [
        "open('camel-spotting-book.txt').read()"
      ]
    },
    {
      "cell_type": "markdown",
      "id": "8008ecdc",
      "metadata": {
        "id": "8008ecdc"
      },
      "source": [
        "At the very least, we should add whitespace between the numbers.\n",
        "And while we're at it, let's add some explanatory text.\n",
        "\n",
        "To write a combination of strings and other values, we can use an **f-string**, which is a string that has the letter `f` before the opening quotation mark, and contains one or more Python expressions in curly braces.\n",
        "The following f-string contains one expression, which is a variable name."
      ]
    },
    {
      "cell_type": "code",
      "execution_count": 18,
      "id": "0f202d66",
      "metadata": {
        "id": "0f202d66"
      },
      "outputs": [
        {
          "data": {
            "text/plain": [
              "'I have spotted 23 camels'"
            ]
          },
          "execution_count": 18,
          "metadata": {},
          "output_type": "execute_result"
        }
      ],
      "source": [
        "f'I have spotted {num_camels} camels'"
      ]
    },
    {
      "cell_type": "markdown",
      "id": "a3fb0556",
      "metadata": {
        "id": "a3fb0556"
      },
      "source": [
        "The result is a string where the expression has been evaluated and replaced with the result.\n",
        "There can be more than one expression."
      ]
    },
    {
      "cell_type": "code",
      "execution_count": 19,
      "id": "33c5f77f",
      "metadata": {
        "id": "33c5f77f"
      },
      "outputs": [
        {
          "data": {
            "text/plain": [
              "'In 1.5 years I have spotted 23 camels'"
            ]
          },
          "execution_count": 19,
          "metadata": {},
          "output_type": "execute_result"
        }
      ],
      "source": [
        "f'In {num_years} years I have spotted {num_camels} camels'"
      ]
    },
    {
      "cell_type": "markdown",
      "id": "bace1539",
      "metadata": {
        "id": "bace1539"
      },
      "source": [
        "And the expressions can contain operators and function calls."
      ]
    },
    {
      "cell_type": "code",
      "execution_count": 20,
      "id": "1fe7111c",
      "metadata": {
        "id": "1fe7111c"
      },
      "outputs": [
        {
          "data": {
            "text/plain": [
              "'In 18 months I have spotted 23 camels'"
            ]
          },
          "execution_count": 20,
          "metadata": {},
          "output_type": "execute_result"
        }
      ],
      "source": [
        "line = f'In {round(num_years * 12)} months I have spotted {num_camels} camels'\n",
        "line"
      ]
    },
    {
      "cell_type": "markdown",
      "id": "bc6fa094",
      "metadata": {
        "id": "bc6fa094"
      },
      "source": [
        "So we could write the data to a text file like this."
      ]
    },
    {
      "cell_type": "code",
      "execution_count": 21,
      "id": "bc06e90a",
      "metadata": {
        "id": "bc06e90a"
      },
      "outputs": [],
      "source": [
        "writer = open('camel-spotting-book.txt', 'w')\n",
        "writer.write(f'Years of observation: {num_years}\\n')\n",
        "writer.write(f'Camels spotted: {num_camels}\\n')\n",
        "writer.close()"
      ]
    },
    {
      "cell_type": "markdown",
      "id": "f916d561",
      "metadata": {
        "id": "f916d561"
      },
      "source": [
        "Both f-strings end with the sequence `\\n`, which adds a newline character.\n",
        "\n",
        "We can read the file back like this:"
      ]
    },
    {
      "cell_type": "code",
      "execution_count": 22,
      "id": "8d9eaf8d",
      "metadata": {
        "id": "8d9eaf8d"
      },
      "outputs": [
        {
          "name": "stdout",
          "output_type": "stream",
          "text": [
            "Years of observation: 1.5\n",
            "Camels spotted: 23\n",
            "\n"
          ]
        }
      ],
      "source": [
        "data = open('camel-spotting-book.txt').read()\n",
        "print(data)"
      ]
    },
    {
      "cell_type": "markdown",
      "id": "c3bf6913",
      "metadata": {
        "id": "c3bf6913"
      },
      "source": [
        "In an f-string, an expression in curly brace is converted to a string, so you can include lists, dictionaries, and other types."
      ]
    },
    {
      "cell_type": "code",
      "execution_count": 23,
      "id": "ae3060c1",
      "metadata": {
        "id": "ae3060c1"
      },
      "outputs": [
        {
          "data": {
            "text/plain": [
              "\"Here is a list [1, 2, 3] and a dictionary {'one': 1}\""
            ]
          },
          "execution_count": 23,
          "metadata": {},
          "output_type": "execute_result"
        }
      ],
      "source": [
        "t = [1, 2, 3]\n",
        "d = {'one': 1}\n",
        "f'Here is a list {t} and a dictionary {d}'"
      ]
    },
    {
      "cell_type": "markdown",
      "id": "838ef132",
      "metadata": {
        "id": "838ef132",
        "tags": []
      },
      "source": [
        "If a f-string contains an invalid expression, the result is an error."
      ]
    },
    {
      "cell_type": "code",
      "execution_count": 24,
      "id": "26ca3d1b",
      "metadata": {
        "id": "26ca3d1b",
        "tags": []
      },
      "outputs": [
        {
          "ename": "TypeError",
          "evalue": "can only concatenate list (not \"int\") to list",
          "output_type": "error",
          "traceback": [
            "\u001b[31mTypeError\u001b[39m\u001b[31m:\u001b[39m can only concatenate list (not \"int\") to list\n"
          ]
        }
      ],
      "source": [
        "%%expect TypeError\n",
        "\n",
        "f'This is not a valid expression {t + 2}'"
      ]
    },
    {
      "cell_type": "markdown",
      "id": "cbbaaed3",
      "metadata": {
        "id": "cbbaaed3"
      },
      "source": [
        "## YAML\n",
        "\n",
        "One of the reasons programs read and write files is to store **configuration data**, which is information that specifies what the program should do and how.\n",
        "\n",
        "For example, in a program that searches for duplicate photos, we might have a dictionary called `config` that contains the name of the directory to search, the name of another directory where it should store the results, and a list of file extensions it should use to identify image files.\n",
        "\n",
        "Here's what it might look like:"
      ]
    },
    {
      "cell_type": "code",
      "execution_count": 25,
      "id": "5bb69e1a",
      "metadata": {
        "id": "5bb69e1a"
      },
      "outputs": [],
      "source": [
        "config = {\n",
        "    'photo_dir': 'photos',\n",
        "    'data_dir': 'photo_info',\n",
        "    'extensions': ['jpg', 'jpeg'],\n",
        "}"
      ]
    },
    {
      "cell_type": "markdown",
      "id": "1667bb96",
      "metadata": {
        "id": "1667bb96"
      },
      "source": [
        "To write this data in a text file, we could use f-strings, as in the previous section. But it is easier to use a module called `yaml` that is designed for just this sort of thing.\n",
        "\n",
        "The `yaml` module provides functions to work with YAML files, which are text files formatted to be easy for humans *and* programs to read and write.\n",
        "\n",
        "Here's an example that uses the `dump` function to write the `config` dictionary to a YAML file."
      ]
    },
    {
      "cell_type": "code",
      "execution_count": 26,
      "id": "0090a29f",
      "metadata": {
        "id": "0090a29f",
        "tags": []
      },
      "outputs": [],
      "source": [
        "# this cell installs the pyyaml package, which provides the yaml module\n",
        "\n",
        "try:\n",
        "    import yaml\n",
        "except ImportError:\n",
        "    !pip install pyyaml"
      ]
    },
    {
      "cell_type": "code",
      "execution_count": 27,
      "id": "97079479",
      "metadata": {
        "id": "97079479"
      },
      "outputs": [],
      "source": [
        "import yaml\n",
        "\n",
        "config_filename = 'config.yaml'\n",
        "writer = open(config_filename, 'w')\n",
        "yaml.dump(config, writer)\n",
        "writer.close()"
      ]
    },
    {
      "cell_type": "markdown",
      "id": "92d1b7ff",
      "metadata": {
        "id": "92d1b7ff"
      },
      "source": [
        "If we read back the contents of the file, we can see what the YAML format looks like."
      ]
    },
    {
      "cell_type": "code",
      "execution_count": 28,
      "id": "8646dd2f",
      "metadata": {
        "id": "8646dd2f"
      },
      "outputs": [
        {
          "name": "stdout",
          "output_type": "stream",
          "text": [
            "data_dir: photo_info\n",
            "extensions:\n",
            "- jpg\n",
            "- jpeg\n",
            "photo_dir: photos\n",
            "\n"
          ]
        }
      ],
      "source": [
        "readback = open(config_filename).read()\n",
        "print(readback)"
      ]
    },
    {
      "cell_type": "markdown",
      "id": "33cdfd2c",
      "metadata": {
        "id": "33cdfd2c"
      },
      "source": [
        "Now, we can use `safe_load` to read back the YAML file."
      ]
    },
    {
      "cell_type": "code",
      "execution_count": 29,
      "id": "e8ce2e4f",
      "metadata": {
        "id": "e8ce2e4f"
      },
      "outputs": [
        {
          "data": {
            "text/plain": [
              "{'data_dir': 'photo_info',\n",
              " 'extensions': ['jpg', 'jpeg'],\n",
              " 'photo_dir': 'photos'}"
            ]
          },
          "execution_count": 29,
          "metadata": {},
          "output_type": "execute_result"
        }
      ],
      "source": [
        "reader = open(config_filename)\n",
        "config_readback = yaml.safe_load(reader)\n",
        "config_readback"
      ]
    },
    {
      "cell_type": "markdown",
      "id": "ca55764f",
      "metadata": {
        "id": "ca55764f"
      },
      "source": [
        "The result is new dictionary that contains the same information as the original, but it is not the same dictionary."
      ]
    },
    {
      "cell_type": "code",
      "execution_count": 30,
      "id": "871d6ad5",
      "metadata": {
        "id": "871d6ad5"
      },
      "outputs": [
        {
          "data": {
            "text/plain": [
              "False"
            ]
          },
          "execution_count": 30,
          "metadata": {},
          "output_type": "execute_result"
        }
      ],
      "source": [
        "config is config_readback"
      ]
    },
    {
      "cell_type": "markdown",
      "id": "969ad306",
      "metadata": {
        "id": "969ad306"
      },
      "source": [
        "Converting an object like a dictionary to a string is called **serialization**.\n",
        "Converting the string back to an object is called **deserialization**.\n",
        "If you serialize and then deserialize an object, the result should be equivalent to the original."
      ]
    },
    {
      "cell_type": "markdown",
      "id": "5e130cf8",
      "metadata": {
        "id": "5e130cf8"
      },
      "source": [
        "## Shelve\n",
        "\n",
        "So far we've been reading and writing text files -- now let's consider databases.\n",
        "A **database** is a file that is organized for storing data.\n",
        "Some databases are organized like a table with rows and columns of information.\n",
        "Others are organized like a dictionary that maps from keys to values; they are sometimes called **key-value stores**.\n",
        "\n",
        "The `shelve` module provides functions for creating and updating a key-value store called a \"shelf\".\n",
        "As an example, we'll create a shelf to contain captions for the figures in the `photos` directory.\n",
        "We'll use the `config` dictionary to get the name of the directory where we should put the shelf."
      ]
    },
    {
      "cell_type": "code",
      "execution_count": 31,
      "id": "70a6d625",
      "metadata": {
        "id": "70a6d625"
      },
      "outputs": [
        {
          "data": {
            "text/plain": [
              "'photo_info'"
            ]
          },
          "execution_count": 31,
          "metadata": {},
          "output_type": "execute_result"
        }
      ],
      "source": [
        "config['data_dir']"
      ]
    },
    {
      "cell_type": "markdown",
      "id": "3e6cfb65",
      "metadata": {
        "id": "3e6cfb65"
      },
      "source": [
        "We can use `os.makedirs` to create this directory, if it doesn't already exist."
      ]
    },
    {
      "cell_type": "code",
      "execution_count": 32,
      "id": "fd070fa7",
      "metadata": {
        "id": "fd070fa7"
      },
      "outputs": [],
      "source": [
        "os.makedirs(config['data_dir'], exist_ok=True)"
      ]
    },
    {
      "cell_type": "markdown",
      "id": "6352f83f",
      "metadata": {
        "id": "6352f83f"
      },
      "source": [
        "And `os.path.join` to make a path that includes the name of the directory and the name of the shelf file, `captions`."
      ]
    },
    {
      "cell_type": "code",
      "execution_count": 33,
      "id": "f5aeb7ab",
      "metadata": {
        "id": "f5aeb7ab"
      },
      "outputs": [
        {
          "data": {
            "text/plain": [
              "'photo_info\\\\captions'"
            ]
          },
          "execution_count": 33,
          "metadata": {},
          "output_type": "execute_result"
        }
      ],
      "source": [
        "db_file = os.path.join(config['data_dir'], 'captions')\n",
        "db_file"
      ]
    },
    {
      "cell_type": "markdown",
      "id": "cbb08679",
      "metadata": {
        "id": "cbb08679"
      },
      "source": [
        "Now we can use `shelve.open` to open the shelf file.\n",
        "The argument `c` indicates that the file should be created if necessary."
      ]
    },
    {
      "cell_type": "code",
      "execution_count": 34,
      "id": "291ea875",
      "metadata": {
        "id": "291ea875"
      },
      "outputs": [
        {
          "data": {
            "text/plain": [
              "<shelve.DbfilenameShelf at 0x236d1da7cb0>"
            ]
          },
          "execution_count": 34,
          "metadata": {},
          "output_type": "execute_result"
        }
      ],
      "source": [
        "import shelve\n",
        "\n",
        "db = shelve.open(os.path.abspath('photo_info\\\\captions'), 'c')\n",
        "db"
      ]
    },
    {
      "cell_type": "markdown",
      "id": "0e4a2fb3",
      "metadata": {
        "id": "0e4a2fb3"
      },
      "source": [
        "The return value is officially a `DbfilenameShelf` object, more casually called a shelf object.\n",
        "\n",
        "The shelf object behaves in many ways like a dictionary.\n",
        "For example, we can use the bracket operator to add an item, which is a mapping from a key to a value."
      ]
    },
    {
      "cell_type": "code",
      "execution_count": 35,
      "id": "b3f6d6ce",
      "metadata": {
        "id": "b3f6d6ce"
      },
      "outputs": [],
      "source": [
        "key = 'jan-2023/photo1.jpg'\n",
        "db[key] = 'Cat nose'"
      ]
    },
    {
      "cell_type": "markdown",
      "id": "36fd5e3a",
      "metadata": {
        "id": "36fd5e3a"
      },
      "source": [
        "In this example, the key is the path to an image file and the value is a string that describes the image.\n",
        "\n",
        "We also use the bracket operator to look up a key and get the corresponding value."
      ]
    },
    {
      "cell_type": "code",
      "execution_count": 36,
      "id": "d4e06b19",
      "metadata": {
        "id": "d4e06b19"
      },
      "outputs": [
        {
          "data": {
            "text/plain": [
              "'Cat nose'"
            ]
          },
          "execution_count": 36,
          "metadata": {},
          "output_type": "execute_result"
        }
      ],
      "source": [
        "value = db[key]\n",
        "value"
      ]
    },
    {
      "cell_type": "markdown",
      "id": "e9b252a7",
      "metadata": {
        "id": "e9b252a7"
      },
      "source": [
        "If you make another assignment to an existing key, `shelve` replaces the old value."
      ]
    },
    {
      "cell_type": "code",
      "execution_count": 37,
      "id": "89a0936c",
      "metadata": {
        "id": "89a0936c"
      },
      "outputs": [
        {
          "data": {
            "text/plain": [
              "'Close up view of a cat nose'"
            ]
          },
          "execution_count": 37,
          "metadata": {},
          "output_type": "execute_result"
        }
      ],
      "source": [
        "db[key] = 'Close up view of a cat nose'\n",
        "db[key]"
      ]
    },
    {
      "cell_type": "markdown",
      "id": "003eacbc",
      "metadata": {
        "id": "003eacbc"
      },
      "source": [
        "Some dictionary methods, like `keys`, `values` and `items`, also work with shelf objects."
      ]
    },
    {
      "cell_type": "code",
      "execution_count": 38,
      "id": "7d0c4cff",
      "metadata": {
        "id": "7d0c4cff"
      },
      "outputs": [
        {
          "data": {
            "text/plain": [
              "['jan-2023/photo1.jpg']"
            ]
          },
          "execution_count": 38,
          "metadata": {},
          "output_type": "execute_result"
        }
      ],
      "source": [
        "list(db.keys())"
      ]
    },
    {
      "cell_type": "code",
      "execution_count": 39,
      "id": "a9db327d",
      "metadata": {
        "id": "a9db327d"
      },
      "outputs": [
        {
          "data": {
            "text/plain": [
              "['Close up view of a cat nose']"
            ]
          },
          "execution_count": 39,
          "metadata": {},
          "output_type": "execute_result"
        }
      ],
      "source": [
        "list(db.values())"
      ]
    },
    {
      "cell_type": "markdown",
      "id": "056e0bd9",
      "metadata": {
        "id": "056e0bd9"
      },
      "source": [
        "We can use the `in` operator to check whether a key appears in the shelf."
      ]
    },
    {
      "cell_type": "code",
      "execution_count": 40,
      "id": "cc81ed95",
      "metadata": {
        "id": "cc81ed95"
      },
      "outputs": [
        {
          "data": {
            "text/plain": [
              "True"
            ]
          },
          "execution_count": 40,
          "metadata": {},
          "output_type": "execute_result"
        }
      ],
      "source": [
        "key in db"
      ]
    },
    {
      "cell_type": "markdown",
      "id": "982740b4",
      "metadata": {
        "id": "982740b4"
      },
      "source": [
        "And we can use a `for` statement to loop through the keys."
      ]
    },
    {
      "cell_type": "code",
      "execution_count": 41,
      "id": "68ff774e",
      "metadata": {
        "id": "68ff774e"
      },
      "outputs": [
        {
          "name": "stdout",
          "output_type": "stream",
          "text": [
            "jan-2023/photo1.jpg : Close up view of a cat nose\n"
          ]
        }
      ],
      "source": [
        "for key in db:\n",
        "    print(key, ':', db[key])"
      ]
    },
    {
      "cell_type": "markdown",
      "id": "b67a0ddc",
      "metadata": {
        "id": "b67a0ddc"
      },
      "source": [
        "As with other files, you should close the database when you are done."
      ]
    },
    {
      "cell_type": "code",
      "execution_count": 42,
      "id": "2b411885",
      "metadata": {
        "id": "2b411885"
      },
      "outputs": [],
      "source": [
        "db.close()"
      ]
    },
    {
      "cell_type": "markdown",
      "id": "a1e08b41",
      "metadata": {
        "id": "a1e08b41"
      },
      "source": [
        "Now if we list the contents of the data directory, we see two files."
      ]
    },
    {
      "cell_type": "code",
      "execution_count": 43,
      "id": "4806720c",
      "metadata": {
        "id": "4806720c",
        "tags": []
      },
      "outputs": [
        {
          "name": "stderr",
          "output_type": "stream",
          "text": [
            "'rm' is not recognized as an internal or external command,\n",
            "operable program or batch file.\n"
          ]
        }
      ],
      "source": [
        "# When you open a shelve file, a backup file is created that has the suffix `.bak`.\n",
        "# If you run this notebook more than once, you might see that file left behind.\n",
        "# This cell removes it so the output shown in the book is correct.\n",
        "\n",
        "!rm -f photo_info/captions.bak"
      ]
    },
    {
      "cell_type": "code",
      "execution_count": 44,
      "id": "59eb2dde",
      "metadata": {
        "id": "59eb2dde"
      },
      "outputs": [
        {
          "data": {
            "text/plain": [
              "['captions']"
            ]
          },
          "execution_count": 44,
          "metadata": {},
          "output_type": "execute_result"
        }
      ],
      "source": [
        "os.listdir(config['data_dir'])\n"
      ]
    },
    {
      "cell_type": "markdown",
      "id": "97453006",
      "metadata": {
        "id": "97453006"
      },
      "source": [
        "`captions.dat` contains the data we just stored.\n",
        "`captions.dir` contains information about the organization of the database that makes it more efficient to access.\n",
        "The suffix `dir` stands for \"directory\", but it has nothing to do with the directories we've been working with that contain files."
      ]
    },
    {
      "cell_type": "markdown",
      "id": "0033e4f5",
      "metadata": {
        "id": "0033e4f5",
        "tags": []
      },
      "source": [
        "## Storing data structures\n",
        "\n",
        "In the previous example, the keys and values in the shelf are strings.\n",
        "But we can also use a shelf to contain data structures like lists and dictionaries.\n",
        "\n",
        "As an example, let's revisit the anagram example from an exercise in [Chapter 11](section_exercise_11).\n",
        "Recall that we made a dictionary that maps from a sorted string of letters to the\n",
        "list of words that can be spelled with those letters.\n",
        "For example, the key `'opst'` maps to the list `['opts', 'post', 'pots', 'spot', 'stop', 'tops']`.\n",
        "\n",
        "We'll use the following function to sort the letters in a word."
      ]
    },
    {
      "cell_type": "code",
      "execution_count": 8,
      "id": "8819b211",
      "metadata": {
        "id": "8819b211"
      },
      "outputs": [],
      "source": [
        "def sort_word(word):\n",
        "    return ''.join(sorted(word))"
      ]
    },
    {
      "cell_type": "markdown",
      "id": "8c24316c",
      "metadata": {
        "id": "8c24316c"
      },
      "source": [
        "And here's an example."
      ]
    },
    {
      "cell_type": "code",
      "execution_count": 46,
      "id": "fc8f1434",
      "metadata": {
        "id": "fc8f1434"
      },
      "outputs": [
        {
          "data": {
            "text/plain": [
              "'opst'"
            ]
          },
          "execution_count": 46,
          "metadata": {},
          "output_type": "execute_result"
        }
      ],
      "source": [
        "word = 'pots'\n",
        "key = sort_word(word)\n",
        "key"
      ]
    },
    {
      "cell_type": "markdown",
      "id": "7c5d7555",
      "metadata": {
        "id": "7c5d7555"
      },
      "source": [
        "Now let's open a shelf called `anagram_map`.\n",
        "The argument `'n'` means we should always create a new, empty shelf, even if one already exists."
      ]
    },
    {
      "cell_type": "code",
      "execution_count": 47,
      "id": "f2f17f05",
      "metadata": {
        "id": "f2f17f05"
      },
      "outputs": [],
      "source": [
        "\n",
        "db = shelve.open(os.path.abspath('penis'), 'n')"
      ]
    },
    {
      "cell_type": "markdown",
      "id": "6b495e79",
      "metadata": {
        "id": "6b495e79"
      },
      "source": [
        "Now we can add an item to the shelf like this."
      ]
    },
    {
      "cell_type": "code",
      "execution_count": 48,
      "id": "b918dcfe",
      "metadata": {
        "id": "b918dcfe"
      },
      "outputs": [
        {
          "data": {
            "text/plain": [
              "['pots']"
            ]
          },
          "execution_count": 48,
          "metadata": {},
          "output_type": "execute_result"
        }
      ],
      "source": [
        "db[key] = [word]\n",
        "db[key]"
      ]
    },
    {
      "cell_type": "markdown",
      "id": "f058dff1",
      "metadata": {
        "id": "f058dff1"
      },
      "source": [
        "In this item, the key is a string and the value is a list of strings.\n",
        "\n",
        "Now suppose we find another word that contains the same letters, like `tops`"
      ]
    },
    {
      "cell_type": "code",
      "execution_count": 49,
      "id": "e0d728e6",
      "metadata": {
        "id": "e0d728e6"
      },
      "outputs": [
        {
          "data": {
            "text/plain": [
              "'opst'"
            ]
          },
          "execution_count": 49,
          "metadata": {},
          "output_type": "execute_result"
        }
      ],
      "source": [
        "word = 'tops'\n",
        "key = sort_word(word)\n",
        "key"
      ]
    },
    {
      "cell_type": "markdown",
      "id": "a215367d",
      "metadata": {
        "id": "a215367d"
      },
      "source": [
        "The key is the same as in the previous example, so we want to append a second word to the same list of strings.\n",
        "Here's how we would do it if `db` were a dictionary."
      ]
    },
    {
      "cell_type": "code",
      "execution_count": 50,
      "id": "12e39086",
      "metadata": {
        "id": "12e39086"
      },
      "outputs": [],
      "source": [
        "db[key].append(word)          # INCORRECT"
      ]
    },
    {
      "cell_type": "markdown",
      "id": "e1a83f39",
      "metadata": {
        "id": "e1a83f39"
      },
      "source": [
        "But if we run that and then look up the key in the shelf, it looks like it has not been updated."
      ]
    },
    {
      "cell_type": "code",
      "execution_count": 51,
      "id": "b0dc42e0",
      "metadata": {
        "id": "b0dc42e0"
      },
      "outputs": [
        {
          "data": {
            "text/plain": [
              "['pots']"
            ]
          },
          "execution_count": 51,
          "metadata": {},
          "output_type": "execute_result"
        }
      ],
      "source": [
        "db[key]"
      ]
    },
    {
      "cell_type": "markdown",
      "id": "32a56de9",
      "metadata": {
        "id": "32a56de9"
      },
      "source": [
        "Here's the problem: when we look up the key, we get a list of strings, but if we modify the list of strings, it does not affect the shelf.\n",
        "If we want to update the shelf, we have to read the old value, update it, and then write the new value back to the shelf."
      ]
    },
    {
      "cell_type": "code",
      "execution_count": 52,
      "id": "b4105610",
      "metadata": {
        "id": "b4105610"
      },
      "outputs": [],
      "source": [
        "anagram_list = db[key]\n",
        "anagram_list.append(word)\n",
        "db[key] = anagram_list"
      ]
    },
    {
      "cell_type": "markdown",
      "id": "a054f537",
      "metadata": {
        "id": "a054f537"
      },
      "source": [
        "Now the value in the shelf is updated."
      ]
    },
    {
      "cell_type": "code",
      "execution_count": 53,
      "id": "4f737cd9",
      "metadata": {
        "id": "4f737cd9"
      },
      "outputs": [
        {
          "data": {
            "text/plain": [
              "['pots', 'tops']"
            ]
          },
          "execution_count": 53,
          "metadata": {},
          "output_type": "execute_result"
        }
      ],
      "source": [
        "db[key]"
      ]
    },
    {
      "cell_type": "markdown",
      "id": "ca02c0d7",
      "metadata": {
        "id": "ca02c0d7"
      },
      "source": [
        "As an exercise, you can finish this example by reading the word list and storing all of the anagrams in a shelf."
      ]
    },
    {
      "cell_type": "code",
      "execution_count": 54,
      "id": "5395780f",
      "metadata": {
        "id": "5395780f",
        "tags": []
      },
      "outputs": [
        {
          "ename": "KeyboardInterrupt",
          "evalue": "",
          "output_type": "error",
          "traceback": [
            "\u001b[31mKeyboardInterrupt\u001b[39m\n"
          ]
        }
      ],
      "source": [
        "reader = open('words.txt')\n",
        "for word in reader:\n",
        "    if sort_word(word) in db:\n",
        "        anus = db[sort_word(word)]\n",
        "        anus.append(word)\n",
        "        db[sort_word(word)] = anus\n",
        "    else:\n",
        "        db[sort_word(word)] = [word]\n",
        "        "
      ]
    },
    {
      "cell_type": "markdown",
      "id": "b1336e56",
      "metadata": {
        "id": "b1336e56",
        "tags": []
      },
      "source": [
        "## Checking for equivalent files\n",
        "\n",
        "Now let's get back to the goal of this chapter: searching for different files that contain the same data.\n",
        "One way to check is to read the contents of both files and compare.\n",
        "\n",
        "If the files contain images, we have to open them with mode `'rb'`, where `'r'` means we want to read the contents and `'b'` indicates **binary mode**.\n",
        "In binary mode, the contents are not interpreted as text -- they are treated as a sequence of bytes.\n",
        "\n",
        "Here's an example that opens and reads an image file."
      ]
    },
    {
      "cell_type": "code",
      "execution_count": 56,
      "id": "a3104fc7",
      "metadata": {
        "id": "a3104fc7"
      },
      "outputs": [
        {
          "data": {
            "text/plain": [
              "b'\\xff\\xd8\\xff\\xe1\\x00\\xdeExif\\x00\\x00II*\\x00\\x08\\x00\\x00\\x00\\x06\\x00\\x12\\x01\\x03\\x00\\x01\\x00\\x00\\x00\\x01\\x00\\x00\\x00\\x1a\\x01\\x05\\x00\\x01\\x00\\x00\\x00V\\x00\\x00\\x00\\x1b\\x01\\x05\\x00\\x01\\x00\\x00\\x00^\\x00\\x00\\x00(\\x01\\x03\\x00\\x01\\x00\\x00\\x00\\x02\\x00\\x00\\x00\\x13\\x02\\x03\\x00\\x01\\x00\\x00\\x00\\x01\\x00\\x00\\x00i\\x87\\x04\\x00\\x01\\x00\\x00\\x00f\\x00\\x00\\x00\\x00\\x00\\x00\\x00H\\x00\\x00\\x00\\x01\\x00\\x00\\x00H\\x00\\x00\\x00\\x01\\x00\\x00\\x00\\x07\\x00\\x00\\x90\\x07\\x00\\x04\\x00\\x00\\x000210\\x01\\x91\\x07\\x00\\x04\\x00\\x00\\x00\\x01\\x02\\x03\\x00\\x86\\x92\\x07\\x00\\x15\\x00\\x00\\x00\\xc0\\x00\\x00\\x00\\x00\\xa0\\x07\\x00\\x04\\x00\\x00\\x000100\\x01\\xa0\\x03\\x00\\x01\\x00\\x00\\x00\\xff\\xff\\x00\\x00\\x02\\xa0\\x04\\x00\\x01\\x00\\x00\\x00@\\x01\\x00\\x00\\x03\\xa0\\x04\\x00\\x01\\x00\\x00\\x00\\xf0\\x00\\x00\\x00\\x00\\x00\\x00\\x00ASCII\\x00\\x00\\x00Picsum ID: 40\\x00\\xff\\xdb\\x00C\\x00\\x08\\x06\\x06\\x07\\x06\\x05\\x08\\x07\\x07\\x07\\t\\t\\x08\\n\\x0c\\x14\\r\\x0c\\x0b\\x0b\\x0c\\x19\\x12\\x13\\x0f\\x14\\x1d\\x1a\\x1f\\x1e\\x1d\\x1a\\x1c\\x1c $.\\' \",#\\x1c\\x1c(7),01444\\x1f\\'9=82<.342\\xff\\xdb\\x00C\\x01\\t\\t\\t\\x0c\\x0b\\x0c\\x18\\r\\r\\x182!\\x1c!22222222222222222222222222222222222222222222222222\\xff\\xc2\\x00\\x11\\x08\\x00\\xf0\\x01@\\x03\\x01\"\\x00\\x02\\x11\\x01\\x03\\x11\\x01\\xff\\xc4\\x00\\x1b\\x00\\x00\\x02\\x03\\x01\\x01\\x01\\x00\\x00\\x00\\x00\\x00\\x00\\x00\\x00\\x00\\x00\\x03\\x04\\x01\\x02\\x05\\x00\\x06\\x07\\xff\\xc4\\x00\\x18\\x01\\x01\\x01\\x01\\x01\\x01\\x00\\x00\\x00\\x00\\x00\\x00\\x00\\x00\\x00\\x00\\x00\\x00\\x01\\x02\\x03\\x04\\xff\\xda\\x00\\x0c\\x03\\x01\\x00\\x02\\x10\\x03\\x10\\x00\\x00\\x01q9\\x1aA\\xd6\\x9c\\xea\\xf9\\xcfg\\xcd\\\\\\x10\\xf5\\xcaD\\n\\xf63uM\\x9d\\x1b\\x8fYe\\xa5\\x8a\\xb2\\xe0\\x1f\\xb9\\xb5\\x94\\xb16\\xe3\\x94\\xbc:\\x96a~\\xb0\\xf5\\xa5j\\xd9O*\\x82s\\x07{Yb\\xac\\x8f:\\xd0&y\\xe5\\xb2&\\xc8%\\x10^\\xd8\\xeaY\\x9c\\xf2\\xbe\\xa2\\xadB\\x8eY2\\xb5\\x1aU]\\x0b\\x17\\xeb\\x1f:\\x19\\xed\\n&\\xc3iY\\x99\\x1ahY]k\\x9a\\x1cr\\r\\xa2\\x01\\x1bCQZ\\x89\\xa1\\xcc\\xe8i\\x1b34\\x95\\xeb=*m+*\\xe4\\x1d\\xa5\\xb6S\\xd9v^@\\xca\\xaal\\xbb\\x0c\\x08\\xd0\\tk\\x06R\\xc4\\xc0\\xb3\\x15\\xe5hc\\xbc0!\\x1a^\\x83\\x89L\\xe2mC\\x07\\\\\\x97-0\\x12\\xdc\\xdd\\x85\\x9aZ\\xa8\\xc8+\\xa79\\xb4\"\\xb0S*\\xed\\x0e\\xcdJM\\x12x\\x8a59\\xa5\\x11\\xd1K\\x19\\xebh\\xa8\\xb2 \\xbb\\x15Y\\x90\\x83%\\x19\\x95\\x0em@@\\xbd\\xc6N\\xab\\x90S\\x05\\x85\\xabh7-\\x9eX\\xda\\xcbq\\x14\\xb9\\xd0a6\\x89X\\xb4\\x17P,\\x0b\\x81\\xbc\\xcdMRgh\\xcb\\xc6\\x13\\x08\\x100\\xb2\\x8e\\xad.\\x08n\\xa8Q%\\xfa[\\xc5J\\xa0\\xeb\\x86-k\\xd5h\\x03\\xaf o^\\xa7\\x00S\\x14\\xd3\\xc9f\\x0c\\xd8,4P\\xde\\xc7)R\\xd3\\xbd[\\'\\x14\\x052i1F\\x15AsM\\xa8b^\\xa32\\xa9P\\xd7\\x16\\xb9$]V\\xeay3\\x0e\\xf9\\xd8\\ts\\x81d\\x0c\\x15\\x1ft\\xb03\\x88Yg\\xb3\\xd2\\xae\\xa760u\\x8ej@\\xddJ\\x1d2Z\\xf5\\xc2d\\xa9\\x97\\r\\x9a\\x07\\x03\\x08\\x86s\\xa9(^\\x1b(\\xebt1u^\\xac\\xab$\\xf9)*\\xb5Q2\\\\\\x07\\x95jY\\xe7\\xd0Rj\\xa8h\\xdf\"\\xd4iE\\xa4\\x95\\x83<o(\\x99\\xc3e{,\\xe8\\x0ba\\xdaP\\xe6\\x85e\\x85]\\xdc\\xfe\\xb1\\x9a\\xd6\\x88\\xee\\x82\\xcck\\x00\\xc5\\xdd\\xc6R\\xebcz<\\xd1\\x9b\\x88V$a:\\xc4)FmY\\xc1\\xd1\\x1c|\\xff\\x00_:\\xf8\\xeb\\xa0\\x15`c\\xa84j\\xd1yo\\x05\\xbc\\xd2\\x99\\x9b\\xeb\\xa7\\x98\\x1d\\x19\\xde*TiZg\\xcbl\\xdb\\xbe>\\x92\\xd0\\xa2,\\xbdy\\x06\\xa3\\xedeW|\\xb6\\x03\\x95\\xaf%\\xf6\\x16\\xd0\\xc6\\xe4-T\\xa7R\\xd6Xp\\xb5\\x19\\x8c\\xfd\\x03\\xb8\\xa4<\\x9a\\xda\\x94\\xe5\\xdb\\xce)\\xea3\\x91\\x1b\\x90:\\x82\\xd3\\xc6|x\\xe2{:\\x1d\\xa6\\xc6F\\x1f\\xb0\\xca\\xd6p[\\xa8\\xf3\\xa6X\\xce\\xd5\\xce\\xcc\\xc4\\x92is-u-\\xab7%:mu\\xe2\\xa7\\xa2\\xe6\\xb5\\xce/k\\x03\\xa1\\x07\\x19\\xaa\\xe8&9\\xd0\\xe0\\x17*Z\\xe9\\x8e\\xaf\\x18\\xdeqx\\xf5~1\\x9a\\xb5\\xd5\\x0fX\\xcd#\\xe6H\\xb4\\\\\\xee\\xbc\\xd5\\x16h\\xb6cf\\xfa\\xa5l\\xf9\\xf2\\xbe\\xd7\\xc7\\xaf\\xac\\xd0\\xc5\\xd9\\xe5\\xdb3G\\x17\\xd2\\xca\\x1c\\x1d\\xb4{\\xf9\\xf7\\xb6\\xc4\\xce\\xb9\\xcd\\xabu\\x8e\\x9e\",\\x18\\xb0\\xed\\x04\\xd9~\\x18\\x9a\\x90\\x89\\x99\\xaf3B\\xcf\\x1e\\xc8\\xa7\\xb03\\x1e\\xbbA\\xb1F\\xe6\\xca\\x83F\\xe4\\xbb\\t\\xb5F\\xady\\x92\\x10f\\xd4S\\xc6\\xfd\\x014\\xf9\\xcf\\xa6\\xf3&\\xce\\xed\\xea\\xfc\\x1b\\xea\\xf6\\xe7\\x9f\\xfa\\x06\\xf9\\xb2\\xcdn\\x9d=5\\x11n*3D-\\rp\\x1b\\x13\\x88\\x9e\\xea\\x9e\\x89<iY\\xaf.\\xb101\\x9eL\\x830\\x03U\\xa2\\xc6JZ\\xa2\\xab\\xd4\\xb5J\\xb69\\xb1\\x93\\x06\\xf79\\x9e\\x07\\xea>\\x1e\\xbc\\xa6\\x8b\\xbb\\x19\\xd6\\x8e\\xda:\\x16\\x10\\xa0\\x94?S\\xaa\\xf3^-\\xd5\\xe2\\xd1\\xdcwO\\x11\\xd3\\x07W\\xa2<\\xb3(;\\x8e\\x84\\x8e\\x95\\xe8\\xb4\\xa0\\xadkT\\x01\\x89E\\x99\\x19N\\x11D\\x94jke\\xee\\x1bY\\x18:^p\\x8d\\xef3\\xe8\\xa5\\xd68mah\\xcf\\x04\\xb5IU%nOt\\x16\\xea\\xc9\\xdd\\x1cEm\\x11\\xd3N<\\xb0\\x95\\xb6:6\\xda\\x95\\x1f\\x95X\\xa2t\\x11)j@k\\x06P\\x9dN\\xb0\\xd5Qj\\xd4\\xcf\\xc8J\\x1f\\xf3\\xfa\\xf6\\xce\\xb2\\xb5\\xd3r\\xdf@L\\r+\\x8d\\xabf\\xb5c\\xe4E\\x80\\xf7\\xa5\\xaa\\xd3\\x1cwt\\x1d\\x11\\x11=X/\\x15\\x93\\xc5J\\xfd\\x8e\\x96\\xe04\\x1c\\xca\\xdaW\\xc8\\x99\\xe8\\xcb\\x98b\\x10U\\xac\\xe0M\\xca\\x14\\xee\\xa2\\x8bjMbN\\x9a\\xd3Bp\\x8f\\xa6k\\x8cM\\xc8\\x88C\\\\\\xd0\\xc7\"T\\x93j\\x89\\x98Z\\xd7\\xab\\x1d\\x1d\\x07Md\\x9e\\xe9?\\xff\\xc4\\x00+\\x10\\x00\\x02\\x02\\x02\\x01\\x04\\x01\\x05\\x00\\x02\\x02\\x03\\x00\\x00\\x00\\x00\\x01\\x02\\x00\\x11\\x03\\x12!\\x04\\x10\\x13\"1 #02A\\x143\\x05$@BC\\xff\\xda\\x00\\x08\\x01\\x01\\x00\\x01\\x05\\x02\\x8ey\\xe6Y\\x11\\x98\\xd16\\x7f\\x80F@e\\xdc\\x1f\\xbd\\x0b\\x1cM\\x94Ee\\xb0\\xc1\\x99\\x17#\\xb7\\xf8\\xf9\\x18\\xa20\\xc9\\xeb\\x91\\xd3%\\xba\\xe1\\xc9\\x8c\\xfd\\xd2\\xea\\xaa\\xf9*\\x88\\x00\\xcf\\x82y\\x87\\x99\\x93\\xd5\\xf6\\x83\\xd9W\\xd9Uh\\xa7\\xc1\\x8cj6H\\xefp\\xcf0\\x81\\x95\\x8b\\xe4\\t\\x13.\\xd3!\\x15\\x03{\\x0c{\\x0c\\xd8\\xb4\\x98\\xb6W\\x16\\xf9/\\xd9\\x00\"\\x91T,T1\\x06\\xcc\\xbd:P\\xc4LL\\x1a\\x9c\\xbd\\x12\\x881\\x85\\x1d-k\\xc3<F\\x9f\\xb8[Q\\x91\\xa1]\\xc3\\x93\\xe4\\xc3\\xfa\\x81\\x1a&Y\\xe4\\x8e\\xf3#F\\xcb\\xce\\xdbF\\xc5\\x06 \\x06Lf\\xd4\\x85Z.Yu!`e\\x8b\\xa9k\\xa9\\x88\\xeb\\x15x\\x07\\x8d\\t#`@\\x04\\xaa\\x86\\'^\\x9en\\xe4f\\x08\\xd8\\xf0\\x06\\x07\\x86,\\x02u\\x05G\\x90\\xa7\\x0cf&&1\\xda\\x057\\xb0\\x07*\\x90\\xfd)\\xb0\\x04\\xc9\\xf2`h\\xdf\\r\\xeaJ\\x06\\x81\\x00\\x9b\\x99\\xed\\x19\\xd0\\xa8\\xc6\\x0coBZ{\\x10}T6\\xa4\\x85%j\\x82\\xfd\\xa5^I\\xbc\\x9f3\\x18X\\x14\\xa1\\xc8\\xe6\\x90*\\xafQ\\xfe\\xb6\\xb7\\xc7\\x8e\\xbcE6\\x86\\xfc\\xcd\\r)\\xdb\\xdb\\x88\\xef\\x00\\x0ez\\x83\\xce\\x0c\\x9a\\xc4\\xc8\\n\\xe5\\xe6(\\x95\\x1d\\xb5\\x992\\x06\\x88\\xd3\\xe6\\x1d\\x03yT\\xa9\\xc7\\xc0F\\x9e:\\x8f[\\x06\\xe5\\xd8\\xcdvLM\\xea5\\x89a\\x0b\\x1f\\x1e\\xc2\\x1c\\xc5\\xa6\\xf8\\xdd\\xb9\\xd1\\xdfe@\\x1ePLm\\xb9\\x96\\x0e\"w\\x1f\\xb2s[y\\x19l\\xcf\\xe9\\xe6\\x04(\\xd9\\xbf|)\\xc6?\\xd5\\x9b\\xb5\\xc6 \\xc3\\xd3\\t\\xe2\\x87\\x88\\xa8A$\\x03`\\xa8m&L\\xa5\\xcf\\xc0\\xe2\\xae+Q\\xadr7\\xa3&a\\xb2\\xb6\\xd8\\xdd\\x0b\\xc3h.\\x1e\\x12\\xe8\\x05\\x0b\\x19\\x89\\xeaC1e\\xd5\\xb1\\xa2x\\xdb\\x8b&\\x8a*\\xd6$p\\xe3(W\\x19\\xbe\\xe6\\xf62\\xa8\\x83f\\x9f\\x00\\x8eH\\xa0\\xf0\\xabC\\x94\\xac\\xf2\\x19\\xb4}\\x96S@8?\\x17\\xae4\\xe4\\x90Ilg@Lm\\x96>Be\\x931ZK\\x1bt\\xec!b\\xc0\\xda\\x14\\xe613\\x19\\x1aba\\x8f\\x0e=a\\xa5Ab\\x01\\xe8\\x7f@C3\\x15fv\\xach\\xdc\\x96\\xb8\\xcd\\xea.|\\xc7z\\x8c\\xdc#\\x18Sf|s\\x81\\x1c\\x18X\\xcb6\\xb9\\x05\\x03,O\\xe8\\x06h\\x0c\\xc9\\xea\\xa9d\\xd7\\x8d\\xc03\\x811\\x10\\x1b>0\\xf1\\x7f\\xd9\\x8e8\\xd4\\xb5M\\xbe\\xf67\\xf1\\x9f\\xd8\\x83\\xa66z\\x04P\\xcatL@\\x15\\xeaSi\\xfa\\xba\\xae\\xf3\\xe2\\x170{\\x07K\\x81L\\n#Z\\x90\\xf1\\xb9f\\xc8\\xa6\\x17\\x87\\x88\\x91\\xed\\x8e\\xa1BR\\x97\\xca\\xcd\\x05\\xc6\\x06\\xcd\\xa4\\xe5\\xe0\\x1f\\x7f\\x82UW \\xc7k\\x11i\\x9d\\xad\\x7fh\\x97\\x14\\xff\\x00\\xd9\\xc0Ku\\xbe\\x95\\x7fm\\x0e\\x98\\xef\\xed\\xf8\\xc6\\xde&\\xf1\\x93\\xb3\\x94Y\\x8f\\x11V\\xc4\\x95\\n\\x99\\xc8\\x8c\\xd1M\\xf6\\xab\\x87\\x10\\x8d\\x8e\\xa6\\x82PS\\xb1\\x84\\xfa\\xfc(\\xc6{P1\\xe3\\xa5\\xca\\xb8n\\xfc\\xa5M\\x0f\\x1a\\xe4\\xc8\\xd0\\x02\\xd9Wc\\x8f\\x95\\xe9\\xff\\x00\\xf4\\xc2j\\x067\\x8d\\xfe\\xe9z\\x0f\\x95@\\xf9g\\x16\\x0e\\xf6\\xd9\\x85\\x07\\x07&4l\\x99UI\\x9aP\\x17B\\x8co\\x9aZ\\xd7\\xb1\\xbe\\xc0\\\\\\xd6\\xa1z\\x8b\\xed.%Bo\\xb5\\xef\\x1b\\x10\\x13K$\\x9b~F\\xf3\\x13\\x15\\x88vT\\xe7\\x1e@W\\x03?\\x8b\\x03\\xdf\\x98\\x80X\\x16\\xbc\\x9e\\xcdH\\xa2\\x89V\\xf7\\xc5\\xa0L\\xac1\\xc0u\\xc9\\x8e\\xd6S^\\x84O\\xe7\\xf5\\xb1\\xec4t;w\\xf9\\x955\\x9e0 \\x1c\\x03\\xce\\xb2\\xb9\\xe2p\\x81\\x94\\x18^\\x94\\xfc\\xeaU\\x9c\\xb2\\xc5\\xa1/b}W\\xfd\\x80\\xfd\\xb1aW \\x11\\xf2\\xa9j@Kx\\xd3\\x12\\x1f\\x1a\\x1f\\\\\\xa9\\xed\\xa8f{3\\x15\\x92Z+O\\xda2ND\\xa8TJ\\x8c\\xbd\\xc2\\xdc\\xd6Tlaf\\xd5*\\xe7\\xc1\\x1a\\x03\\xbd\\x93\\xa9\\x8c\\xa0F\\x04\\xa9\\xd4\\x84\\xf6\\x18\\xa0\\xf5\\xc3\\x8c\\xa8R\\xad\\xa2\\x00\\xed\\xb9S\\x91@L\\xfe\\x85Yn\\xcb\\xc5\\xf9\\xcc\\x8b\\xa9\\x98n\"v\\xf8\\x84\\xd4\\rr\\xa5Mf\\xb1\\x84\\xd6\\n\\x83\\xb5\\x88\\xd5A#\\xacf\\x8b\\x8d67\\xabc\\x002\\x822(\\x80,$C\\xc1ola>\\xe3\\x9a\\t\\xaa\\x92\\x15r\\x0c\\x84(\\x1fs\\x86\\xc6\\xa3\\xd8\\x8bC\\x05\\xe3l\\x18\\xcf\\x90-No\\xf9\\xf2\\x02\\x919\\xec%MaY\\x85\\xb9\\x05a~.r`\\xb1\\x08\\xf2A\\xd3\\x81?XZ>%\\xcb2\\x8f\\x1cl\\x80\\x0cc\\xda\\xc5\\x07\\x0cKE1]J\\x9f\\xf6gn9\\'\\x19]?\\xf9y\\x08\\x9ee\\x83\\xe7O|X\\xe9\\xa7\\x04\\x11\\xce\\xb0\\t\\xc4$A\\x92m\\xd8\\t\\xa5\\x1eD\\xday\\x80\\x8a\\xc5\\xe3o\\x13\\xc9V\\x14\\xec)jP\\xbc\\xd8\\xads\\xe2(\\xf6\\x08f\\x02\\x0b\\x9e\\xc5@`\\xc8\\xadj\\xbc\\xf8\\xf1\\xd0[\\x83\\x17\\xa7\\x88\\xaa\\xd1 \\xef\\x13;\\x07\\xea\\x1bd\\xc2\\x83P\\x93P!\\x9b\\\\\\x06\\x13\\x18\\xc4\\x8a%J\\x87\\x18\\xb7\\xc7\\x1f\\x19\\x9ak<\\xc1G\\x95\\x8c\\xdf\\xdd?P\\x9b\\x9f\\x0f?\\xdd\\x94\\xcc\\xd8<\\x87&?\\x14\\x18\\x83\\xc1\\x84@\\xa2\\x01\\xc0\\x8b\\x08\\xa0\\x0c\\xb8>\\x01\\x17\\xfc=0|\\xab\\x89uU\\x02Wc39H\\x9d@h\\x08#X\\x8b\\x00\\xef\\xf3*\\x14\\xb9\\x9b\\x0c\\\\\\x02\\xb2MJ\\x94\\xcd1\\xe4f<\\x98q\\xabMc\\x1e2a&\\x15(\\xc7\\xa9t\\x83\\xac\\xc7x\\xdd\\\\(\\x11\\x87\\x0c}\\x80\\x9f1\\xd9q\\xae&\\xf2\\xccxY\\x8a\\xe2\\xa0\\xa2\\x87k0\\x93\\x0f\\xb4\\xf0\\x0b\\\\u\\x00\\x83\\xe8\\\\\\xd1^\\xe5\\x88B\\x99\\xaa\\xc7P\\xd1\\xf0\\x19\\x8f\\xa6\\xe6\\xb8\\xe2\\x85\\x08y\\x9a\\xdc8\\x81g\\xc1g.\\x0e\\x1f\\x11\\x81\\x9f\\x0b\\xf4\\xf9|\\x98\\xcc\\xc8o2\\x8b\\x9dC\\x8e\\x9f\\xa7Lo\\x98\\xf4\\x88VP\\xfa\\xca\\xcde}^8G\\xa7\\xb4W\\x13xr\\xd4\\r\\xb4\\xdd{,\\xb1.\\xa1f1D+q\\xd00\\xea:va\\x99*tm\\xf6\\xff\\x00\\x85\\xaf\\xaa\\xc4\\x93\\xfeT\\x8f\\xf1\\x7f\\xe3\\xfe1\\x82\\x07\\xd4^\\xa6\\xe2l!x\\xa4\\x99R\\xbb\\x94\\x9a\\xf0\\xc9\\n4+\\x96h\\xf1V\\xa6\\xca\\xa3\\xceK\\x02\\xe6(\\xae\\xd5R\\xe5\\x13\\x08\\xa9\\x9b\\x0e\\xeb\\xd6\\xf4\\xbe3\\xd3d*FKD{\\xea\\xb1\\xe6\\x08\\x9dV\\x7f>^\\x9b\\x15\\xccc\\xd7\\xea+4\\x9e9\\xa4\\xd7\\xe9\\xdb\\xb1\\xedSK>9\\xa4\\xd0/e\\xb8\\xa0\\x98L\\x1c@B\\xc0n\\x02/\\xaa\\xe9\\xc6lyp\\xb6,\\xa3!\\xd1Z\\xb2\\xb6v\\xd7\\xa6\\xe9\\x9b&l8\\xc65\\xff\\x00\\xc0\\xf6\\x80\\x99r\\xe5\\x89bq\\xdbY\\xac\\x0b\\x0c\\xa8DP \\x1c(\\x9f\\xcc\\xfd\"\\xe6\\xc6\\xd8\\x1d`F91a\\xbc\\x98V\\xb2@\\x7f=\\xce%J\\x86j`\\x1d\\xae\\xa0\\xb6\\x9c\\x08r\\x01,\\xb1\\xfeV\\xd3\\x80\\x01\\x81\\xa0<\\xed\\xed\\xd5X\\xca\\x00\\x9d>?mA\\x8b\\xf1\\xf16\\x97/\\xf2TV\\xb9r\\xaeWj\\x95*|\\x03f\\x0e 0\\xcf-Eb\\xe4z\\xc1\\x92)\\xb1\\xe5\\xe7\\xa9\\xa3,m\\x8f\\x83\\x8f\\xd8]Cf+\\x18\\x0f\\xe6@`\\xe2m\\xf5\\x05\\x86\\xa5@#\\x08PD\\x027%V\\xe1<P\\x03&Kd`r\\xe1}\\x99\\x06\\xa1Z\\t@\\xc1\\xf9\\xae\\x17\\x8an\\t\\x7fF\\xd0v\\xbe\\xd5.\\xa0\\x8d\\x90(\\xc9\\x9c\\x05\\xcf\\xd4^2I\\x889\\xc2i\\x937\\n`6\\xa0\\xd4\\xbb\\xfc\\xc5\\x89\\x8a\\xb7\\x05,\\xf2@\\xd0\\x189\\'\\xb03n\\xdbO \\xaf \\x878\\x00\\xe6f,X\\xc4\\xc7a\\xb0\\x804\\xa6+Q.\\xd2\\xefz\\x88\\xf7.+~Z\\xa9\\xbdFx\\x93h\\x1a+K\\x97\\x0bC\\x94\\x83\\xfeA#\\xfc\\x83\\x1b+\\x18\\x1c\\xeb\\x8f\\x11y\\xe1\\x00\\x1c<\\xf2\\xb3b\\xd3\\xc7\\xc9\\xc5aR\\xa0\\x12\\xa2\\xac\\xd6(\\xaf\\xcaM\\x99\\xf2W\\xb8\\x83\\xb1\\x11\\xb1O\\x1c\\xd2\\x04\\x8b\\x8e\\x0fQ*\\xc1\\xc7\\nQQ?\\x9a\\\\\\t4\\x8a\\xb0\\tR\\xbf\\'\\xff\\xc4\\x00\\x1f\\x11\\x00\\x03\\x00\\x02\\x02\\x02\\x03\\x00\\x00\\x00\\x00\\x00\\x00\\x00\\x00\\x00\\x00\\x01\\x110@\\x02 \\x10\\x12!1P\\xff\\xda\\x00\\x08\\x01\\x03\\x01\\x01?\\x01\\x11{=G\\xaa\\xfbL\\xcfe\\x8bzv\\x99\\x9ff\\x88\\xc5\\x95\\x89\\xa1O\\x10p|\\x96\\x8a\\xfa)\\xc9\\xdd\\x1a.G\\xb7\\xc6\\xa2\\x1f\\xe2\\xc3\\xd4h\\x99\\xa1\\t\\xe5\\x97\\x0f\\xff\\xc4\\x00\\x1f\\x11\\x01\\x00\\x02\\x01\\x03\\x05\\x00\\x00\\x00\\x00\\x00\\x00\\x00\\x00\\x00\\x00\\x01\\x00\\x11@\\x10\\x120\\x02 !Pp\\xff\\xda\\x00\\x08\\x01\\x02\\x01\\x01?\\x01\\x8f\\xc4\\x0e\\xe1\\xd1\\xe5\"2\\x9dK\\x80\\xe1\\xf4\\x95\\x85\\xb6m\\xf3\\xee\\xee\\x0e\\x05\\xf3\\x7f\\xff\\xc4\\x008\\x10\\x00\\x01\\x04\\x00\\x04\\x04\\x03\\x05\\x06\\x05\\x05\\x00\\x00\\x00\\x00\\x00\\x01\\x00\\x02\\x11!\\x10\\x121A\\x03\"Qa 0q\\x132@B\\x91#PR\\x81\\xa1\\xc13\\xb1\\xd1\\xe1\\xf0`br\\x92\\xa2\\xff\\xda\\x00\\x08\\x01\\x01\\x00\\x06?\\x02Zx\\xad\\x0bP\\x8c\\xe1\\x99\\x1e\\xa9\\x81^\\x8dS\\x0c-^\\xd3\\xdae\\xec\\n\\xca\\xe9wr\\x88n\\xda\\xa2\\xc1\\x90\\x04y\\xa4+t\\xfe\\xea\\xd9\\x12\\xb5\\x95J\\xf0\\x8cg\\xe05Tp8\\x14eP\\xb5\\x94\\xccnVA\\xc50\\x8d\\x17\\x11\\xdd;\\x99\\xfc7\\x1b\\xb4\\x18]9\\xbfT\\\\8Q\\xe8W\\x08\\xf0\\xeb5Zvo\\xe20\\xc2\\xee\\xa6/\\xc5\\x94(\\xf2c\\xc1\\xae6\\xb5\\xe5OgM0\\x94\\x02\\xbaS44P\\xe7\\x9e\\xa6S\\xb2\\x92[\\xd2S\\x0er\\xd0w(e\\x87o\\x00\\xea\\x86pt\\xcc\\xd8\\xa8Og\\x11\\xf2\\xcdd\\xa2\\xcf\\x9a3 \\xe1R\\xe8r\\xcc\\xdfx\\xe1\\xddA\\x10T.e\\x08\\xbb\\xc7\\xac+\\xc71\\xc6\\xbc\\x00\\xa9\\xec\\xadOT\\x02s\\xf6[\\x88\\xd1K\\xb9grU\\x0c\\xbd\\xf6(\\xb0\\xf4\\xb0Q\\xcd\\xa8\\x8b\\t\\xbar\\x90\\xa4\\x0bq\\xb5\\xed6\\x8dTN\\xf6\\xb8f#\\xf1a\\xa5\\xe1(\\xd2\\x90\\xa3\\xca\\xa2\\xa1QTW65\\x80\\x9d\\x11\\xa4\\x06\\x1d\\x1a\\x14\\x968\\x04\\x1b\\xc3\\x10\\xe5$\\xf3\\r\\x8ac\\xf2N\\xc5qlesr\\xb5d\\xe3o\\xcb?\\x92\\x00\\x1e_\\x9b\\xba\\x00r\\xe5 \\xa9o\\xcdK\\xb2\\xfd\\xd1s60Q\\x9a\\xc0\\xaa\\xc2]\\xe1\\x85>-\\x95+\\xc2p\\xec\\x89S\\xd98tM\\xbc\\xadj\\xd4\\xc7\\xa2\\x8c\\xb1;\\xc2na\\xb8\\xd58\\xd4/f\\x0c|\\xc8\\xb5\\xdan\\x8c{\\xab\\x88\\xdd\\xc0\\x87\\x0e\\xa9\\xd7]\\x10\\x01\\x13\\xb4\\'wD{I\\xec\\x83:\\xa2\\xd5+1C\\xa7\\x8a0\\xb1\\x84\\x91\\x8e\\x8b3\\x95\\x15 \\xac\\xafC\\xa6\\x0603\\xf9)\\xb3\\xda\\x15>`\\xc1\\xea\\x9bP:\\x15Q{\\'>t6;/i\\xf3\\xb6\\xe65\\x08\\xe7\\x10\\xd3\\xb2u\\x9c\\xd5=\\xd0wG\\t(\\xc3uV5\\xd5h\\xb4\\x85\\r2B\\xccuZ\\xab\\\\\\xbeW\\xbb\\x84#8\\xd1\\x85n\\xb5\\x00\\xad\\x11]P\\xdc\\xee\\x87\\xc8}Sx\\x8d\\xf7~hQ]\\x88\\\\\\xc2\\xcb\\x94\\xc7))\\xed\\x07+\\x83iDNf\\xc8\\xfa.#G\\xc9\\xfc\\xb6E\\xa3C\\xd4!\\x98\\xda\\x05CY2\\x8f\\xb3\\'6\\xe1\\x03\\x17\\xba`\\xd9R\\xd5R\\xd3\\xc3J\\xd5**\\x02\\xd1s\\x05Z+R\\xa2\\x14(\\x0bD\\x13\\xa0ka9\\x0b-\\x1d\\xd38Nt\\x99\\xfd\\x14DF\\xcb\\x86\\xf9\\xdf\\xea\\x80&\\x1a\\x0f\\xfeJ\\xff\\x00{+\\xd7d\\xff\\x00\\xc2/M)9\\xe5\\xb1\\x99\\xa8q\\x7f\\x06\\x88\\x07\\xb4\\x90M\\xa61\\xd2\\xb3\\x1aOk\\x85\\xbbu\\x01e;\"\\xa4\\xe1\\xa7\\x86\\xf1\\xd5W\\x82J\\xd3\\r)HR5\\xe8\\xa4!\\xd9;\\x88u\\xd1N`\\x00B4\\xb5\\x04\\xcb\\xdb\\xb9\\xef\\xaa\\xe1<S\\xb3.\\x0ch\\x1d\\xf4V%\\xcc\\xe8Q\\r<\\xaep\\xfa&4@\\xfb9\\x05L\\x88\\x9aY\\xb3\\x11\\x97\\xe5YC\\x89\\xab\\'\\xaa\\x03d\\xea\\xcc}qq\\xd9B\\xa5~f\\x8bL)v\\nIU\\x80\\x8d\\x11\\xaeX\\xdd\\x10\\xde,\\x004M\\x83\\xcc\\xd3\\xfa*u\\xb5\\xb6\\x0e\\xeb(\\xf7\\x80\\x00v\\xff\\x00%7\\x88\\xcf\\x99\\xc5\\xa66N\\x88\\xbd\\x0ft\\x1d\\xa4;$\\'\\xe5\\x15\\x1c\\xbe\\xa1@<\\xee:\\xf4\\x01e7\\x08\\x86\\xc3\\x07\\xbcJ\\x10fF\\xa8\\x80\\xd8\\xfd\\xd3\\xb6r\\xe6T\\x10\\xf3\\xa3\\x1a8f\\xb9B\\x04w\\xc3)\\xd1\\xda \\xc3D(\\x0c\\xf5C/\\xa0M\\x8dI\\x8f\\xea\\x8d\\xf3k\\xfd\\x17\\x0b\\x84\\xceh9\\x95\\xc4\\x02$\\xf4%9\\xad\\xd9\\xe37\\xd19\\xf9\\x86Bh\\xf7\\x94x\\x9b4\\x98\\x1f\\xaa\\x07^&|\\xce\\xf4*\\xfd\\xe8\\xe6*[{\\'\\xbc\\xcedx\\x8f\\xdb\\x1d<\\xcb\\xc2U.eJ\\xcd\\xa8\\xd9h\\xb9O\\xe4W\\xec\\x8b\\xfa\"\\xf83[\\xa6V\\x85f\\x99\\r\\xfe\\xe8\\x82f@(=\\xb6\\x7f\\xb2\\x829x\\x99^\\x9c\\xc2\\xeeg2\\xfe\\xab%AuvLq\\x98k\\xe4\\x8e\\xd1k\\xdaG\\xf1+\\xfe_\\xe5&\\x0e)\\x15d-\\xba\\xf6_\\xcd\\x0c\\xa0\\xc1\\xb5d\\x12T\\xf9\\xbac*\\xd4)\\xd5P\\x01s\\xa9\\n\\x84\\xa8\\x99\\xa4\\x04E&\\xba\\x0f5\\xac\\x8e\\x8alz\\x99Y\\xa4FM\\xbb.\\xbd\\x7f\\xcf\\xcd2?\\t\\x80\\x9a\\\\7w\\x0c\\xca\\xca\\xe9\\xcf\\x91\\xdf\\xf6\\x95\\xc3\\x0e?f[\\x08\\xb4\\x0c\\xa1\\xa6=\\x17\\xaf\\xf4R?4E\\x878j\\xb7v\\xcab%R\\xd3\\xca\\xbf\\x1c\\xee\\xaca\\'U-\\xfa)Y\\x8a0\"T8\\xf2\\xa6\\xf4\\t\\x9c>\\xc8\\xb8\\xc3\\xf4\\xa5\\xef\\xf3\\xcc\\xe6\\xfd\\x97\\x1d\\xe4\\x89s\\x85Jc\\xe0\\xcf\\xcb\\xdeBl\\xccN_EG\\x98\\x1b\\xe8\\x88;DaB\\xbb\\xa3\\x9bGo\\xd3\\xcf\\xbcis\\x10\\x16\\xe5J\\xd1h\\xae0\\x11\\x86\\x8a\\x14\\x83\\xa6\\x8a\\xba\\xa6\\x199\\x87U\\x98\\xec\\xed\\xfa \\xdf\\x94i\\x1b!.\\x9e\\xabM\\xd1\\xfeJ9J\\x03\\x89\\xca;&\\xf0\\xfa\\xea\\x80\\n\\xd5|\\x06\\xabE\\xaa\\x99Z\\xadevP\\xdc4\\xc3O\\x06\\x98\\xe8\\xa0\\xa9\\x05X\\x95^\\r\\x14yr\\xe5T\\xa4\\xa8*\\x9bK\\xa2\\xbb]\\x02\\x80\\x02\\xb8\\n\\x95\\xb2U\\xcbU:F=\\xf1\\x97\\x18\\n[\\xa2\\xe6+O\\x15\\xf9\\xb40\\x95\\x1a\\x0f\\x06\\x8a\\xe3\\xd1R0\\xdc%\\xa5\\x03\\xe0<H\\x9e\\x88q\\\\sO\\xe8\\xa0\\xb3*\\xd3\\xe1mW\\x82\\xd5c\\x01H\\x81\\x80\\xf0\\x06\\xf7W\\xf0\\xb4\\xadY\\xc3E\\xd3\\x1a\\xd5w\\xc05\\xab,\\xfd\\x11\\x89\\xa5\\x18\\x15(\\x00\\xbe\\xcc\\xc4|N\\x9e\\x1a\\xd5L\\xc9\\xc6\\x11\\x1d\\x16\\xa8\\x95\\t\\xb9\\xb4P>6|\\x12p}Z8]\\x84=+\\xe3\\xaf\\xc5\\x95>:\\xabm\\x94\\x02\\x13\\xb7\\xdc6\\xa5f^\\x88\\xa6\\xca\\xaf\\x05\\xfcEy%\\x14\\'\\xeej\\xc2p\\x8f\\xf4D+\\xf0B\\x1f~\\x7f\\xff\\xc4\\x00(\\x10\\x01\\x00\\x02\\x02\\x02\\x01\\x03\\x04\\x02\\x03\\x01\\x00\\x00\\x00\\x00\\x00\\x01\\x00\\x11!1AQa\\x10q\\x81\\x91\\xb1\\xc1\\xf0 \\xa10\\xd1\\xf1\\xe1\\xff\\xda\\x00\\x08\\x01\\x01\\x00\\x01?!J.\\xa5=\\x9e\\xf0\\xb3t\\xfda\\xc5\\xfaL\\xd3\\x88\\x99\"\\xe5P\\xad\\xa6\\xe53S2\\xa4\\x05\\xa4\\xa2\\xb8\\xd4\\xc0\\x95|\\xaf\\x012\\x9bx\\x9c\\xc3)\\\\\\xea\\xf7\\x8cA_\\x12\\x91d\\xc3B\\x03\\x0e\\x98S\\x10\\xb9\\xd7_YM\\xfd\\xc6\\xe5\\r\\xc9+w,\\x140\\xb0\\x8a_\\xb9A\\xe5`\\xc2C\\x1b]j\\xe0\\xdd#\\x83\\x89|\\x93H\\x83\\x83jh?\\xc2\\xef\\x03\\xd3h\\xb8\\xdd\\xc4x\\xf4gM\\x02M\\x05\"\\xdf\\xccF\\x90\\xee\\xc2:\\xb5I\\xdc\\xd7r\\x95\\xf5\\x94]\\xb8\\'V\\x06!Z{y\\x99\\n\\x14mpK\\x98\\x94\\xb8}0%3\"S\\xf3\\xeau\\xed\\x9a\\xbfH\\x83\\xaf,\\xf2\\x8d\\x01_\\r\\xcb\\xab\\x17\\xa7j\\x81!\\xcby\\x80\\xab+\\x06\\xa2\\xb9\\xca\\xb8%\\xebw\\x89W\\xd5\\xdc\\x14\\x9e%\\x06\\xe1[\\xcc\\xcb\\x1aa\\xa2\\xa5q\\x04\\xe0\\xb8\\xdb\\x98\\x15l\\xd8\\x99%2\\x01\\xa9\\x8e3\\xfd\\xc6_\\x89^\\x1c\\xcd\\xd5\\xbcG\\xa2\\xfe\\x90k\\x82h,\\x1d@\\xa0\\xb2\\xeePr\\xec\\x82^\\xd3p,\\x971k\\xedf\\x0b\\xe4\\x9c\\x18\\xd4;`T]\\x02|tf5\\xb9\\xc8-\\x87\\x86m\\x9a\\xb0\\x08y\\x8cv\\x1e\\\\\\xab0?\\xb8s*-\\xb2\\x80\\x07\\x15s\\x90\\x96\\x9d\\xd6 J6\\xd50\\xda5g3]i\\xaa\\xe6\\x1f\\x86K\\xcd[\\x96F\\x90fI\\x1c\\xea1\\xdf\\xa1\\x85X\\xb3\\x13Nc\\\\2u)\\x87\\xd8fR\\x974,o+r\\xach\\x98\\xbd\\\\\\xcd\\xdcX)+-\\xdc\\x18\\x82\\xd4f\\\\\\x18/Q\\xf90\\xc5T\\xd8\\x96\\x9e\\xea\"\\xf5\\xcc\\xdc\\xd9\\xa6\\xa5\\xcb\\x00\\xb8\\x1a\\x19\\xf7\\x84\\xab\\xc7-\\xfd\\xc7\\x85\\x94\\xaa\\x160\\xc6\\xd9M\\xa0\\xf6\\x8b\\x1d\\xba\\xd7\\xb3\\xf3\\x8b\\x94K\\x97\\xber\\xd7\\xef\\xbc\\xb0\\xd7\\x9e\\xc3\\x0cZ\\xaf\\x1f\\x0fir\\x94\\xdc\\xa6\\x1cLe\\x8aN\\x81\\xc4\\x02Q\\x99\\xab\\x15\\xe1\\x86\\x7f\\xb4\\xb0\\x9c\\xa6>\\x89\\xc8\\x8b\\x84\\t\\xbb\\xe2X\\t\\xc8K\\nK\\x982\\xa5\\xe6b\\xdaeX\\xb9P\\xae|3\\x8e\\xc2\\x82\\x85$\\xc9\\x9ee`30*?\\x14\\xa9\\x9a\\xee\\xa5\\x05\\xcdSObT\\x19\\xde \\x1b|V%\\x15\\x8a\\x16\\xfb\\xc6)\\x12\\xdcnd\\x8b.\\xab\\x1fY\\x87\\xbd\\xa6bP\\x954r\\x1d\\xc1\\t\\xf5\\x89MD\\x16[\\x19w\\x83r\\x99\\xd5\\x11\\xf3M\\xd7\\xef\\x10\\x0f\\xb6\\x10k\\x9e|K\\xd4\\xc2G\\x97\\xb7\\xc4\\xa3\\x89\\xae\\xceX\\xb4\\x9c\\xee\\x17\\xa8\\xe6OI\\x8b\\x84\\xd5S\\xa9\\x16*jg\\x88\\xd8\\xd5\\x1145<\\x91\\xac/-\\xc44\\x98F\\x8a&`\\xd9\\t\\x02\\xfcB\\xb2\\xdf\\x98et\\x95\\xe3D \\xe4\\x0c\\xc2\\x8d\\x0b\\x96\\x98\\xa1\\xdc\\x10r\\xd9eM\\xb1\\t`iR\\xa4\\xc9\\x84T4\\x05\\xf9`j\\xadsV\\x89]\\xd1\\xae\\x0c\\xc2\\xd9\\xdc\\xcd{\\xcd\\xb0Z\\xeb\\xae\\xe5j\\x95\\xd6\\xb8O\\xc3\\x03\\xeb\\xbe\\xff\\x00\\x8f\\xab2A*c\\x87\\x87\\xef7\\x1b\\xc6T\\xe5?\\xb9\\x9fZ\\x85\\r\\x05q,t\\x8d\\xfb2\\x89\\xcc\\xae9\\x03ur\\xe7F\\xc5\\x10\\x1b\\xd2%\\xacB`\\x1a-\\x96\\x95T\\t\\x82\\x02W\\x98Xb\\x960\\xd9\\xe9K\\xe1hX\\xa2f\\x83b\\x83\\xe6\\x1b\\xc1\\xb9\\\\y\\xc7\\x81\\x97Z\\t\\xc98\\xe5\\xd9\\xdc-f\\xf6\\x19\\xbdu\\x00\\x0c\\x19w\\xc1\\xc4s\\x17w\\x19\\r\\'\\n\\xc1\\x85B\"\\x15\\xf6A\\x92\\x81\\xee\\x1f\\x10b7J\\xca\\xaf\\xd9\\x81\\xecT\\xf4/\\x1f1a[m\\xdbb\\xfe\\xfbF\\\\\\x02\\xbax\\xfa\\xc3jY\\xb35\\xc0\\x7f{\\x89\\xfbU8\\xba~%\\x85\\xe0\\x15\\x82lf\\xfa\\x91]\\xd2\\xba\\xc4\\x0e\\x1evu`\\xaf\\x89\\x8ak\\xb4T\\x060\\x01b(\\x01q\\xb38`_8e\\xd0\\x97X\\x99\\x18\\x81\\x9a\\t\\xa9\\x82\\xae(\\xbaez\\x85\\xf2\\x9a\\x14\\xcd\\xc37j5\\xab(\\xc0\\xeb\\xacr\\x80q2e\\x87\\x13\\x14\\x92\\xe3\\x9fg\\x98\\xd3\\x9f\\x89\\xf6\\x96\\xa9b8\\xa5\\x92\\xe9\\xf4K#{H+r\\xb3\\x05\\xf2(Qx)\\xdc\\xa5X\\xa0\\x0em\\xba\\xfb\\xca\\x0c\\x99\\x9ez\\x99\\x86\\x0e\\xaf\\x0fO\\xcdy\\x98\\x87ut\\xdd\\xa9\\xfb\\xaaZ\\xe8\\r|\\x1c|\\xdc\\xda 7\\xed\\xe6!\\x02\\x8fY\\xa9@\\x8e\\t\\x85\\x00\\xc1>\\n\\xfc\\xa5\\xceN\\xe2Xp\\x80\\x8b\\xf8\\xc1\\xc0\\x17-\\xd1,\\xe9eXg3\\x94O\\n\\x80\\x98G\\x921\\xe2J\\xb4\\xac\\xb8\\xb6\\xcf\\x88v\\xd102\\xce,\\xcd\"\\xd8\\x88+(\\xd0\\xb6!Q\\x1e\\x8f\\xa6)\\'c\\x99\\xc6XY\\x13$\\x85|\\x92\\x88\\xd0\\xe1\\x88\\xf6\\x02\\xce\\xae\\x9a\\xf2y\\x84&\\xea(l\\xc6\\xff\\x00\\xa9U$\\xd7\\x1c6\\xbe`\\x0bM\\xb4Yf\\xfe%\\xb4\\xd5\\xd2\\xaf\\x8e\\xdfyc\\xae\\x91^\\x06>`t\\x17\\xa8\\xec\\xa3\\x0f\\xcf\\xe6h\\x9d\\x11xs\\xfb\\xed\\x1b\\x05\\xd6\\x06\\xaf\\x9fi\\xb3\\xe4Pw\\xf3/t<\\x99\\xa5\\x19\\x1e\\xd1\\x11\\xdf\\xb6l\\x0c#Gy\\x99!L\\xb1ne\\xeb0\\x80\\x9a\\xa9F}\\x1a#+\\xaa\\'\\x89S\\x10\\'3\\x90\\xca^\\xf3,\\xf3\\x95\\xee\\xf5\\x19l\\xfbJk5\\xf6\\x82-\\xbcu=\\xc3\\xb1\\x14S\\xaf2\\xc6\\xc7\\xb7h*\\xb0:\\x99\\xc5\\xde\\x1e \\x1bi\\x0e\\x06\\xa5S\\x00\\x91\\x86xza\\xc6\\x86\\xac\\xe7G\\xc1\\x1aV\\xab%n\\xdaR\\x03f%(\\xcf\\x99|\\xee\\x0bSR&D\\xb5\\x7f\\x11\\xbc\\x91\\x13.\\xf7\\x111\\x1bO\\x9c?Xt@\\xa2\\xda\\xcc\\\\\\xda\\x0b\\xb7mJp\\xa9\\x08\\xe5\\xab\\x98\\x85\\xd3:.!\\x85e\\x9c\\x03\\x89sJ( E7\\xb4\\x8cWl\\x10\\xebT]J\\x13%\\x82{U8\\xb0\\xc2QR\\xa7\\xc4\\x07\\x99s2\\x86Z\\xa9n\\x150\\xc4`\\xc6^g\\x80\\xb2\\xf1\\xcb\\xb8\\x87IP\\xd2\\xdb\\xd6cM\"\\xceq\\xae\\xa5\\x13\\xc9)u\\n\\xfa\\xd3H\\xadB\\x94\\x94M\\xc6\\xebKvC\\x8c\\xb0Y|\\xb9\\xf3u2\\x01\\x10\\x1f\\x82A!\\x12\\x81\\xc1\\xc0\\xfc\\xcbm\\xab|\\x07_I~0\\xbcY\\xff\\x00\\x90V\\xad\\xd6\\xd3\\xaa\\xa1\\xd9\\xac\\x1c(c\\xda\\xd8\\xde90\\x19o\\xaf\\xccS\\xe2G\\x17\\x9b\\x84E-\\x13\\xb7\\xa9\\x86\\xf5\\x1b\\xc4+5\\xe1%J\\x1aM\\xc6\\x8ekp\\xc1\\x19\\xc43\\x06\\xe6v\\x81R>Y\\xc8)\\x06\\x91\\xb6]n\\x15\\xe8\\x89\\xe6)\\x16\\x06\\xb3\\xa0\\x85\\xcc\\xb0\\x02\\xc5{\\xcc\\x9a\\xf7B\\x07\\x19\\xb8\\x06\\xcf\\xe8F >F\\xd8\\xcc\\xf2\\x1c\\xdc7a\\xd2\\x94\\x88^k<J\\x97\\x9ffO\\xfd\\x99@\\x99\\xb0\\xe4\\xec\\x7f\\x10+fD\\x1cU\\xe5\\xf6\\x8eH\\xe9J\\xc0uC\\xeb\\x1bb\\x16,\\xdb@\\x1f\\x98fT4r\\x0c\\xfd\\xe0\\x8ba\\x82m\\xb2\\xdf\\x82s(\\x7f\\xb1_B\\x1a\\x07\\xcb\\x00\\xff\\x00\\xab\\x10\\xa0\\xb0\\xef\\r*\\xf2\\t\\xabN\\x1f\\xdf\\x98\\x08e\\xf5\\xd1\\xdct\\'z\\xde+\\xda7\\x91\\x18a\\x96\\x8c\\x15\\xd4\\xa8\\xa1\\xc4P\\xad\\xa3a\\x98\\x80\\xa8\\rQ\\t:P\\x1e\\x96F^q*\\xca\\x9d\\x88\\x86\\x80*\\x1dM\\xc1>\\xd0\\xda\\xa5j\\x95\\r\\xb1\\x95\\xa5$w\\x08\\x1d@$\\x0f;q\\x05\\x01\\xd0\\xce\\xe5h\\x9f\\xa8/qi]\\xf5\\xf9\\x81\\xb0?\\xb9v\\x99a\\xc4>\\x08\\xfc\\xc2]c\\x0f\\x1a\\xfd\\xd4%p\\x07\\xbb1\\xf6\\x85\\xbf]]?\\xebu\\x050\\x85\\xa7\\x96~\\xd2\\xbb6\\x8e\\xc3\\xf2\\xa8\\xeck\\x1e\\xd5o\\xd0\\x81\"\\xdeO\\x0f\\xb7\\xb6%\\xda\\xb4\\xa6\\xce\\x87\\x89\\x89\\x14\\xabPq\\xc48e\\xcc\\xbd\\\\\\xb7<a\\x1a\\xb4\\xb9\\xa4\\xc6e\\xf0\"\\x0b#q\\x97]\\xcbB\\xd1\\xac\\xb6>2\\xd7\\x11\\x87\\x11\\xb1\\x8c\\xf9\\xb9f\\x17,\\xab\\x17\\x1c\\xac\\'\\x06\\xa0\\x05-\\x03\\xa7\\x9ce\\x9a\\xb7\\xe2\\x1c[:a\\x0c\\x83\\xb2Xo.T\\xf3\\x00\\xe7\\x0c\\xab\\x88\\x17,\\xed\\x8a\\xdd\\x0c\\'\\x81\\xf6\\xb8w\\xb4y+j\\xfcK\\xa4(\\xe7.\\xf9\\xbf\\xd6!@\\x05\\xfb\\x13\\xaf\\xb5\\xfcKhW\\x99q\\xfd\\xc3\\x04\\xdb\\xd3\\x8a\\x0f\\xf0\\xff\\x00s>\\x95\\xaff\\x83\\xf7\\xc4\\xb4\\x12>z~y\\xf7\\x987\\xaa\\x06.\\xdf\\xf8\\x8c\\xb4%\\xdfN\\xe5\\x13h\\x1e\\xcfq6\\xef0\\xe9%*\\xa3k\\x87R\\x1aB\\xfaL\\xd2\\xc6q\\x0c\\xb39\\x867#\\xe9P\\x85K\\xcc- \\x0e\\x0b\\x8c\\x02[\\x89\\xd4g|\\x82\\x95LM/\\xb5@\\xaca\\xf2(\\x85\\x1a_\\x11-\\xc5\\x9f\\xf9\\x1d\\xf4\\x1d\\xc2X\\x1d\\xfbj\\x88\\xf9p8\\xed\\xfd\\xb9\\x93p%;\\xcd\\xd7\\xda\\\\h\\xa1}h=\\xedXj\\x82\\xb7\\xb0\\xc6)\\xe0\\xfb\\xc5\\xc1\\xa0-9q\\xdf\\xfb\\x95H\\x1d\\xecaj|3\\x8d\\xcc\\xfd\\x1f\\xfd\\x8de\\x81\\x7f\\xe5\\xe3\\x13\\x17\\x880d\\xaa\\xd9+)p\\xc4SAX*\\xc2\\x8bV1\\x86A\\xdfs\\x02J\\x89p&\\x99\\x82D\\x12\\xb4+\\x85\\x88\\xe7\\xd1V\\x02\\t\\xe4\\x84-\\xea\\xe6kP\\x97\\x94\\xc1\\x04\\x85\\xd5\\xa4\\xb6\\xeb%\\xfc\\x9b\\xe6\\'\\x82Y\\x93\\xcd\\xc0\\x10\\x06\\xd2^4\\xe6b\\r\\xc7\\x95&\\x1aN!\\xcc\\x8cUw9*\\xd9\\xaf0\\x9c[\\\\9\\xfd\\tfU\\x8a\\xbb\\xbf\\xac\\xce?C\\xf5\\x03_x\\xe1Y.\\xcf8\\xab\\x8dU\\xd7\\x83\\xfb\\xfbP\\xe2zxjQ\\x8d\\x99\\xaa\\x80\\xe6\\x1a6\\xcc1V\\xb6u\\x08\\x8e\\xb9\\x87\\xe9\\x85\\\\F\\x00\\x1b\\x96LP[\\xea\\xc8&\\x92\\xcd\\x10\\xc5\\x04\\xe4L\\xc0\\x12\\xb3\\x00\\xd9\\xa8\\xda\\x96e\\xdc0\\xed\\x8f\\x97\\x02\\t6\\xd1\\xc4,\\xca\\xa7q\\n\\x1e\\xe4\\x1a?\\xa4\\xcc/xu\\x99\\xeeP\\xad\\x18\\x0cT\\x06\\x9fD\\xb3\\x9a\\xf9\\xdc\\x01\\xf3*\\x07C\\xde.\\r\\t\\xca\\xf50\\xa7\\xf3\\x08\\x9a\\xc7\\x1f\\xbf\\xdcF\\x02\\xbf\\xb8\\x05\\xd0\\xf7\\xac\\x90U\\xb2\\xed\\xc4pIL(\\x02X\\xf6\\x88\\xb2\\xdd@\\xd6\\xecr\\xc2>\\x88\\xceS\\xe8W\\xa3P\\x98\\x0bR\\x8dB\\xd2\\xb8\\x1d\\nB\\x01\\x8f\\x82[\\x12J\\xe9\\xa1\\x0e,\\xd3\\x82\\x044p\\\\\\xddN:\\x8e+\\xab\\x89x`o\\x1c\\xc5\\xa8\\xfeQ\\x98S\\xceIe/\\x03\\x10v\\xc3\\xf6T\\xac\\x1bM\\xc6\\xbb\\xce9\\x80\\x9a\\x7f\\xe4\\xa7\\xb9P\\xcc/\\x13\\x81\\xbc\\x1a\\x98\\xc0\\x93\\x04\\x90\\x8f\\x89\\xe0\\x955.\\x10C0\\xf4\\x95\\xc1\\xebr\\x83,\\xdd}=\\xab\\x123\\xe8\\x8a6B.1\\x05\\x82\\x14(J\\x1c\\xce\\xedu)EX\\xd1\\x15\\xa6\\x91\\xa6Q\\xed\\x03\\x809\\x86\\x16\\xa8\\x86(?x\\xd4\\x15\\xdc\\xb5^f4\\xea57\\x11\\xd6hy\\x9d\\xc2\\xb8C\\x18i\\xad\\xc2\\xfc\\xe5\\xdc=+\\xd6\\xa0J\\xc0\\xcdK\\x97\\x05\\xf4\\xf6F1a\\x9eV\\xa1\\xb1\\x99FiQ)\\xde\\x04\\x08\\xc2\\xd9x\\xb6\\x03,\\xab\\xcb:\\x99\\x98\\x91Q\\x02\\xd2\\x8f\\xed\\x842\\xd7\\x89\\x92X\\xeac\\x04o\\xc4\\xe2\\xe7;\\x82q\\xdc\\xef0E\\xd0K\\xe9\\xe2\\x1c\\x86X\\xad\\xcc/\\x01\\x00\\x0br\\xa1\\x88\\x7f\\x1a9\\x19tD!hEz\\x03\\xc4F\\x13\\x0e\\xa0\\x1c@l\\xc2\\xfbq\\xe70ye\\x96p\\x1a\\xaaJ\\x99m\\x87\\x8d\\xf796s0\\xc0\\xc0J\\xba\\xb84>\\xecbt\\xb7\\x84:>\\xc5\\x82\\x9e\\x8862\\xdbr\\xd4q\\x19\\x97:\\x89\\x95\\x1c\\x1470\\x0b\\xc9\\xe9_\\xc2\\xa5\\x92\\xbdJ@B\\x90?\\x81i\\x89YD|b\\xa1\\x93\\x98\\x97\\x1c@X\\x84^j\\x1c\\xde \\x1dJ\\xb01_\\x0c\\xa3\\n\\xb3\\xfdB->\\xec\\xd81\\xa35\\x9f\\x99R\\xb7\\xab\\x97E\\xa7rM\\xfb\\x0c\\xae(\\xb2\\xd4!E\\x10\\r\\x9e\\x81\\xfcjT\\xaf\\xe7a\\xc4\\xe5@\\xf3*\\xb3\\xc92b\\\\Q\\xc7\\xaa\\x01\\x1d\\x10\\xce\\xd3\\x96:\\x01R\\x0e\\xa2\\xf8\\x94~Pocw*At\\xc7\\x05fW\\xd6\\x01\\xc4\\xb8UU\\x92\\x88\\x7f\\x96\\xfd\\x0cS\\xa8\\x8e\\xa0x\\x97\\xb9\\x88\\x10i\\xcc\\x08\\x9c\\xc9\\x830,e\\x86\\xa2j\\x16\\xe1\\x89\\xa5>\\x97\\xa4\\xa8\\x18\\x9c\\x1a\\x96\\xe1D \\xd1\\xcd/)\\x80\\xcc\\xa1\\xc8\\xb0\\xcaR\\xf3\\x1a\\xf6@k\\xd1_\\xf1\\xbe\\x8eD0\\x97\\x8a\\x92\\xaf\\xd1[\\x84\\xae\\xa9o\\xc4\\xab\\xa9\\xe3\\x9d\\xe2<&\\x01u9\\\\\\x05\\xe0DE*\\xef\\xe5\\x15\\xb3k<\\x82&\\xf3\\xc4{\\xf6K,J\\xf8\\x81hLR\\xa1\\xb8\\x7f6\\\\\\xb9q\\x9b\\x88\\x13\\xdd.\\\\\\xbfL\\x04\\xb3,\\xe0\\xf4x\\xe7\\x07\\xa01\\x82k\\xf56\\x9e&`E:\\xe6\\x1eW\\xa2\\x82r\\xf1,|\\xcc\\xb9\\x94\\xab\\x8c\\x06\\xbd*\\x1e\\xb7\\xfck\\xd5\\xa6\\xb1\\x04\\xc1\\x1dE\\x8f@M@\\xbc\\xba\\x8apL\\t\\xc4\\xc4\\x9bm\\x85\\xd9ADak\\xe8[\\xd0\\xc5\\xcb\\xcc\\xd9\\x13u)\\x9b\\x81\\x93\\xa8-\\xd4=\\x91 \"\\x0c7\\xfe\\x0b\\x97\\xfc\\x11U\\xb1\\x04n\\xd1\\xfc$3G\\xa6H\\x9dK\\x02\\xeeRQ\\xb4P[\\xc4S\\x98\\xebq\\xc4\\xbcM\\xf7\\xa2\\x0cIDbA\\x8cH\\xa4\\x04\\xc6_\\x06\\\\\\x1f[\\x97.\\\\\\xb9r\\xe0%\\xe0\\xdcNb\\xcd\\xc2\\x9e\\x9f/\\xa1\\xc2V>\\xb8\\x8d\\xbea\\x9410\\xb4t\\xf4\\x04\\xca7Q\\x16\\x14\\x82d\\xc1:\\xb0\\xdc\\xc0\\xf3(\\xd4\\x13\\x15B\\x10\\xf4\\xb8\\xb2\\xfd/\\xf8.\\rJ\\xa21\\x14M\\xcc\\xc5@E~\\x97\\xfa\\x18\\xdc|\\'\\x86^\\xeaR\\xa9\\xbc\\xc1!2\\xca\\xbcL\\x82\\xc0\\x18\\xa4Q\\xa9m\\xce\\xcfL\\x82+\\xd1\\x8f\\xf8?\\xff\\xda\\x00\\x0c\\x03\\x01\\x00\\x02\\x00\\x03\\x00\\x00\\x00\\x10\\x80\\xbd!VV\\xec\\x14A\\x83:\\xc6}W\\xb3\\xac^\\x8a\\x8a$\\xbb8/\\\\\\xe7\"*@+$\\xd1\\xe9\\x9c8\\xa0>\\xc1%%\\xf2\\x82o\\x9e4\\x0c5c\\x95^eb\\xc2\\xd9\\x8ai\\xd1) \\xd3\\x06\\x00\\x1d\\x80\\x84\\x8f\\x10C\\xbc}6+\\xcck\\x00\\t\\x1c\\x00\\x83|AaiN\\xc8|\\xece\\xed\\xee\\x05)\\xdck\\xceF\\xd4\\xdf\\xde\\xabZ\\xeeQ\\xa3q\\xa1+\\xdb\\r\\xe7U\\xba\\xb6\\xa6\\x9c\\x9c\\x02\\x16\\xd2}O\\x18\\xb8sa\\x80\\x8cj\\x8fd\\x9d\\x02^\\x1b\\xe8\"\\x0c\\x8e\\xc8\\x87NVi:0Q\\xd1\\t\\x10C\\xc2\\xa8\\xf9fh\\xc6\\x83\\xf09l\\x95\\x8a\\x04\\x06Ie\\x08\\xd5\\x13\\xa0n\\x00X\\xc3\\x00\\x84\\xbb\\xc8\\x0c`\\x0c\\x0e\\xf7j\\xcd\\xc7\\x04\\xf7 \\xd7\\xd1\\xb1\\x06\\x043\\x8e\\x88=\\xb3S\\xdc7\\xcc\\x99u\\n\\x82!$C/\\xb8T\\xda\\x92y\\xde\\x03\\xe3\\x83\\xb6v\\x7f`\\xa2\\x0b\\x00\\xff\\xc4\\x00\\x1e\\x11\\x01\\x01\\x01\\x01\\x00\\x03\\x01\\x01\\x01\\x01\\x00\\x00\\x00\\x00\\x00\\x00\\x01\\x00\\x11\\x10 !10qAQ\\xff\\xda\\x00\\x08\\x01\\x03\\x01\\x01?\\x10\\x9c\\xe2]\\x8f\\xb1o^\\xf9\\xbd~ps\\xc4\\xf5\\xdc\\xe1\\xcf\\xfa\\x9b|2Op\\xdb1g\\x80z\\xe9\\xcfKl\\xf1<\\xd8\\xe6s:[o\\xae\\x12\\xde\\xef\\xbe\\'\\x81\\xc3\\x8cx>#|\\x81d\\x16I&w<\\x07\\xb9}\\x93\\x85\\x9c\\xcec3\\'\\x81$\\xe3\\x87\\xb8,\\xf0!\\xcel\\x03a\\xfep\\xf0\\x1b\\x18\\x19\\xe4\\xa2\\xfc\\xeb\\xe1\\xa4\\xc6\\xc3\\xee\\xde\\r\\x8d\\xe9\\x93\\x90\\x88\\xc7\\xdbt\\xba\\xe9m\\xb0s|p\\xe3-\\xbb\\x7f%\\xba\\x8fU\\x91Y\\xfa\\xbe\\xa6aX\\x99\\x1f+\\xfb\\xfa\\xebl\\xcf\\x0b\\xd3\\xf4m\\xb6\\xcd\\xb3\\xc3\\x8b\\xbf\\x8f\\xce2\\xc9\\xdfl&8=\\'\\xf0b\\xcf\\x15\\xc5\\x90\\xcac\\xc3\\xcb\\xff\\xc4\\x00\\x1e\\x11\\x00\\x03\\x01\\x01\\x00\\x03\\x01\\x01\\x01\\x00\\x00\\x00\\x00\\x00\\x00\\x00\\x00\\x01\\x11\\x10 !1A0Qq\\xff\\xda\\x00\\x08\\x01\\x02\\x01\\x01?\\x10\\x10HK\\x1e\\xa7\\xd7\\xdck\\x177X\\xd0\\x85\\x8b.Q\\x8cJ\\xe3\\xe2\\x8f\\x1e-Z\\x9fw/\\x1fE\\xca^\\x06\\xa7/\\x85\\xc4\\x12\\xe51\\xf3K\\x94\\xa2d\\x17l\\xb9v\\x94\\xa5*\\x13\\xc5\\x97a\\x06\\xf9g\\x87\\x90u\\r\\xb7\\x84\"\\xa2\\xa2\\x88*~\\xb5\\x05\\xc3Be=\\xa2cA\\x8fCG\\xb3\\xcf\\xd2\\x88\\xd9\\xbf\\xd2\\x13(\\x97>r\\x10B\\xfe1\\xfb#\\xb0\\x83\\xb5\\x90\\x9c,D\\x1d:}1l!9D!1\\x0b\\x1e.\\xd8\\x96\\xccD\\x17\\xe6\\xf8]Q\\x96~t[f\\x13\\xc6%\\xf9\\x7f\\xff\\xc4\\x00\\'\\x10\\x01\\x00\\x02\\x02\\x02\\x03\\x00\\x02\\x02\\x03\\x01\\x01\\x01\\x00\\x00\\x00\\x01\\x00\\x11!1AQaq\\x81\\x10\\x91\\xa1\\xc1\\xb1\\xd1\\xe1\\xf0 \\xf1\\xff\\xda\\x00\\x08\\x01\\x01\\x00\\x01?\\x10\\xd1\\xad\\xfa\\xcc\\xcc.\\xda\\xa8\\'\\x1e\\xa7\\t\\x8cr\\x83&=\\x99n|\\xfe\\xe6\\x08SPI\\x87\\x01\\xeb\\xcc\\xaf\\x01\\x90_2\\x8f\\xb0#\\xc6\\x8dH\\x1bUYt\\xf9\\x81\\xb95\\xe0JWT\\xa3\\xc1\\x1e\\xf1y\\xb5\\xd1\\xfe\\xe5w\\x12\\xa1\\xe7\\xb68#\\xd2Gj\\xac\\xe7\\xcc\\xaf\\x03P\\x95<O\\x16\\x98V=M]@\\xb0\\xff\\x00\\tvk\\x17U\\xff\\x00f,\\x1dM\\xbd\\x9a\\xfd@\\x8d\\xa8-W\\xe4\\x0c\\x94\\x01v\\x13\\xa6 \\xfdexHEqZ\\xdah\\'\\x18 !\\xec\\x1e\\xa0GFO\\x91\\xd0\\xc53\\x19R\\x9cf \\x05\\xd8\\xf1\\x0b\\xca\\x98\\x97\\xf4n\\x10\\x18\\xa8\\x04\\xc6\\xe2\\x05\\x8a\\xec\\xb7\\x10\\xdb[;\\x8d\\x17\\x12\\xd0l\\x1c\\xdc\\xb9P\\x1eY\\x9d\\x1f\\x08\\xede<`\\x89\\xf4/,@m\\xda\\x94\\x9d\\xd5\\xcb8\\re\\x869M&G\\'\\xa5\\xdc&\\xf3M\\xa2[\\n\\x9a\\x86\\xed\\x1fR\\x00\\xe60\\r\\xa7\\x98\\xa7\\xf8\\x08D\\x83V\\x9a\\xa0\\xb6\\xf8.^\\x97\\xd6\\xcb\\xb2\\xeb\\x01\\x1f\\xaa\\x98\\xbb\\xec\\x1d#\\x0eU\\x96\\xc8\\xae\\x90\\xd7\\xc8\\x14\\x82\\x8b|\\xc2C\\xe8\\xe5\\xa9\\xd8\\xe6\\x98XZ\\x0e\\xb6\\xb0\\xde\\xb2J\\x94n\\x05\\xe6\\xfeLx4_\\x0c\\x1d\\x8e\\xc6J\\xd4cT\\xe5|@\\x06\\x86\\xe1`5W\\xb7R\\xdd-\\xd5DKJE!\\x02N\\x8eH\\x0b,N\\xf5\\x08\\xde#\\xean\\x18\\x0f3\\x86\\x02\\xc5\\x13\\x86d\\xcf\\xb1\\xdc/\\x16\\xe6.\\xd3:f\\xec_p\\x900\\xf2\\x91u\\x87\\xcc\"\\x14\\xd0q\\x89Y/Y\\x99t\\xe8\\x18 m\\\\\\x91X\\x96=\\xc7x\\x12\\xe52\\t\\x96(^\\xb9\\x17\\x92;\\xa2\\xba\\xe1u\\xc2\\xb6d\\xdf*\\xbf\\x89IX0\\xf2}@\\xd29\\xdc\\xf6N\\x19\\x10\\x83\\xea\\x10Zn\\x98<^\\x8fL\\xceC\\x1f\\x8d{\\x0f1V\\ru\\xc3U\\x07\\xac1\\x0bo\\x0e\\x82\\xc0yh\\xba\\x9a6y\\x93\\r\\xf5\\x80\\xb8T\\xae\\x01\\x83\\xa0\\x8f`\\x1f\\xb8\\x00P\\x04\\xb3\\xfd\\xa8SbK@\\x06\\xea\\x05p\\x0e\\xd1\\xe8\\x14\\xc1F>\\xa3\\x8f:s\\t@\\xe2\\x90G(hc\\xec\\xab(\\x98\\xd4\\xb5\\x88\\xe0\\xecq\\x9e#\\xa3\\xb9|\\x80vL\\x02\\xf2j:\\x86\\x9e\\xf32\\x05\\x86\\xd2\\xd6\\xd4\\xbe\\t\\x9b\\xba\\x12\\rc~\\xe2Y\\x02\\xd8\\xb2\\xa0^nej\\xcarK\\xf1\\x87\\x8c\\x10\\x95S}\\xc4\\xc5\\xab\\x82(\\xd8<\\x10\\xe1W\\xfc\\x12\\xe8\\xbb\\x16\\x9ck\\xd3\\xdbR\\x8c\\n\\x1b\\x8fi\\x89\\x87\\x15#zq3\\x80\\xdc\\xef\\x92\\xba\\xdc\\xa7\\xde\\xb7\\x98\\x85K\\xa2\\xc1\\xf4\\x16\\x89\\x90X\\xba\\x95N\\xeeQk\\xa2\\xe6r\\xb8oL\\tA\\xd5C\\'\\x0e\\x81\\xa3ir\\xc2\\x16H\\x14\\xc8\\x0b\\xe1\\xa0\\xf5\\n\\x8fh\\xf4=\\xc7\\x15o\\xc9\\\\QQ3E\\xa0tb_\\x18\\x9a\\x00\\xe5\\xe3V2\\xd1\\xe7?\\xc3\\xdf\\x96\\xcb\\xfb\\x04\\xd3\\x86Gdx*\\x9c\\xdd\\xc0kU\\xc6D_\\n\\xae\\xa0)b\\x9dq\\x0ehQ\\x9bU\\x8abe\\xb1\\xf1Z\\x86CgP.\\xd6\\xf8\\x89\\x8d\\x07\\x1d\\x91\\'W\\xf63\\xba_&\\xa6R\\xc1\\x86`\\xfe\\x86;\\x15\\n\\xddC\\x04NQdZ4\\xb2\\xb0K\\x04-\\xcd\\xbcG\\xdd/\\x8b\\x86hxD\\xd5C\\xa8\\x05M\\xf7\\x02C\\x06q\\x1cG\\xba\\xcdL\\x94t%\\xe3\\xa4\\x1a\\xfb)\\xc3K_\\x8f0\\x84\\x91\\xc9\\x869\\x89\\x1bE\\xb1\\xdf\\x02i\\xe0UK\\xf1}K)\\xf2,\\xf0\\xae`\\xd9\\x0e[Jo\\x15\\xde,\\xa8\\xb0\\x1a\\xa4\\x02\\xae\\x87p\\xb3D\\xc6\\x96C\\xd8\\x8f\\xa9y\\xccs4B\\xe8\\x10\\x89\\x98\\xa3\\xb9)u\\xc0\\xf7\\xdc\\x11\\xb8\\xc8\\xa1\\x82a\\xa0ZL\\x88R\\x96X \\x9d?\\xa8)`\\x83\\xccX\\xc1\\xf2.\\xfa*C\\xa8\\x83]\\xc1.\\xcd\\xca\\xea\\xb9Q\\x8d\\x92\\xc0\\xdd\\x86\\x0b7\\x02jV\\x19g\\xc9\\xcdD\\xba)\\x03\\xba\\xe8G\\x02\\x9a\\xec\\x81\\xce\\xcc\\nl\\xab\\x98\\x97W\\xea9V\\x06\\xa37\\xe6\\xcaesZIv\\x04\\x8b\\x04\\xf2\\xb0\\xd8\\x8ei\\x98:\\xc3\\\\\\xaa[D\\xb8\\xbc\\xc4J\\xf0\\x1b\\x80\\'{\\xc2\\xcb\\xdd\\xe9\\xb8\\xb9\\xda\\xa9\\x18\\x02o\\xf0x\\x8fe]\\x07\\x115CE\\xee\\x05\\x96\\x00<\\xc4k\\x8bC\\x85a%X\\x87=^\\xe5\\x015\\x00s\\xc2?\\xb9g_t+\\xec\\xe1\\x99j\\x0b\\x1b\\x05\\x17\\x03\\x8bj\\xe5\\x9e\\xaat\\xb5\\xdb\\xe7>`\\x0c\\x11pEg\\xe1t\\xc0\\xa8\\x00B\\xf1B\\xd3\\x81\\xa1}u\\x18\\xe8|\\xa6*B\\x8c\\xdd\\xf8EQ\\xb4\\x14HxW\\x95\\xec\\xa8\\xe2\\xb8-M\\x86Z\\xbf\\xf7-\\x18\\x06)\\x8d\\x85{\\x82\\xb8 #\\xd9\\x9dK\\xaf\\x7f\\xa8\\x97\\xd4sd\\x91\\xbb=\\xc2\\xa6\\x81S\\xc3\\xd4\\xa46-\\xf7R\\x8cU\\x8a\\x12\\x98\\x13\\x88\\xed\\x91K\\x0e\\xa1\\xf1\\xd3\\xd4\\xab\\xc1[gxGF\\xf1\\xc5\\x8c\\xc9\\x04,\\x90\\xdd\\xf0\\xc1\\xf7C\\xee\\t\\xb2\\x19r\\x1b\\xd5\\x91\\xcc\\t\\xdf\\x10\\x96\\xb0w\\x0fR\\x0f\\x05\\xcf\\x11\\xf6\\xee+X\\xe8\\xea2\\x05\\xfa\\x18\\xf0\\xbapn\\x0744\\xf1\\x1e8@\\xc3[\\x13\\x8cR2\\xe8\\xd8@W\\x0b\\x16\\xb5\\xeeXh\\\\\\x17+\\xdf\\xa9@\\x18\\xcb\\x19\\xe5\\xea\\x03\\xc8\\x06\\x8c\\x85\\xf2n\\x8f2\\xa9\\xa3B\\xbd\\x0b\\xb3T\\xdf\\xbc@h\\x99\\x02\\x1f\\nrj\\x9d\\xf1\\xa9\\xb9\\xc8\\xa97\\x8aGz&\\xae\\x1b\\x82\\x06\\x06|\\xad\\xd5\\xe7\\xcc\\xb0\\x80\"\\xbb|\\xd3\\xc0\\xc7\\x89q\\xc2\\x14\\xd5\\x7f\\x0b\\x81\\x1dm\\x89z\\x8d\"\\xa8\\xb4\\xa9\\xc9nz\\x8c\\tj\\x8a\\x8ac\\xf5\\x8c3\\x13pS\\xcb\\xfdB\\xc8\\xae\\x0c\\xa0\\xb8H\\x01\\x80K\\xae\\xe2\\x15\\xa5\\xe1c\\x06\\xd7\\x08\\xf76\\x84XLo/\\x99\\xf0P\\x86\\x9b\\xa6K \\x98\\x90\\xccwr\\x1b\\xa6s\\x7f1\\x0c,\\xc4\\xc4\\xa1J\\xd7P\\xd8\\x17\\xcc\\xac\\x0b\\x9c\\xb7\\x0e\\xcak\\x16B\\x00\\xa3\\xa6S]a\\xbdA\\x12\\x8d1m\\xcb[ \\\\D\\x86w\\xa0\\x97\\xf6\\xfb\\x17\\x1bNaeK\"v\\x16\\xaa0\\x85v\\xbe\"\\xe8\\x0b\\xc2\\xf6F\\xa2\\xc9Y\\xb9xK\\x85\\xc6\\xda\\x82\\xc3\\x83\\xd4\\xcbQ\\xa3;u\\x9b5\\xdc~\\xfb0`(\\x00\\xcd\\x1b\\x97\\x8a\\x87D\\x1a\\xac5\\x8d\" o0\\x83\\x8fB7\\xd2\\xf4\\xe9\\xfb+\\xfds\\xa8\\xe8\\x19t\\x8f\\x18\\x97\\xf8\\xfd\\xe7\\x00\\xc3\\xd0pc~al\\xbbm(\\x17n\\xf3\\xe8\\xb6c`\\xe3#\\x07\\x12s\\x85\\xfa0\\xb8n\\xb8Zh\\xf4Y?\\xb9B\\xc2A\\xc9\\xd3\\xc2\\xfc\\xc6ae\\xa3vo\\xce&\\\\B\\xda\\x8d\\xe6\\xd3\\xff\\x00nP\\xd1y\\xb5}\\xca\\xacm\\x9d\\xfdG\\x00\\xc9qI\\x90\\x94\\xb4\\xc3\\x9bA\\xa1R\\x10%\\xef\\x13\\x19\\x12\\xe2\\x1e{\\xbe\\xc8\\xb8V\\x1e%\\x14K\\xec\\x8e\\xc1[L$\\x19`\\x18\\xe7\\x11\\x84rf\\xa1\\xab\\xd5\\xbc@\\xb3>\\x81\\xa8\\x8b\\xfa4Y\\x89\\xe90)f\\r\\xcd\\xdcz\\xe8\\x9e\\xd6\\xf3\\x17\\x12-\\x12\\xd5bWo-\\xdcACT\\x9c\\x18\\x03aQ\\xdb\\x12\\x85\\x01\\x02\\xb3Y\\xa9n\\xa2p`3u\\xeeT\\xe3\\xc4P\\xbce\\xc8\\xf9p\\xc5\\x8cL\\xd4\\x0c\\x81_aC\\xb8E\\xae\\x18\\xb6\\xaa\\xbb\\x1c*5\\xdc6\\xc1 \\xc4\\xcbJk\\xd9-qw\\xb8[\\xe4\\xe4Rp\\x8e)\\x95\\xd5\\x11\\xc2\\xc5T\\xbf!^\\x9b\\x95\\x14\\x03\\xcb\\x04\\x01\\xf1C\\x1e\\xe1*\\xb6\\x00\\xadG\\xa2\\x89\\xe1\\x00\\xd5\\x04u\\xb0q=\\x89\\xe6\\x94P\\xefFJ-~\\x1dC\\xb0\\x13%\\xc1\\\\\\xba\\xaa\\xcf0\\xb8\\xfa\\xdbb\\x07\\x07\\x89Jv\\xddl\\xea\\x91\\xf9\\xba\\'\\x8aVR\\x0c}\\xc7\\x90\\xbe\\x0f1\\xed\\rP\\xac\\x90\\xe2\\x922\\xed\\x87J\\xe0\\xaff\\xff\\x00\\x88\\xab\\x83\\xcdK\\xb8\\xe3\\xc4@S\\xeep\\xe2\\x13q&i~\\xe1b>K/0\\x81\\xea6o\\x8b\\x80L\\xe7\\xa1\\x99zf\\xf4w\\x00\"\\x9f\\xdb\\xf7+ !\\x8d4\\\\\\x9b\\xfb\\x11b\\xe4;LG\\x0c3\\x17\\xce\\x96W\\x1fb\\xe1\\x80\\x11v\\x8e\\x12\\x13\\x99</\\r\\xe2\\xf5\\x7f\\xdcZp\\x80[\\x9e\\x1e~\\xb8\\x81\\x8b8\\x14\\x00\\x0b\\xdc\\x0eva<\\xcb6\\xc9J\\xd8\\xd8U4n\\xf1kU\\xab\\x97Qn\\x85\\x10\\xecB\\xca\\xed\\xea^q\\xd2\\x80\\x0b\\x18ix{\\xa8\\x87\\r\\xe0\\x9b\\x1e\\xc6\\xd8\\x7f\\xa9\\x8a\\xa3\\x9aAt\\xf6\\x9fJ\\x94\\x86\\x16iq\\xe2(^XT\\x84\\x02\\x97\\x99Z\\xc8\\x11\\xb3\\xc2X(\\xe1\\xf5\\xaf\\x90p\\xcd\\xd5\\xe4D\\xb9j\\xeb\\xaa\\x8cI\\xe0RP\\xde\\xf3\\xa2\\xfe\\xc1F\\xcaay!\\xfe\\xa3\\xae\\x18L\\x19\\xcc2\\xae\\\\\\xa98\\x85\\x05n\\x0e \\x0b\\xcf\\x86W\\x90\\xd6\\xf3\\x04Ub\\x10\\xaa\\xe4\\xd3\\x04\\xc1\\x96!\\x91d,\\xe6,\\x06\\xe1z\\x14\\xf1p\\x96\\xf5\\xd3pU\\x1b\\xb8\\xf4\\xcb/U\\x19\\x1a<F\\xc0\\xdb\\xb6d\\x7fA5\\x14\\x98\\xad\\x04x\\x153\\x840\\x1cJ\\xee*X\\xe80\\xfd@\\x15\\xc5\\xa9e\\xccRE\\xa5\\x1a\\xf733rt\\xf4\\xc1\\xad\\x0e\\xd8\\xd6\\x08\\xfb\\xc5F_Q\\x17\\xc1_k\\xf7Q\\x81K\\xe2\\xc6\\xc8(\\xaaZ\\xd4\\xb5v\\xa6\\xc3\\xab4\\xda(vQspVP\\x7fA\\xca\\xbak\\xa9\\x81\\x84\\xca\\x01\\x07\\x82\\r\\xf3\\x98C1\\xb4\\x05\\xf7\\xca\\xb4N\\x07:\\x8b@\\x15UVM\\xaf\"?\\x11R\\xbe\\xa5\\x02\\n\\x9d-#\\xc5\\xc7\\x10\\xdf\\xe4\\xcc\\x9ai\\xc29\\xb7\\x98\\xc5!\\xaa\\\\t\\xcej\\x9c\\xba\\x99X\\x90-\\xcb\\xfc\\x03\\xd08\\x8a\\xf3\\x8b\\x02&H@\\xd3\\x07\\x15\\x8f\\x1c\\x11>5<W\\x89t:\\x98\\xee^\\xaa\\xb9%\\xfa\\xdfmE\\x07\\x0f\\x0c2\\x89\\xba\\xe4\\x964{\\x88\\x93\\x84(\\xfcK(:e\\r2\\xca6\\xa0S\\r0 T\\xcc\\x9d\\xc0\\xa4\\xd0\\xcbk=\\x99w`tnd\\xe0\\xee).\\xce\\x86f\\x1c\\xaf\\x17r\\xe8Q\\x90\\x80\\xa5\\x1av\\xbeW_\"ZQ\\xa1\\xfe\\xe0\\xcc\\xd2\\'\\x16\\xea\\x04\\xb3\\x14\\xa8\\x02\\x159\\xdf\\x10\\xab\\x12\\x14_\\x16u\\xba7^ /\\xc5\\x92-J:\\x91\\xf2\\x97>\\xa5\\x165/\\x03\\x80\\xeb1\\xef\\x1an@K\\xa5\\xbd\\xd7O\\xa8;k\"{\\x88\\xddS\\xcd\\xcc\\xcdS\\x01\\x18\\xd1\\xda\\xd1\\xf0\\x1eb8\\x8f\\x88Re\\xceq>^\\xa0\\xae\\x9c#M,|%A\\xc0\\x1c^\\rW\\x9b\\xf6\\x81\\x00\\x89\\xc9C5g`\\x8b\\xd6{\\x94\\xd7\\xcb\\xa5sz\\xce\\x03+\\xc0\\xb8\\xe9\\xd9G$[\\x1e]g\\xdc\\xae\\x19\\x0c\\\\\\x1bF\\xbd\\xc4\\xb0\\x9f\\x93>\\xf9\\x81d\\x03`2\\x13\\x06\\n,L@*\\xe3}\\x12\\x85\\x02;&\\x02\\xb5\\x17\\x8e\\xfb\\x96\\xe2\\xa7\\xa9\\x95\\xb7\\xe1\\x8890\\xcdT\\xc5\\xa2\\rh Q\\xf5\\x1c\\xb0\\xfb\\x96j\\xc1\\xdc\\xa6\"\\xe4 L\\x90.\\x99x\\x94\\x1aK\\xdco\\x80F\\xd2\"a7\\xacK\\x19\\xe9F\\xe5\\x02\\x9b*\\x87R\\xe6\\xaftX\\xfa\\x86\\xc5\\x05A^\\xc7\\xfa\\x88\\xed\\xc1h\\x1e5\\x87O\\xc8-\\x13A\\xb6\\xa0\\x84\\xd3\\x93\\x10n\\xf6\\xe4\\n\\xa78yt\\xfa&S\\xc8\\x07\\x16@9\\xd8\\xaf\\xb3\\xb9B\\x15S\\xd2\\x1e?O\\x8a\\x97\\x94\\x99\\x05\\x8dl\\xc5\\xe1G\\xc2\\x1bJ\\xc2\\n\\xa9\\x17\\xe2\\xd651\\x1b^\\xd5Y\\x9dXA\\xeab\\x82\\x91U\\x95\\xef\\xee\\xff\\x00\\xed\\xab\\x85v\\xc0\\xbd\\xb1\\xab\\xca\\xfe|\\xc6\\xf98\\xa5\\x9a\\x17@}@\\x08\\x9a\\xe43_NX\\xc4y\\xe1\\xcc\\xa5\\x06\\xb8Po\\xd9\\x10\\xaa5\\xac\\x0e]:\\xc4P\\xa74\\xb2\\x1a`M\\xdb\\xc7R\\xe1\\x14u\\x15\\x12\\xed\\xcc(\\x10ox\\x98}Q\\x1aQ\\\\\\xcbM%x_\\xe2\\x00\\xf3.j&\\x15\\x0f\\x9c\\xa0\\x1b\\xfe0\\r\\xed\\xe4\\x88\\x8d\\x93\\x9cD\\x0bg\\x8a\\x95\\xc8\\xa3\\xe2\\x11\\xf0#w\\x18\\xc0\\xb3kU\\x04\\xbb\\x82\\xd5\\x8cE\\xba\\xed\\xbd\\x0c\\xb9q\\xd6K\\x82\\x98\\xd2\\xed\\xd5\\xc4\\xea\\xeex}0\\x16QbZx\\xf1/4\\x01\\'\\xc5w\\xbb\\xea\\x00\\x86\\n\\xc4\\xb1W~\\xff\\x00\\xc1\\r\\xc0\\xf2\\xc0\\xac*\\xf4\\xb8\\xfd\\xc7\\xec\\x87\\n\\x12\\xfb\\x00\\xb9\\xbfI\\xe81\\x0e\\xdc>\\xbe%\\xf4!-\\x0b\\x02\\x17\\x8a\\x1f\\x13p\"\\xa3V\\x8e\\xb4\\n}\\x14\\x12\\xd6\\xe2\\xa2\\xff\\x00\\xc4\\xa2\\xde\\xb0\\x11\\x01\\xa5Qb\\x14y(\\x84Ln\\xa5\\xa0\\xfb\\x17X\\xad\\xa8\\xea \\xeb\\x06\\xf0#\\xa02X+,Z\\xf8\\x96\\xa9.Rp\\x8e_@R\\x15\\xd7N\\x0e\\x19O\\xf3-\\xfc\\xa2\\x95m\\x9e\\x18\\xea\\x0b\\x1b\\xf3\\xabAc\\xee\\xe5\\xf1\\xa75\\x9b\\xea\\xa2\\xf6*\\xa7\\x06N\\xe6|\\x10\\x10\\x17\\xee[V:\\xb9\\x8bC\\xd5\\xca\\\\\\x82\\xa0q\\x0bVas\\x01\\xb0\\x06\\t-\\xb8\\xd2\\x8b\\x13\\xc4\\x89t\\x8c\\xb9\\xb8]\\x17\\x1b\\x02\\x13v\\x9c\\x11\\xbb\\xc6\\x07\\xa8@\\x1a\\x9d\\\\)O\\x8a5\\x02\\xad\\x8b\\x86\\x02\\xac\\xd2\\xc2\\xca\\x0fc? \\xeb\\x07\\x9a\\xd5\\xbc8\\x8cx\\x1c\\x96n\\xc7OusY\\xa8U\\x17wg\\x8c\\xb3p0Vf\\x96\\xf0i=\\x12\\x85\\taK\\xa1\\\\x\\xb5gU\\r\"\\x0eE\\xec\\xf6f\\xcf\\xa8(\\x97\\xbd\\xa2(\\x06/\\xf4\\xb8\\xa8\\xad\\x81\\xa1Tl\\x06\\xa5\\xe9\\xd5\\xe3\\x1bT+sE\\x8d\\xa8\\xd6\\xb0[\\xa9A\\xdb\\xb7E\\xc4\\xf7E\\t\\xd9*\\xd6\\x02\\x82\\x9bmW\\x08m\\xe9/Lud\\x9b\\xbb\\x14\\xe1[.\\x0f\\x19\\x89X\\xf2\\xd5U\\xa8\\xd8\\x96\\x95\\x8dF\\xb3\\x05\\x802\\x9cRq\\xe3\\x86\\xe2\\n\\xd6\\xa5\\x1a\\xd2o\\xdf\\x1d\\xccv\\xe6\\xb0\\xabU\\x18\\x1fZ\\xdb\\x81\\x19*\\x89\\xa3E\\x94\\x05\\x8e\\xe1\\x86\\x14\\xc4c8\\x80\\xb5j3;\\x19I\\x85\\x89\\xca\\xa5\\xd6\\xa4\\xb0\\xbf\\xeaP\\x12\\x99U\\xd9\\xa8W\\tx\\x96$O\\x1cE\\xd9\\xb5\\x9a\\x84\\xf4nW\\x0cu\\x0b\\xad^\\xe3L\\x1cm\\r\\xb7\\x0e\\xa3\\xb6ap\\t\\x18\\x02\\xcd\\xa3\\xa8\\x17\\xd6\\x95\\xe1\\x8dACD[\\x9d\\xac\\xa4\\xba\\nM\\xef1\\xdf\\xb4\\x15\\xf6\\x8a/\\xeeZ\\xfcK\\x87kj\\xf7\\xb70\\x82\\xe8\\x1a\\x11\\x0e\\xadu\\x97\\x1ejf\\xc1\\xa6\\xb0\\xa6W\\xc1a\\xdc\\xcaX\\xa0o\\x15u\\xbd\\xae\\xb1\\x1e\\xe8\\x11b\\xcbS\\xf8@j\\xcb%\\x95\\x95\\x81\\x86\\xc1\\xdeB\\x10\\x1b\\x02\\xa1V\\x89g\\x0f]\\xc2z\\n\\xec*\\x04\\xd9\\x93y\\xfd\\xcb\\xc8\\xda\\xa2\\xc5<\\xa8\\xfc\\xab\\x89#)U\\x15\\x0e~C\\xba\\xad\\xa3 \\xcc\\xb4\\x00\\x08[y0.TA\\xcdO\\x99}\\x11*v\\x84L\\xeb\\x04\\xcb)\\xbf\\x12\\x99\\xb9Hf\\xe1wPCS\\x18\\'\\xc8w\\x022B\\xc6\\xcc\\xa5*,\\x13\\x12N\\xf35w)\\x82\\x1b\\x94\\r\\xc3\\t6PB\\'\\x1a0Gr\\xaf\\xc2\\xa5\\x81\\x0fM\\xfd\\x95\\xa9\\x89\\x92\\x8c\\xaf`]\\x970\\xebm\\x87P\\x08X\\x0b*\\xde\\xeb\\xf7\\x0c\\x19\\xa7eSn~\\xd4\\xcfE\\xba\\xa75\\xcf\\xbdu\\xb6<\\xfc\\xe9\\xb4\\xda\\xb0\\x1e\\xdb\\xf7\\xf6+@\\xa1\\xd9NS\\'\\xbf|G\\xa0\"\\xc3K:\\xc6\\x0e\\xda\\xe3\\xcc8\\x05\\x03\\xc1\\xb6\\xa9O.k\\x8cK\\xf7\\x002x\\xf3\\x8b\\xe3\\xb88\\x9b\\x08\\x001X\\x1f\\x15Oq\\xc0\\x85v\\xd5SB\\xb9\\xa4+\\xf9\\x8f\\x0b\\xb2\\x85b\\xe6\\xb1\\xfd\\xf30D\\x18\\x01~\\xb5;\\xe0D\\x83Z\\x1dK\\x18.(k\\x15\\x08\\x12\\x99\\x87B\\x9dO\\x19\\t\\x82)\\xdfQg\\x16\\xcbuR\\xa0\\x87\\xe0\\x03\\x00\\xca\\xf9\"\"\\x9f\\xa9PE3$^\\xa5_\\x19\\x02\\x1cl\\xef0\\xf2T\\xf0@A\\rQW1\\x8ax\\x1c\\xb0\\xf0\\xeeV%B\\x97n?&j\\xc7`\\xa4`\\x90\\xd1?\\x99}\\xe0\\xd3dS\\xbf\\xc5W\\x10q\\xe3\\xec\\x9f%\\xd3m\\xa1\\x7f\\xfe\\xff\\x00W- l[\\xab\\xa9H7\\xa2\\xd3\\xces\\x9dhq\\x86\\x11\\xf4C\\xa5.\\xf4S\\xd1\\xafst\\xaa\\x03\\xc2\\xf6u\\x98H\\x0b\\xd5\\xefL\\xd5y\\xff\\x00\\x11\\x85\\x99\\xb5\\xca\\xe7G<@\\xbc\\tl\\xc9\\xf9\\x19.\\xe0\\x91\\xfa0\\xf5\\x8ae\\t\\x08>!j\\xd7\\xc8d\\x1c\\xa1\\x16\\xcfq\\xbd\\xc3\\xd4G+\\xd4`a\\x94\\xab2\\x96\\xa0\\x15/\\xf0\\xaa\\xa2\\xe0\\x8d\\x04\\xdc\\x89P\\xc1\\xb1\\xea\\x12\\x1e#\\x94\\xd6;\\xa9\\xc1\\x85\\xd4\\x15hp\\x97+i,Y\\x1biT\\xcbp\\xd0\\xcb\\xd44\\x12\\x83P] -\\'\\x85(-e\\xdbM\\x84p\\xa9\\xc6.\\x95\\xbf\\x91\\x15\\x95\\x8b7\\x19=\\xd9\\xa7\\x1e\\t.\\xe1\\xa6\\x06)\\xbf\\xf1*mN\\x1av\\xdf\\xfe\\xfd\\x105\\xa8\\x93\\x1b\\xa7g\\xfe\\xe2U\\xed\\x18\\xc2\\xe3\\xecV\\xe3\\\\[]_\\x89\\xc0x\\x17\\x8f\\n\\xe2]\\xa6\\xb7\\x06XA\\xaaK\\xf4>a\\x92V\"8adK\\xc4O\\x01(tB@4\\x95\\x83u\\x11\\xb2R\\xca\\x0eY\\x15\\xdcQ\\xc4\\xea#{\\x8al\\xf3\\x01\\xda\\x0b\\xe6\\x0b\\xb0\\xb0\\xacN\\x9e\\xe0\\xb3\\xa0%\\x17\\xad\\xcd\\\\P\\xb4tK\\xa5TC\\x98+@J\\x86\\x1e\\xea\\x99J}\\x1bIc`\\x94RiG`\\xed\\x89h\\x0c9\\xff\\x00\\xa8IR0\\xb1K)\\xc6\\xc31md\\x8f\\x9aH\\x00\\xf8\\x86\\xdd+\\t\\x93\\xdf,WTpx\\x81\\xa5j\\x8b\\x87\\xb6Q\\x11[e\\x0cq\\xd4\\xe8\\xc9\\x16#\\x1a\\xa8\\xa00\\x1eE\\x97\\xab>\\xc4\\x16#\\x18p\\x99B\\xd4\\xb9r\\x89IU\\x04\\xc4\\x1a\\xf8\\xab\\xafH\\xae\\x8f\\xa8\\x83@\\x889\\x1cN\\x98q\\x99~4vJ \\xc1\\xd70\\x88Hb\\xe0\\x87\\xb5\\x97\\xba\\xa9\\xa5\\xb2\\xc0\\x85\\x042\\xb8\\xf5\\x1bl\\xbd\\x0c\\xb0K\\xb5ewP\\x8b$\\xd9\\x15\\x18\\xb2\\xb3/\\xb8*\\x90\\xdeP\\xfab\\x13\\x9b\\x11\\x86j.\\x1d\\xc2\\x97P-\\xa0u\\xa9\\x8b\\xc6\\x00q\\xeek\\xb2-\\x0f}\\xcc\\xda\\xdb\\x1d@\\xc0$)\\xa9]~+\\xcb\\x1c(\\xb8\\x18\\xa5\\xdcx\\xe9\\xf6\\x17X\\xb0f\\x88\\x1a\\x04\\xa2\\x12\\xe5\\xdc\\x0cnR\\xcd\\x93\\x05m\\x9d\\xa5\\xc0n\\x84\\xc5\\xc4\\x0f\\x13\\x0e\\x97S\\xab\\xf2\\x87\\xaaR9m\\x15\\xc4\\n\\x97\\xd7\\xcc\\xb6%;\\xee]\\x12\\xfa\\x80H<\\x8cp[\\x8f\\x10\\xb8\\xd4z\"FE(\\x18\\xf5\\x148~\\x91 \\xc2\\xd5\"\\xd1EQ\\x98\\xe6\\xae\\\\\\xcd\\xa5\\xd01\\x02\\x82m\\xab\\xb9s\\xcc\\x05\\xee\\xa5\\xea)\\x98qR\\x8cq(\\xfc\\xd1\\xff\\x00\\xc0%\\x9f\\x82s\\xf8\\xd1\\x1a\\x95\\xe8J\\x1c\\x98SPJC\\x02]JWs5YqF\\x84Ej\\xb1(\\x84 \\xa7\\xc9\\x86\\xfe\\x08\\xcf\\x0b\\x82T-\\xa8\\xe2\\xd3o,\\xa1b\\xf3+)k\\x84\\xaa\\x8e\\x07>P\\x1aD\\x9asPD\\xef\\x08l\\xa8\\xc4bt\\xc4\\xba\\x86(\\x96\\xf9\\x82|q\\x00V\\xee\\xa1\\x1e\\xc8\\x84\\xb9r\\xe5\\x9f\\xfc\\xaf\\xe32\\xa6\\xa2\\x08\\x92\\nl\\x96\\xff\\x00\\xc4\\xe1Z\\r\\xac&I4Je\\xd4,\\xac\\xcb@[\\x1eJ\\x04\\r\\x05J\\xe3\\xa3\\x82a\\x8f<\\xa4\\xac\\xca\\x89b\\x88\\x00\\x01\\x89r\\xd5\\xd3\\xbeeE\\xd7\\xa9N=\\x92\\x844\\xcb\\xdb\\x0b\\xc1Pqr\\xaa8\\xc7xe\\x85\\x85\\xcd\\xc0\\x90\\xac\\x0f\\x11\\x12B\\xa9\\xa1e\\xa1\\\\\\xa0I{R\\xc7L\\xbf0fng\\xf1_\\x8b\"\\x90\\\\|%\\xc1S\\xc4`\\r\\x04\\xe8\\\\\\xe8#\\xdenVe\\x8f\\x88 `\\xf3\\x1e\\x15\\xc6\\x89k\\xb5\\x97\\xb4\\x0fq\\x03b\\xd8B8\\x1dL\\xe0-\\xfb\\x94\\xb6\\x19\\xc4@\\x8aL_1\\x04A\\xc0u8Wg1\\xf5\\xd9\\x1a\\x81\\xf7\\x15Q@-\\xdeZ\\xf23\\x01\\x0bT\\x196\\xc9`v;\\x88\\x94\\x89K\\x08R\\xd6\\xcc\\xb7*\\xa1\\xbf\\xcd\\xcb\\x8d \\xff\\x00\\x02\\xf1;\\xc0\\x82\\x8b\\xb6\\x05\\xc6\\x10\\xbb\\xf8R\\xb3\\x10r\\x13a\\xdc\\xb3m\\x0c\\xa0\\xab\\xdc\\xf1\\xcf\\x98\\x96\\x0cKZ\\xe2\\xe0\\xaa\\xf3\\xdc\\xb5\\x00@t\"\\x9f\\x0e\\x83\\x1c\\x02\\x83\\x18\\x84\\x93%n9\\x18\\rE\\x9dG\\x04\\xae\\x8aU@y\\x9d\\xa1P\\xca?r!al\\xa7L\\x03\\x86xJ~\\x15\\x18g.,\\xb8\\xe6=\"K\\x9c\\x90#\\x9b\\x1e\\xe0\\xf7o\\x98 \\xb71\\x0e\\x08\\x8df(<\\xcb\\x96\\xd0\\x9b\\x84%-r\\xc0\\xa1)\\x8b0\\x16I\\x9a\\\\\\x11\\xd0\\x84#2\\xe2\\x82\\xc1\\xa9\\xb9/q\\x1f\\x06\\xb1-\\x14\\xb8\\xa0F:\\xc8\\xee%)\\xec\\xcb\\xf2\\xd6f\\x13\\x948o\\x04\\xde3\\x1aX\\x82\\x1f\\x8a\\x97\\x88\\xb8\\x96K~\\x16Gqj\\xcet\\x10\\x06\\x12`\\x15\\x89\\x91\\xac\\x97Vr\\xc0\\xac\\xee \\t\\x8dU\\x1b\\x96\\x02\\x92\\xdc\\x90\\xa9n\\xaf\\xd9`\\xb0!]YF\\\\\\xc5v\\x80sr\\xa0h^\\xe3\\x99\\x99\\x15n\\x8b\\x88\\xbdQ\\x99c\\x89\\x94\\x05\\xc4.\\x0b\\xd4\\xa7:\\x999LR7I\\x16Ak\\xa8F\\xdf\\x92\\x8b\\x0c#K\\x06P\\x96\\x92\\xe2\\xc6Yr\\x8e?\\x90\\x8c\\xd3\\xb8b\\xbf\\xe1)\\xe5w\\x11\\xbf|D\\xab\\x17\\x96!\\xb3z\\x9e\\xd3\"$\\x98Z\\xa4\\xd4]\\x8c+&\\\\.<m;\\x8bl\\xdaB\\x11\\xdb<\\xc7\\x04\\x1e\"\\x950f>+q\\xe0\\x8aw6Vf\\x12\\x7fS\\x04t\\x98\\xc7Q\\x18\\xca&\\xed\\xc2r\\xc2\\x90\\xb0Y\\x05\\x11\\xc4\\x7f\\x01\\x95\\xcc\\xde\\xa5\\xfes\\xb7\\xb4\\x0b2\\xc0q\\x0c 9B\\x98\\x89i\\x1df%\\x90\\xcaV`6\\xd4\\x19A\\x1ch\\x83\\xe6\\xd0\\xach@B\\x16n6p\\xf5\\t!w\\xb8v\\xb2\\xfb\\x80\\xa0Z\\xc2\\xa4\\xcc5\\x88\\x0b\\xfeDxD\\x90\\x19v\\xc7\\x02\\x04*\\xa0\\xf5\\x00\\xe2\\x00\\xfc\\xdecw\\xbf\\xc3w\\x11[\\x85\\xd6\\x7f\\x01?\\xff\\xd9'"
            ]
          },
          "execution_count": 56,
          "metadata": {},
          "output_type": "execute_result"
        }
      ],
      "source": [
        "path1 = 'photos/jan-2023/photo1.jpg'\n",
        "data1 = open(path1, 'rb').read()\n",
        "type(data1)\n",
        "data1"
      ]
    },
    {
      "cell_type": "markdown",
      "id": "36687da2",
      "metadata": {
        "id": "36687da2"
      },
      "source": [
        "The result from `read` is a `bytes` object -- as the name suggests, it contains a sequence of bytes.\n",
        "\n",
        "In general the contents of an image file and not human-readable.\n",
        "But if we read the contents from a second file, we can use the `==` operator to compare."
      ]
    },
    {
      "cell_type": "code",
      "execution_count": 57,
      "id": "fd6dd21d",
      "metadata": {
        "id": "fd6dd21d"
      },
      "outputs": [
        {
          "data": {
            "text/plain": [
              "False"
            ]
          },
          "execution_count": 57,
          "metadata": {},
          "output_type": "execute_result"
        }
      ],
      "source": [
        "path2 = 'photos/jan-2023/photo2.jpg'\n",
        "data2 = open(path2, 'rb').read()\n",
        "data1 == data2"
      ]
    },
    {
      "cell_type": "markdown",
      "id": "36006cd4",
      "metadata": {
        "id": "36006cd4"
      },
      "source": [
        "These two files are not equivalent.\n",
        "\n",
        "Let's encapsulate what we have so far in a function."
      ]
    },
    {
      "cell_type": "code",
      "execution_count": 25,
      "id": "b1c8643c",
      "metadata": {
        "id": "b1c8643c"
      },
      "outputs": [],
      "source": [
        "def same_contents(path1, path2):\n",
        "    data1 = open(path1, 'rb').read()\n",
        "    data2 = open(path2, 'rb').read()\n",
        "    return data1 == data2"
      ]
    },
    {
      "cell_type": "markdown",
      "id": "b4e08850",
      "metadata": {
        "id": "b4e08850"
      },
      "source": [
        "If we have only two files, this function is a good option.\n",
        "But suppose we have a large number of files and we want to know whether any two of them contain the same data.\n",
        "It would be inefficient to compare every pair of files.\n",
        "\n",
        "An alternative is to use a **hash function**, which takes the contents of a file and computes a **digest**, which is usually a large integer.\n",
        "If two files contain the same data, they will have the same digest.\n",
        "If two files differ, they will *almost always* have different digests.\n",
        "\n",
        "The `hashlib` module provides several hash functions -- the one we'll use is called `md5`.\n",
        "We'll start by using `hashlib.md5` to create a `HASH` object."
      ]
    },
    {
      "cell_type": "code",
      "execution_count": 16,
      "id": "c03198fc",
      "metadata": {
        "id": "c03198fc"
      },
      "outputs": [
        {
          "data": {
            "text/plain": [
              "_hashlib.HASH"
            ]
          },
          "execution_count": 16,
          "metadata": {},
          "output_type": "execute_result"
        }
      ],
      "source": [
        "import hashlib\n",
        "\n",
        "md5_hash = hashlib.md5()\n",
        "type(md5_hash)"
      ]
    },
    {
      "cell_type": "markdown",
      "id": "a8e480f0",
      "metadata": {
        "id": "a8e480f0"
      },
      "source": [
        "The `HASH` object provides an `update` method that takes the contents of the file as an argument."
      ]
    },
    {
      "cell_type": "code",
      "execution_count": 67,
      "id": "1567ec9e",
      "metadata": {
        "id": "1567ec9e"
      },
      "outputs": [],
      "source": [
        "md5_hash.update(data1)"
      ]
    },
    {
      "cell_type": "markdown",
      "id": "86bd6bc0",
      "metadata": {
        "id": "86bd6bc0"
      },
      "source": [
        "Now we can use `hexdigest` to get the digest as a string of hexadecimal digits that represent an integer in base 16."
      ]
    },
    {
      "cell_type": "code",
      "execution_count": 68,
      "id": "b2e61e76",
      "metadata": {
        "id": "b2e61e76"
      },
      "outputs": [
        {
          "data": {
            "text/plain": [
              "'affa88ba505c3fa426ebb01dd0588089'"
            ]
          },
          "execution_count": 68,
          "metadata": {},
          "output_type": "execute_result"
        }
      ],
      "source": [
        "digest = md5_hash.hexdigest()\n",
        "digest"
      ]
    },
    {
      "cell_type": "markdown",
      "id": "b9b4b347",
      "metadata": {
        "id": "b9b4b347"
      },
      "source": [
        "The following function encapsulates these steps."
      ]
    },
    {
      "cell_type": "code",
      "execution_count": 17,
      "id": "330def4e",
      "metadata": {
        "id": "330def4e"
      },
      "outputs": [],
      "source": [
        "def md5_digest(filename):\n",
        "    data = open(filename, 'rb').read()\n",
        "    md5_hash = hashlib.md5()\n",
        "    md5_hash.update(data)\n",
        "    digest = md5_hash.hexdigest()\n",
        "    return digest"
      ]
    },
    {
      "cell_type": "markdown",
      "id": "914b85b2",
      "metadata": {
        "id": "914b85b2"
      },
      "source": [
        "If we hash the contents of a different file, we can confirm that we get a different digest."
      ]
    },
    {
      "cell_type": "code",
      "execution_count": 72,
      "id": "eae2d207",
      "metadata": {
        "id": "eae2d207"
      },
      "outputs": [
        {
          "data": {
            "text/plain": [
              "'6a501b11b01f89af9c3f6591d7f02c49'"
            ]
          },
          "execution_count": 72,
          "metadata": {},
          "output_type": "execute_result"
        }
      ],
      "source": [
        "filename2 = 'photos/feb-2023/photo2.jpg'\n",
        "md5_digest(filename2)"
      ]
    },
    {
      "cell_type": "markdown",
      "id": "deeabdde",
      "metadata": {
        "id": "deeabdde"
      },
      "source": [
        "Now we have almost everything we need to find equivalent files.\n",
        "The last step is to search a directory and find all of the images files."
      ]
    },
    {
      "cell_type": "markdown",
      "id": "129475df",
      "metadata": {
        "id": "129475df",
        "tags": []
      },
      "source": [
        "## Walking directories\n",
        "\n",
        "The following function takes as an argument the directory we want to search.\n",
        "It uses `listdir` to loop through the contents of the directory.\n",
        "When it finds a file, it prints its complete path.\n",
        "When it finds a directory, it calls itself recursively to search the subdirectory."
      ]
    },
    {
      "cell_type": "code",
      "execution_count": 46,
      "id": "c84a64db",
      "metadata": {
        "id": "c84a64db"
      },
      "outputs": [],
      "source": [
        "def walk(dirname):\n",
        "    for name in os.listdir(dirname):\n",
        "        path = os.path.join(dirname, name)\n",
        "\n",
        "        if os.path.isfile(path):\n",
        "            print(path)\n",
        "        elif os.path.isdir(path):\n",
        "            walk(path)"
      ]
    },
    {
      "cell_type": "markdown",
      "id": "faaf5b25",
      "metadata": {
        "id": "faaf5b25"
      },
      "source": [
        "We can use it like this:"
      ]
    },
    {
      "cell_type": "code",
      "execution_count": 75,
      "id": "f1c60f6b",
      "metadata": {
        "id": "f1c60f6b"
      },
      "outputs": [
        {
          "name": "stdout",
          "output_type": "stream",
          "text": [
            "photos\\notes.txt\n",
            "photos\\mar-2023\\photo2.jpg\n",
            "photos\\mar-2023\\photo1.jpg\n",
            "photos\\jan-2023\\photo3.jpg\n",
            "photos\\jan-2023\\photo2.jpg\n",
            "photos\\jan-2023\\photo1.jpg\n",
            "photos\\feb-2023\\photo2.jpg\n",
            "photos\\feb-2023\\photo1.jpg\n"
          ]
        }
      ],
      "source": [
        "walk('photos')"
      ]
    },
    {
      "cell_type": "markdown",
      "id": "897c66bf",
      "metadata": {
        "id": "897c66bf"
      },
      "source": [
        "The order of the results depends on details of the operating system."
      ]
    },
    {
      "cell_type": "markdown",
      "id": "c7853f18",
      "metadata": {
        "id": "c7853f18"
      },
      "source": [
        "## Debugging\n",
        "\n",
        "When you are reading and writing files, you might run into problems with whitespace.\n",
        "These errors can be hard to debug because whitespace characters are normally invisible.\n",
        "For example, here's a string that contains spaces, a tab represented by the sequence `\\t`, and a newline represented by the sequence `\\n`.\n",
        "When we print it, we don't see the whitespace characters."
      ]
    },
    {
      "cell_type": "code",
      "execution_count": 76,
      "id": "15d7425a",
      "metadata": {
        "id": "15d7425a"
      },
      "outputs": [
        {
          "name": "stdout",
          "output_type": "stream",
          "text": [
            "1 2\t 3\n",
            " 4\n"
          ]
        }
      ],
      "source": [
        "s = '1 2\\t 3\\n 4'\n",
        "print(s)"
      ]
    },
    {
      "cell_type": "markdown",
      "id": "49bbebe6",
      "metadata": {
        "id": "49bbebe6"
      },
      "source": [
        "The built-in function `repr` can help. It takes any object as an argument and returns a string representation of the object.\n",
        "For strings, it represents whitespace characters with backslash sequences."
      ]
    },
    {
      "cell_type": "code",
      "execution_count": 77,
      "id": "61feff85",
      "metadata": {
        "id": "61feff85"
      },
      "outputs": [
        {
          "name": "stdout",
          "output_type": "stream",
          "text": [
            "'1 2\\t 3\\n 4'\n"
          ]
        }
      ],
      "source": [
        "print(repr(s))"
      ]
    },
    {
      "cell_type": "markdown",
      "id": "790cf8dd",
      "metadata": {
        "id": "790cf8dd"
      },
      "source": [
        "This can be helpful for debugging.\n",
        "\n",
        "One other problem you might run into is that different systems use different characters to indicate the end of a line. Some systems use a newline, represented `\\n`. Others use a return character, represented `\\r`.\n",
        "Some use both. If you move files between different systems, these\n",
        "inconsistencies can cause problems.\n",
        "\n",
        "File name capitalization is another issue you might encounter if you work with different operating systems.\n",
        "In macOS and UNIX, file names can contain lowercase and uppercase letters, digits, and most symbols.\n",
        "But many Windows applications ignore the difference between lowercase and uppercase letters, and several symbols that are allowed in macOS and UNIX are not allowed in Windows."
      ]
    },
    {
      "cell_type": "markdown",
      "id": "cf063639",
      "metadata": {
        "id": "cf063639"
      },
      "source": [
        "## Glossary\n",
        "\n",
        "**ephemeral:**\n",
        "An ephemeral program typically runs for a short time and, when it ends, its data are lost.\n",
        "\n",
        "**persistent:**\n",
        " A persistent program runs indefinitely and keeps at least some of its data in permanent storage.\n",
        "\n",
        "**directory:**\n",
        "A collection of files and other directories.\n",
        "\n",
        "**current working directory:**\n",
        "The default directory used by a program unless another directory is specified.\n",
        "\n",
        "**path:**\n",
        " A string that specifies a sequence of directories, often leading to a file.\n",
        "\n",
        "**relative path:**\n",
        "A path that starts from the current working directory, or some other specified directory.\n",
        "\n",
        "**absolute path:**\n",
        "A path that does not depend on the current directory.\n",
        "\n",
        "**f-string:**\n",
        "A string that has the letter `f` before the opening quotation mark, and contains one or more expressions in curly braces.\n",
        "\n",
        "**configuration data:**\n",
        "Data, often stored in a file, that specifies what a program should do and how.\n",
        "\n",
        "**serialization:**\n",
        "Converting an object to a string.\n",
        "\n",
        "**deserialization:**\n",
        "Converting a string to an object.\n",
        "\n",
        "**database:**\n",
        " A file whose contents are organized to perform certain operations efficiently.\n",
        "\n",
        "**key-value stores:**\n",
        "A database whose contents are organized like a dictionary with keys that correspond to values.\n",
        "\n",
        "**binary mode:**\n",
        "A way of opening a file so the contents are interpreted as sequence of bytes rather than a sequence of characters.\n",
        "\n",
        "**hash function:**\n",
        "A function that takes and object and computes an integer, which is sometimes called a digest.\n",
        "\n",
        "**digest:**\n",
        "The result of a hash function, especially when it is used to check whether two objects are the same."
      ]
    },
    {
      "cell_type": "markdown",
      "id": "67941fdd",
      "metadata": {
        "id": "67941fdd"
      },
      "source": [
        "## Exercises"
      ]
    },
    {
      "cell_type": "code",
      "execution_count": 4,
      "id": "bd885ba1",
      "metadata": {
        "id": "bd885ba1",
        "tags": []
      },
      "outputs": [
        {
          "name": "stdout",
          "output_type": "stream",
          "text": [
            "Exception reporting mode: Verbose\n"
          ]
        }
      ],
      "source": [
        "# This cell tells Jupyter to provide detailed debugging information\n",
        "# when a runtime error occurs. Run it before working on the exercises.\n",
        "\n",
        "%xmode Verbose"
      ]
    },
    {
      "cell_type": "markdown",
      "id": "9a537173",
      "metadata": {
        "id": "9a537173"
      },
      "source": [
        "### Ask a virtual assistant\n",
        "\n",
        "There are several topics that came up in this chapter that I did not explain in detail.\n",
        "Here are some questions you can ask a virtual assistant to get more information.\n",
        "\n",
        "* \"What are the differences between ephemeral and persistent programs?\"\n",
        "\n",
        "* \"What are some examples of persistent programs?\"\n",
        "\n",
        "* \"What's the difference between a relative path and an absolute path?\"\n",
        "\n",
        "* \"Why does the `yaml` module have functions called `load` and `safe_load`?\"\n",
        "\n",
        "* \"When I write a Python shelf, what are the files with suffixes `dat` and `dir`?\"\n",
        "\n",
        "* \"Other than key-values stores, what other kinds of databases are there?\"\n",
        "\n",
        "* \"When I read a file, what's the difference between binary mode and text mode?\"\n",
        "\n",
        "* \"What are the differences between a bytes object and a string?\"\n",
        "\n",
        "* \"What is a hash function?\"\n",
        "\n",
        "* \"What is an MD5 digest?\"\n",
        "\n",
        "As always, if you get stuck on any of the following exercises, consider asking a VA for help.  Along with your question, you might want to paste in the relevant functions from this chapter."
      ]
    },
    {
      "cell_type": "markdown",
      "id": "7586e1e9",
      "metadata": {
        "id": "7586e1e9"
      },
      "source": [
        "### Exercise\n",
        "\n",
        "Write a function called `replace_all` that takes as arguments a pattern string, a replacement string, and two filenames.\n",
        "It should read the first file and write the contents into the second file (creating it if necessary).\n",
        "If the pattern string appears anywhere in the contents, it should be replaced with the replacement string."
      ]
    },
    {
      "cell_type": "markdown",
      "id": "85844afb",
      "metadata": {
        "id": "85844afb"
      },
      "source": [
        "Here's an outline of the function to get you started."
      ]
    },
    {
      "cell_type": "code",
      "execution_count": 6,
      "id": "1e598e70",
      "metadata": {
        "id": "1e598e70"
      },
      "outputs": [],
      "source": [
        "def replace_all(old, new, source_path, dest_path):\n",
        "    # read the contents of the source file\n",
        "    reader = open(source_path)\n",
        "    contents = reader.read()\n",
        "    reader.close()\n",
        "    # replace the old string with the new\n",
        "    updated_contents = contents.replace(old, new)\n",
        "\n",
        "    # write the result into the destination file\n",
        "    writer = open(dest_path, 'w')\n",
        "    writer.write(updated_contents)\n",
        "    writer.close()\n"
      ]
    },
    {
      "cell_type": "code",
      "execution_count": null,
      "id": "d3774d1a",
      "metadata": {
        "id": "d3774d1a"
      },
      "outputs": [],
      "source": [
        "# Solution goes here"
      ]
    },
    {
      "cell_type": "markdown",
      "id": "7f37245c",
      "metadata": {
        "id": "7f37245c"
      },
      "source": [
        "To test your function, read the file `photos/notes.txt`, replace `'photos'` with `'images'`, and write the result to the file `photos/new_notes.txt`."
      ]
    },
    {
      "cell_type": "code",
      "execution_count": 7,
      "id": "3b80dfd8",
      "metadata": {
        "id": "3b80dfd8",
        "tags": []
      },
      "outputs": [
        {
          "data": {
            "text/plain": [
              "'These photos are from photos Lorem Picsum at https://picsum.photos\\n'"
            ]
          },
          "execution_count": 7,
          "metadata": {},
          "output_type": "execute_result"
        }
      ],
      "source": [
        "source_path = 'photos/notes.txt'\n",
        "open(source_path).read()"
      ]
    },
    {
      "cell_type": "code",
      "execution_count": 8,
      "id": "4b67579f",
      "metadata": {
        "id": "4b67579f",
        "tags": []
      },
      "outputs": [],
      "source": [
        "dest_path = 'photos/new_notes.txt'\n",
        "old = 'photos'\n",
        "new = 'images'\n",
        "replace_all(old, new, source_path, dest_path)"
      ]
    },
    {
      "cell_type": "code",
      "execution_count": 9,
      "id": "1d990225",
      "metadata": {
        "id": "1d990225",
        "tags": []
      },
      "outputs": [
        {
          "data": {
            "text/plain": [
              "'These images are from images Lorem Picsum at https://picsum.images\\n'"
            ]
          },
          "execution_count": 9,
          "metadata": {},
          "output_type": "execute_result"
        }
      ],
      "source": [
        "open(dest_path).read()"
      ]
    },
    {
      "cell_type": "markdown",
      "id": "7b2589a4",
      "metadata": {
        "id": "7b2589a4"
      },
      "source": [
        "### Exercise\n",
        "\n",
        "In [a previous section](section_storing_data_structure), we used the `shelve` module to make a key-value store that maps from a sorted string of letters to a list of anagrams.\n",
        "To finish the example, write a function called `add_word` that takes as arguments a string and a shelf object.\n",
        "\n",
        "It should sort the letters of the word to make a key, then check whether the key is already in the shelf. If not, it should make a list that contains the new word and add it to the shelf. If so, it should append the new word to the existing value."
      ]
    },
    {
      "cell_type": "code",
      "execution_count": null,
      "id": "1c2fff95",
      "metadata": {
        "id": "1c2fff95"
      },
      "outputs": [],
      "source": [
        "anag = {}\n",
        "def add_word(word, db):\n",
        "    letters = sort_word(word)\n",
        "    if letters in anag:\n",
        "        anag[letters].append(word)\n",
        "        #db[letters] = anag[letters]\n",
        "    else:\n",
        "        anag[letters] = [word]\n",
        "        #db[letters] = anag[letters]"
      ]
    },
    {
      "cell_type": "markdown",
      "id": "07cb454f",
      "metadata": {
        "id": "07cb454f",
        "tags": []
      },
      "source": [
        "You can use this loop to test your function."
      ]
    },
    {
      "cell_type": "code",
      "execution_count": 3,
      "id": "8008cde6",
      "metadata": {
        "id": "8008cde6",
        "tags": []
      },
      "outputs": [],
      "source": [
        "download('https://raw.githubusercontent.com/AllenDowney/ThinkPython/v3/words.txt');"
      ]
    },
    {
      "cell_type": "code",
      "execution_count": 28,
      "id": "a6b5e51a",
      "metadata": {
        "id": "a6b5e51a",
        "tags": []
      },
      "outputs": [],
      "source": [
        "import shelve\n",
        "\n",
        "if 'db' in locals():\n",
        "    db.close()\n",
        "word_list = open('words.txt').read().split()\n",
        "\n",
        "db = shelve.open('anagram_map', 'n')\n",
        "for word in word_list:\n",
        "    add_word(word, db)\n",
        "\n",
        "\n"
      ]
    },
    {
      "cell_type": "code",
      "execution_count": 29,
      "id": "bcfd40e5",
      "metadata": {},
      "outputs": [
        {
          "data": {
            "text/plain": [
              "{'aa': ['aa', 'aa', 'aa', 'aa'],\n",
              " 'aah': ['aah', 'aha', 'aah', 'aha', 'aah', 'aha', 'aah', 'aha'],\n",
              " 'aadeh': ['aahed',\n",
              "  'ahead',\n",
              "  'aahed',\n",
              "  'ahead',\n",
              "  'aahed',\n",
              "  'ahead',\n",
              "  'aahed',\n",
              "  'ahead'],\n",
              " 'aaghin': ['aahing', 'aahing', 'aahing', 'aahing'],\n",
              " 'aahs': ['aahs', 'aahs', 'aahs', 'aahs'],\n",
              " 'aal': ['aal', 'ala', 'aal', 'ala', 'aal', 'ala', 'aal', 'ala'],\n",
              " 'aaiil': ['aalii', 'aalii', 'aalii', 'aalii'],\n",
              " 'aaiils': ['aaliis', 'aaliis', 'aaliis', 'aaliis'],\n",
              " 'aals': ['aals', 'alas', 'aals', 'alas', 'aals', 'alas', 'aals', 'alas'],\n",
              " 'aaadkrrv': ['aardvark', 'aardvark', 'aardvark', 'aardvark'],\n",
              " 'aaadkrrsv': ['aardvarks', 'aardvarks', 'aardvarks', 'aardvarks'],\n",
              " 'aadflorw': ['aardwolf', 'aardwolf', 'aardwolf', 'aardwolf'],\n",
              " 'aadelorsvw': ['aardwolves', 'aardwolves', 'aardwolves', 'aardwolves'],\n",
              " 'aas': ['aas', 'aas', 'aas', 'aas'],\n",
              " 'aaeglosv': ['aasvogel', 'aasvogel', 'aasvogel', 'aasvogel'],\n",
              " 'aaeglossv': ['aasvogels', 'aasvogels', 'aasvogels', 'aasvogels'],\n",
              " 'aab': ['aba', 'baa', 'aba', 'baa', 'aba', 'baa', 'aba', 'baa'],\n",
              " 'aaabc': ['abaca', 'abaca', 'abaca', 'abaca'],\n",
              " 'aaabcs': ['abacas',\n",
              "  'casaba',\n",
              "  'abacas',\n",
              "  'casaba',\n",
              "  'abacas',\n",
              "  'casaba',\n",
              "  'abacas',\n",
              "  'casaba'],\n",
              " 'aabci': ['abaci', 'abaci', 'abaci', 'abaci'],\n",
              " 'aabck': ['aback', 'aback', 'aback', 'aback'],\n",
              " 'aabcsu': ['abacus', 'abacus', 'abacus', 'abacus'],\n",
              " 'aabcessu': ['abacuses', 'abacuses', 'abacuses', 'abacuses'],\n",
              " 'aabft': ['abaft', 'abaft', 'abaft', 'abaft'],\n",
              " 'aaabk': ['abaka', 'abaka', 'abaka', 'abaka'],\n",
              " 'aaabks': ['abakas', 'abakas', 'abakas', 'abakas'],\n",
              " 'aabelno': ['abalone', 'abalone', 'abalone', 'abalone'],\n",
              " 'aabelnos': ['abalones', 'abalones', 'abalones', 'abalones'],\n",
              " 'aabmp': ['abamp', 'abamp', 'abamp', 'abamp'],\n",
              " 'aabeempr': ['abampere', 'abampere', 'abampere', 'abampere'],\n",
              " 'aabeemprs': ['abamperes', 'abamperes', 'abamperes', 'abamperes'],\n",
              " 'aabmps': ['abamps', 'abamps', 'abamps', 'abamps'],\n",
              " 'aabdnno': ['abandon', 'abandon', 'abandon', 'abandon'],\n",
              " 'aabddenno': ['abandoned', 'abandoned', 'abandoned', 'abandoned'],\n",
              " 'aabdginnno': ['abandoning', 'abandoning', 'abandoning', 'abandoning'],\n",
              " 'aabdemnnnot': ['abandonment', 'abandonment', 'abandonment', 'abandonment'],\n",
              " 'aabdemnnnost': ['abandonments',\n",
              "  'abandonments',\n",
              "  'abandonments',\n",
              "  'abandonments'],\n",
              " 'aabdnnos': ['abandons', 'abandons', 'abandons', 'abandons'],\n",
              " 'aabs': ['abas', 'baas', 'abas', 'baas', 'abas', 'baas', 'abas', 'baas'],\n",
              " 'aabes': ['abase', 'abase', 'abase', 'abase'],\n",
              " 'aabdes': ['abased', 'abased', 'abased', 'abased'],\n",
              " 'aabdelsy': ['abasedly', 'abasedly', 'abasedly', 'abasedly'],\n",
              " 'aabeemnst': ['abasement',\n",
              "  'entamebas',\n",
              "  'abasement',\n",
              "  'entamebas',\n",
              "  'abasement',\n",
              "  'entamebas',\n",
              "  'abasement',\n",
              "  'entamebas'],\n",
              " 'aabeemnsst': ['abasements', 'abasements', 'abasements', 'abasements'],\n",
              " 'aabers': ['abaser', 'abaser', 'abaser', 'abaser'],\n",
              " 'aaberss': ['abasers', 'abasers', 'abasers', 'abasers'],\n",
              " 'aabess': ['abases', 'abases', 'abases', 'abases'],\n",
              " 'aabhs': ['abash', 'abash', 'abash', 'abash'],\n",
              " 'aabdehs': ['abashed', 'abashed', 'abashed', 'abashed'],\n",
              " 'aabehss': ['abashes', 'abashes', 'abashes', 'abashes'],\n",
              " 'aabghins': ['abashing', 'abashing', 'abashing', 'abashing'],\n",
              " 'aabgins': ['abasing',\n",
              "  'bisnaga',\n",
              "  'abasing',\n",
              "  'bisnaga',\n",
              "  'abasing',\n",
              "  'bisnaga',\n",
              "  'abasing',\n",
              "  'bisnaga'],\n",
              " 'aaabbelt': ['abatable', 'abatable', 'abatable', 'abatable'],\n",
              " 'aabet': ['abate', 'abate', 'abate', 'abate'],\n",
              " 'aabdet': ['abated', 'abated', 'abated', 'abated'],\n",
              " 'aabeemntt': ['abatement', 'abatement', 'abatement', 'abatement'],\n",
              " 'aabeemnstt': ['abatements', 'abatements', 'abatements', 'abatements'],\n",
              " 'aabert': ['abater', 'abater', 'abater', 'abater'],\n",
              " 'aaberst': ['abaters',\n",
              "  'abreast',\n",
              "  'abaters',\n",
              "  'abreast',\n",
              "  'abaters',\n",
              "  'abreast',\n",
              "  'abaters',\n",
              "  'abreast'],\n",
              " 'aabest': ['abates', 'abates', 'abates', 'abates'],\n",
              " 'aabgint': ['abating', 'abating', 'abating', 'abating'],\n",
              " 'aabist': ['abatis', 'abatis', 'abatis', 'abatis'],\n",
              " 'aabeisst': ['abatises', 'abatises', 'abatises', 'abatises'],\n",
              " 'aabort': ['abator',\n",
              "  'rabato',\n",
              "  'abator',\n",
              "  'rabato',\n",
              "  'abator',\n",
              "  'rabato',\n",
              "  'abator',\n",
              "  'rabato'],\n",
              " 'aaborst': ['abators',\n",
              "  'rabatos',\n",
              "  'abators',\n",
              "  'rabatos',\n",
              "  'abators',\n",
              "  'rabatos',\n",
              "  'abators',\n",
              "  'rabatos'],\n",
              " 'aabistt': ['abattis', 'abattis', 'abattis', 'abattis'],\n",
              " 'aabeisstt': ['abattises', 'abattises', 'abattises', 'abattises'],\n",
              " 'aabiortt': ['abattoir', 'abattoir', 'abattoir', 'abattoir'],\n",
              " 'aabiorstt': ['abattoirs', 'abattoirs', 'abattoirs', 'abattoirs'],\n",
              " 'aaabilx': ['abaxial', 'abaxial', 'abaxial', 'abaxial'],\n",
              " 'aabeilx': ['abaxile', 'abaxile', 'abaxile', 'abaxile'],\n",
              " 'aabbceis': ['abbacies', 'abbacies', 'abbacies', 'abbacies'],\n",
              " 'aabbcy': ['abbacy', 'abbacy', 'abbacy', 'abbacy'],\n",
              " 'aaabbilt': ['abbatial', 'abbatial', 'abbatial', 'abbatial'],\n",
              " 'abbe': ['abbe', 'babe', 'abbe', 'babe', 'abbe', 'babe', 'abbe', 'babe'],\n",
              " 'abbes': ['abbes',\n",
              "  'babes',\n",
              "  'abbes',\n",
              "  'babes',\n",
              "  'abbes',\n",
              "  'babes',\n",
              "  'abbes',\n",
              "  'babes'],\n",
              " 'abbess': ['abbess', 'abbess', 'abbess', 'abbess'],\n",
              " 'abbeesss': ['abbesses', 'abbesses', 'abbesses', 'abbesses'],\n",
              " 'abbey': ['abbey', 'abbey', 'abbey', 'abbey'],\n",
              " 'abbesy': ['abbeys', 'abbeys', 'abbeys', 'abbeys'],\n",
              " 'abbot': ['abbot', 'abbot', 'abbot', 'abbot'],\n",
              " 'abbceiost': ['abbotcies', 'abbotcies', 'abbotcies', 'abbotcies'],\n",
              " 'abbcoty': ['abbotcy', 'abbotcy', 'abbotcy', 'abbotcy'],\n",
              " 'abbost': ['abbots', 'abbots', 'abbots', 'abbots'],\n",
              " 'aabbeeirtv': ['abbreviate', 'abbreviate', 'abbreviate', 'abbreviate'],\n",
              " 'aabbdeeirtv': ['abbreviated', 'abbreviated', 'abbreviated', 'abbreviated'],\n",
              " 'aabbeeirstv': ['abbreviates', 'abbreviates', 'abbreviates', 'abbreviates'],\n",
              " 'aabbegiinrtv': ['abbreviating',\n",
              "  'abbreviating',\n",
              "  'abbreviating',\n",
              "  'abbreviating'],\n",
              " 'aabbeiinortv': ['abbreviation',\n",
              "  'abbreviation',\n",
              "  'abbreviation',\n",
              "  'abbreviation'],\n",
              " 'aabbeiinorstv': ['abbreviations',\n",
              "  'abbreviations',\n",
              "  'abbreviations',\n",
              "  'abbreviations'],\n",
              " 'aabcdeit': ['abdicate', 'abdicate', 'abdicate', 'abdicate'],\n",
              " 'aabcddeit': ['abdicated', 'abdicated', 'abdicated', 'abdicated'],\n",
              " 'aabcdeist': ['abdicates', 'abdicates', 'abdicates', 'abdicates'],\n",
              " 'aabcdgiint': ['abdicating', 'abdicating', 'abdicating', 'abdicating'],\n",
              " 'aabcdiinot': ['abdication', 'abdication', 'abdication', 'abdication'],\n",
              " 'aabcdiinost': ['abdications', 'abdications', 'abdications', 'abdications'],\n",
              " 'abdemno': ['abdomen', 'abdomen', 'abdomen', 'abdomen'],\n",
              " 'abdemnos': ['abdomens', 'abdomens', 'abdomens', 'abdomens'],\n",
              " 'aabdimno': ['abdomina', 'abdomina', 'abdomina', 'abdomina'],\n",
              " 'aabdilmno': ['abdominal', 'abdominal', 'abdominal', 'abdominal'],\n",
              " 'aabdillmnoy': ['abdominally', 'abdominally', 'abdominally', 'abdominally'],\n",
              " 'abcdeu': ['abduce', 'abduce', 'abduce', 'abduce'],\n",
              " 'abcddeu': ['abduced', 'abduced', 'abduced', 'abduced'],\n",
              " 'abcdensu': ['abducens', 'abducens', 'abducens', 'abducens'],\n",
              " 'abcdentu': ['abducent', 'abducent', 'abducent', 'abducent'],\n",
              " 'abcdeenstu': ['abducentes', 'abducentes', 'abducentes', 'abducentes'],\n",
              " 'abcdesu': ['abduces', 'abduces', 'abduces', 'abduces'],\n",
              " 'abcdginu': ['abducing', 'abducing', 'abducing', 'abducing'],\n",
              " 'abcdtu': ['abduct', 'abduct', 'abduct', 'abduct'],\n",
              " 'abcddetu': ['abducted', 'abducted', 'abducted', 'abducted'],\n",
              " 'abcdgintu': ['abducting', 'abducting', 'abducting', 'abducting'],\n",
              " 'abcdortu': ['abductor', 'abductor', 'abductor', 'abductor'],\n",
              " 'abcdeorstu': ['abductores', 'abductores', 'abductores', 'abductores'],\n",
              " 'abcdorstu': ['abductors', 'abductors', 'abductors', 'abductors'],\n",
              " 'abcdstu': ['abducts', 'abducts', 'abducts', 'abducts'],\n",
              " 'aabem': ['abeam',\n",
              "  'ameba',\n",
              "  'abeam',\n",
              "  'ameba',\n",
              "  'abeam',\n",
              "  'ameba',\n",
              "  'abeam',\n",
              "  'ameba'],\n",
              " 'abde': ['abed',\n",
              "  'bade',\n",
              "  'bead',\n",
              "  'abed',\n",
              "  'bade',\n",
              "  'bead',\n",
              "  'abed',\n",
              "  'bade',\n",
              "  'bead',\n",
              "  'abed',\n",
              "  'bade',\n",
              "  'bead'],\n",
              " 'abeel': ['abele', 'abele', 'abele', 'abele'],\n",
              " 'abeels': ['abeles', 'abeles', 'abeles', 'abeles'],\n",
              " 'abeklmos': ['abelmosk',\n",
              "  'smokable',\n",
              "  'abelmosk',\n",
              "  'smokable',\n",
              "  'abelmosk',\n",
              "  'smokable',\n",
              "  'abelmosk',\n",
              "  'smokable'],\n",
              " 'abeklmoss': ['abelmosks', 'abelmosks', 'abelmosks', 'abelmosks'],\n",
              " 'aabenrrt': ['aberrant', 'aberrant', 'aberrant', 'aberrant'],\n",
              " 'aabenrrst': ['aberrants', 'aberrants', 'aberrants', 'aberrants'],\n",
              " 'aabeinorrt': ['aberration', 'aberration', 'aberration', 'aberration'],\n",
              " 'aabeinorrst': ['aberrations', 'aberrations', 'aberrations', 'aberrations'],\n",
              " 'abet': ['abet',\n",
              "  'bate',\n",
              "  'beat',\n",
              "  'beta',\n",
              "  'abet',\n",
              "  'bate',\n",
              "  'beat',\n",
              "  'beta',\n",
              "  'abet',\n",
              "  'bate',\n",
              "  'beat',\n",
              "  'beta',\n",
              "  'abet',\n",
              "  'bate',\n",
              "  'beat',\n",
              "  'beta'],\n",
              " 'abeemntt': ['abetment', 'abetment', 'abetment', 'abetment'],\n",
              " 'abeemnstt': ['abetments', 'abetments', 'abetments', 'abetments'],\n",
              " 'abest': ['abets',\n",
              "  'baste',\n",
              "  'bates',\n",
              "  'beast',\n",
              "  'beats',\n",
              "  'betas',\n",
              "  'tabes',\n",
              "  'abets',\n",
              "  'baste',\n",
              "  'bates',\n",
              "  'beast',\n",
              "  'beats',\n",
              "  'betas',\n",
              "  'tabes',\n",
              "  'abets',\n",
              "  'baste',\n",
              "  'bates',\n",
              "  'beast',\n",
              "  'beats',\n",
              "  'betas',\n",
              "  'tabes',\n",
              "  'abets',\n",
              "  'baste',\n",
              "  'bates',\n",
              "  'beast',\n",
              "  'beats',\n",
              "  'betas',\n",
              "  'tabes'],\n",
              " 'aabeltt': ['abettal', 'abettal', 'abettal', 'abettal'],\n",
              " 'aabelstt': ['abettals',\n",
              "  'statable',\n",
              "  'tastable',\n",
              "  'abettals',\n",
              "  'statable',\n",
              "  'tastable',\n",
              "  'abettals',\n",
              "  'statable',\n",
              "  'tastable',\n",
              "  'abettals',\n",
              "  'statable',\n",
              "  'tastable'],\n",
              " 'abdeett': ['abetted', 'abetted', 'abetted', 'abetted'],\n",
              " 'abeertt': ['abetter',\n",
              "  'beretta',\n",
              "  'abetter',\n",
              "  'beretta',\n",
              "  'abetter',\n",
              "  'beretta',\n",
              "  'abetter',\n",
              "  'beretta'],\n",
              " 'abeerstt': ['abetters',\n",
              "  'berettas',\n",
              "  'abetters',\n",
              "  'berettas',\n",
              "  'abetters',\n",
              "  'berettas',\n",
              "  'abetters',\n",
              "  'berettas'],\n",
              " 'abegintt': ['abetting', 'abetting', 'abetting', 'abetting'],\n",
              " 'abeortt': ['abettor',\n",
              "  'taboret',\n",
              "  'abettor',\n",
              "  'taboret',\n",
              "  'abettor',\n",
              "  'taboret',\n",
              "  'abettor',\n",
              "  'taboret'],\n",
              " 'abeorstt': ['abettors',\n",
              "  'taborets',\n",
              "  'abettors',\n",
              "  'taborets',\n",
              "  'abettors',\n",
              "  'taborets',\n",
              "  'abettors',\n",
              "  'taborets'],\n",
              " 'aabceeny': ['abeyance', 'abeyance', 'abeyance', 'abeyance'],\n",
              " 'aabceensy': ['abeyances', 'abeyances', 'abeyances', 'abeyances'],\n",
              " 'aabceeinsy': ['abeyancies', 'abeyancies', 'abeyancies', 'abeyancies'],\n",
              " 'aabcenyy': ['abeyancy', 'abeyancy', 'abeyancy', 'abeyancy'],\n",
              " 'aabenty': ['abeyant', 'abeyant', 'abeyant', 'abeyant'],\n",
              " 'aaabdfr': ['abfarad', 'abfarad', 'abfarad', 'abfarad'],\n",
              " 'aaabdfrs': ['abfarads', 'abfarads', 'abfarads', 'abfarads'],\n",
              " 'abeehinrs': ['abhenries', 'abhenries', 'abhenries', 'abhenries'],\n",
              " 'abehnry': ['abhenry', 'abhenry', 'abhenry', 'abhenry'],\n",
              " 'abehnrsy': ['abhenrys', 'abhenrys', 'abhenrys', 'abhenrys'],\n",
              " 'abhor': ['abhor', 'abhor', 'abhor', 'abhor'],\n",
              " 'abdehorr': ['abhorred',\n",
              "  'harbored',\n",
              "  'abhorred',\n",
              "  'harbored',\n",
              "  'abhorred',\n",
              "  'harbored',\n",
              "  'abhorred',\n",
              "  'harbored'],\n",
              " 'abceehnorr': ['abhorrence', 'abhorrence', 'abhorrence', 'abhorrence'],\n",
              " 'abceehnorrs': ['abhorrences', 'abhorrences', 'abhorrences', 'abhorrences'],\n",
              " 'abehnorrt': ['abhorrent', 'abhorrent', 'abhorrent', 'abhorrent'],\n",
              " 'abehorrr': ['abhorrer',\n",
              "  'harborer',\n",
              "  'abhorrer',\n",
              "  'harborer',\n",
              "  'abhorrer',\n",
              "  'harborer',\n",
              "  'abhorrer',\n",
              "  'harborer'],\n",
              " 'abehorrrs': ['abhorrers',\n",
              "  'harborers',\n",
              "  'abhorrers',\n",
              "  'harborers',\n",
              "  'abhorrers',\n",
              "  'harborers',\n",
              "  'abhorrers',\n",
              "  'harborers'],\n",
              " 'abghinorr': ['abhorring',\n",
              "  'harboring',\n",
              "  'abhorring',\n",
              "  'harboring',\n",
              "  'abhorring',\n",
              "  'harboring',\n",
              "  'abhorring',\n",
              "  'harboring'],\n",
              " 'abhors': ['abhors', 'abhors', 'abhors', 'abhors'],\n",
              " 'aabcdein': ['abidance', 'abidance', 'abidance', 'abidance'],\n",
              " 'aabcdeins': ['abidances', 'abidances', 'abidances', 'abidances'],\n",
              " 'abdei': ['abide',\n",
              "  'abied',\n",
              "  'abide',\n",
              "  'abied',\n",
              "  'abide',\n",
              "  'abied',\n",
              "  'abide',\n",
              "  'abied'],\n",
              " 'abddei': ['abided',\n",
              "  'baddie',\n",
              "  'abided',\n",
              "  'baddie',\n",
              "  'abided',\n",
              "  'baddie',\n",
              "  'abided',\n",
              "  'baddie'],\n",
              " 'abdeir': ['abider', 'abider', 'abider', 'abider'],\n",
              " 'abdeirs': ['abiders',\n",
              "  'braised',\n",
              "  'darbies',\n",
              "  'seabird',\n",
              "  'abiders',\n",
              "  'braised',\n",
              "  'darbies',\n",
              "  'seabird',\n",
              "  'abiders',\n",
              "  'braised',\n",
              "  'darbies',\n",
              "  'seabird',\n",
              "  'abiders',\n",
              "  'braised',\n",
              "  'darbies',\n",
              "  'seabird'],\n",
              " 'abdeis': ['abides',\n",
              "  'biased',\n",
              "  'abides',\n",
              "  'biased',\n",
              "  'abides',\n",
              "  'biased',\n",
              "  'abides',\n",
              "  'biased'],\n",
              " 'abdgiin': ['abiding', 'abiding', 'abiding', 'abiding'],\n",
              " 'abeis': ['abies', 'abies', 'abies', 'abies'],\n",
              " 'aabgiil': ['abigail', 'abigail', 'abigail', 'abigail'],\n",
              " 'aabgiils': ['abigails', 'abigails', 'abigails', 'abigails'],\n",
              " 'abeiiilst': ['abilities', 'abilities', 'abilities', 'abilities'],\n",
              " 'abiilty': ['ability', 'ability', 'ability', 'ability'],\n",
              " 'abeioss': ['abioses', 'abioses', 'abioses', 'abioses'],\n",
              " 'abiioss': ['abiosis', 'abiosis', 'abiosis', 'abiosis'],\n",
              " 'abciiot': ['abiotic', 'abiotic', 'abiotic', 'abiotic'],\n",
              " 'abcejt': ['abject', 'abject', 'abject', 'abject'],\n",
              " 'abcejlty': ['abjectly', 'abjectly', 'abjectly', 'abjectly'],\n",
              " 'abceejnsst': ['abjectness', 'abjectness', 'abjectness', 'abjectness'],\n",
              " 'abceeejnssst': ['abjectnesses',\n",
              "  'abjectnesses',\n",
              "  'abjectnesses',\n",
              "  'abjectnesses'],\n",
              " 'aabijnortu': ['abjuration', 'abjuration', 'abjuration', 'abjuration'],\n",
              " 'aabijnorstu': ['abjurations', 'abjurations', 'abjurations', 'abjurations'],\n",
              " 'abejru': ['abjure', 'abjure', 'abjure', 'abjure'],\n",
              " 'abdejru': ['abjured', 'abjured', 'abjured', 'abjured'],\n",
              " 'abejrru': ['abjurer', 'abjurer', 'abjurer', 'abjurer'],\n",
              " 'abejrrsu': ['abjurers', 'abjurers', 'abjurers', 'abjurers'],\n",
              " 'abejrsu': ['abjures', 'abjures', 'abjures', 'abjures'],\n",
              " 'abgijnru': ['abjuring', 'abjuring', 'abjuring', 'abjuring'],\n",
              " 'aabelt': ['ablate', 'ablate', 'ablate', 'ablate'],\n",
              " 'aabdelt': ['ablated',\n",
              "  'datable',\n",
              "  'ablated',\n",
              "  'datable',\n",
              "  'ablated',\n",
              "  'datable',\n",
              "  'ablated',\n",
              "  'datable'],\n",
              " 'aabelst': ['ablates', 'ablates', 'ablates', 'ablates'],\n",
              " 'aabgilnt': ['ablating',\n",
              "  'bangtail',\n",
              "  'ablating',\n",
              "  'bangtail',\n",
              "  'ablating',\n",
              "  'bangtail',\n",
              "  'ablating',\n",
              "  'bangtail'],\n",
              " 'aabilnot': ['ablation', 'ablation', 'ablation', 'ablation'],\n",
              " 'aabilnost': ['ablations', 'ablations', 'ablations', 'ablations'],\n",
              " 'aabeiltv': ['ablative', 'ablative', 'ablative', 'ablative'],\n",
              " 'aabeilstv': ['ablatives', 'ablatives', 'ablatives', 'ablatives'],\n",
              " 'aabltu': ['ablaut', 'ablaut', 'ablaut', 'ablaut'],\n",
              " 'aablstu': ['ablauts', 'ablauts', 'ablauts', 'ablauts'],\n",
              " 'aabelz': ['ablaze', 'ablaze', 'ablaze', 'ablaze'],\n",
              " 'abel': ['able',\n",
              "  'bale',\n",
              "  'blae',\n",
              "  'able',\n",
              "  'bale',\n",
              "  'blae',\n",
              "  'able',\n",
              "  'bale',\n",
              "  'blae',\n",
              "  'able',\n",
              "  'bale',\n",
              "  'blae'],\n",
              " 'aabeeglt': ['ablegate', 'ablegate', 'ablegate', 'ablegate'],\n",
              " 'aabeeglst': ['ablegates', 'ablegates', 'ablegates', 'ablegates'],\n",
              " 'abelr': ['abler',\n",
              "  'baler',\n",
              "  'blare',\n",
              "  'blear',\n",
              "  'abler',\n",
              "  'baler',\n",
              "  'blare',\n",
              "  'blear',\n",
              "  'abler',\n",
              "  'baler',\n",
              "  'blare',\n",
              "  'blear',\n",
              "  'abler',\n",
              "  'baler',\n",
              "  'blare',\n",
              "  'blear'],\n",
              " 'abels': ['ables',\n",
              "  'bales',\n",
              "  'blase',\n",
              "  'sable',\n",
              "  'ables',\n",
              "  'bales',\n",
              "  'blase',\n",
              "  'sable',\n",
              "  'ables',\n",
              "  'bales',\n",
              "  'blase',\n",
              "  'sable',\n",
              "  'ables',\n",
              "  'bales',\n",
              "  'blase',\n",
              "  'sable'],\n",
              " 'abelst': ['ablest',\n",
              "  'bleats',\n",
              "  'stable',\n",
              "  'tables',\n",
              "  'ablest',\n",
              "  'bleats',\n",
              "  'stable',\n",
              "  'tables',\n",
              "  'ablest',\n",
              "  'bleats',\n",
              "  'stable',\n",
              "  'tables',\n",
              "  'ablest',\n",
              "  'bleats',\n",
              "  'stable',\n",
              "  'tables'],\n",
              " 'abgilns': ['ablings', 'ablings', 'ablings', 'ablings'],\n",
              " 'abilns': ['ablins',\n",
              "  'blains',\n",
              "  'ablins',\n",
              "  'blains',\n",
              "  'ablins',\n",
              "  'blains',\n",
              "  'ablins',\n",
              "  'blains'],\n",
              " 'ablmoo': ['abloom', 'abloom', 'abloom', 'abloom'],\n",
              " 'abelntu': ['abluent',\n",
              "  'tunable',\n",
              "  'abluent',\n",
              "  'tunable',\n",
              "  'abluent',\n",
              "  'tunable',\n",
              "  'abluent',\n",
              "  'tunable'],\n",
              " 'abelnstu': ['abluents',\n",
              "  'unstable',\n",
              "  'abluents',\n",
              "  'unstable',\n",
              "  'abluents',\n",
              "  'unstable',\n",
              "  'abluents',\n",
              "  'unstable'],\n",
              " 'abhlsu': ['ablush', 'ablush', 'ablush', 'ablush'],\n",
              " 'abdeltu': ['abluted', 'abluted', 'abluted', 'abluted'],\n",
              " 'abilnotu': ['ablution',\n",
              "  'abutilon',\n",
              "  'ablution',\n",
              "  'abutilon',\n",
              "  'ablution',\n",
              "  'abutilon',\n",
              "  'ablution',\n",
              "  'abutilon'],\n",
              " 'abilnostu': ['ablutions',\n",
              "  'abutilons',\n",
              "  'ablutions',\n",
              "  'abutilons',\n",
              "  'ablutions',\n",
              "  'abutilons',\n",
              "  'ablutions',\n",
              "  'abutilons'],\n",
              " 'ably': ['ably', 'ably', 'ably', 'ably'],\n",
              " 'abhmo': ['abmho',\n",
              "  'abohm',\n",
              "  'abmho',\n",
              "  'abohm',\n",
              "  'abmho',\n",
              "  'abohm',\n",
              "  'abmho',\n",
              "  'abohm'],\n",
              " 'abhmos': ['abmhos',\n",
              "  'abohms',\n",
              "  'abmhos',\n",
              "  'abohms',\n",
              "  'abmhos',\n",
              "  'abohms',\n",
              "  'abmhos',\n",
              "  'abohms'],\n",
              " 'aabeegnt': ['abnegate', 'abnegate', 'abnegate', 'abnegate'],\n",
              " 'aabdeegnt': ['abnegated', 'abnegated', 'abnegated', 'abnegated'],\n",
              " 'aabeegnst': ['abnegates', 'abnegates', 'abnegates', 'abnegates'],\n",
              " 'aabegginnt': ['abnegating', 'abnegating', 'abnegating', 'abnegating'],\n",
              " 'aabeginnot': ['abnegation', 'abnegation', 'abnegation', 'abnegation'],\n",
              " 'aabeginnost': ['abnegations', 'abnegations', 'abnegations', 'abnegations'],\n",
              " 'aablmnor': ['abnormal', 'abnormal', 'abnormal', 'abnormal'],\n",
              " 'aabeiilmnorst': ['abnormalities',\n",
              "  'abnormalities',\n",
              "  'abnormalities',\n",
              "  'abnormalities'],\n",
              " 'aabilmnorty': ['abnormality', 'abnormality', 'abnormality', 'abnormality'],\n",
              " 'aabllmnory': ['abnormally', 'abnormally', 'abnormally', 'abnormally'],\n",
              " 'aablmnors': ['abnormals', 'abnormals', 'abnormals', 'abnormals'],\n",
              " 'abo': ['abo', 'boa', 'abo', 'boa', 'abo', 'boa', 'abo', 'boa'],\n",
              " 'aabdor': ['aboard',\n",
              "  'abroad',\n",
              "  'aboard',\n",
              "  'abroad',\n",
              "  'aboard',\n",
              "  'abroad',\n",
              "  'aboard',\n",
              "  'abroad'],\n",
              " 'abdeo': ['abode',\n",
              "  'adobe',\n",
              "  'abode',\n",
              "  'adobe',\n",
              "  'abode',\n",
              "  'adobe',\n",
              "  'abode',\n",
              "  'adobe'],\n",
              " 'abddeo': ['aboded', 'aboded', 'aboded', 'aboded'],\n",
              " 'abdeos': ['abodes',\n",
              "  'adobes',\n",
              "  'abodes',\n",
              "  'adobes',\n",
              "  'abodes',\n",
              "  'adobes',\n",
              "  'abodes',\n",
              "  'adobes'],\n",
              " 'abdgino': ['aboding', 'aboding', 'aboding', 'aboding'],\n",
              " 'aabdeiou': ['aboideau', 'aboideau', 'aboideau', 'aboideau'],\n",
              " 'aabdeiosu': ['aboideaus', 'aboideaus', 'aboideaus', 'aboideaus'],\n",
              " 'aabdeioux': ['aboideaux', 'aboideaux', 'aboideaux', 'aboideaux'],\n",
              " 'abilo': ['aboil', 'aboil', 'aboil', 'aboil'],\n",
              " 'aabeiotu': ['aboiteau', 'aboiteau', 'aboiteau', 'aboiteau'],\n",
              " 'aabeiostu': ['aboiteaus', 'aboiteaus', 'aboiteaus', 'aboiteaus'],\n",
              " 'aabeiotux': ['aboiteaux', 'aboiteaux', 'aboiteaux', 'aboiteaux'],\n",
              " 'abhilos': ['abolish', 'abolish', 'abolish', 'abolish'],\n",
              " 'abdehilos': ['abolished', 'abolished', 'abolished', 'abolished'],\n",
              " 'abehiloss': ['abolishes', 'abolishes', 'abolishes', 'abolishes'],\n",
              " 'abghiilnos': ['abolishing', 'abolishing', 'abolishing', 'abolishing'],\n",
              " 'abiilnoot': ['abolition', 'abolition', 'abolition', 'abolition'],\n",
              " 'abiilnoost': ['abolitions', 'abolitions', 'abolitions', 'abolitions'],\n",
              " 'aabllo': ['abolla', 'abolla', 'abolla', 'abolla'],\n",
              " 'aabello': ['abollae', 'abollae', 'abollae', 'abollae'],\n",
              " 'aabmo': ['aboma', 'aboma', 'aboma', 'aboma'],\n",
              " 'aabmos': ['abomas', 'abomas', 'abomas', 'abomas'],\n",
              " 'aaabmos': ['abomasa', 'abomasa', 'abomasa', 'abomasa'],\n",
              " 'aaablmos': ['abomasal', 'abomasal', 'abomasal', 'abomasal'],\n",
              " 'aabimos': ['abomasi', 'abomasi', 'abomasi', 'abomasi'],\n",
              " 'aabmmosu': ['abomasum', 'abomasum', 'abomasum', 'abomasum'],\n",
              " 'aabmossu': ['abomasus', 'abomasus', 'abomasus', 'abomasus'],\n",
              " 'aabbeilmno': ['abominable', 'abominable', 'abominable', 'abominable'],\n",
              " 'aabeimnot': ['abominate', 'abominate', 'abominate', 'abominate'],\n",
              " 'aabdeimnot': ['abominated', 'abominated', 'abominated', 'abominated'],\n",
              " 'aabeimnost': ['abominates', 'abominates', 'abominates', 'abominates'],\n",
              " 'aabgiimnnot': ['abominating', 'abominating', 'abominating', 'abominating'],\n",
              " 'aabiimnnoot': ['abomination', 'abomination', 'abomination', 'abomination'],\n",
              " 'aabiimnnoost': ['abominations',\n",
              "  'abominations',\n",
              "  'abominations',\n",
              "  'abominations'],\n",
              " 'abnoo': ['aboon', 'aboon', 'aboon', 'aboon'],\n",
              " 'aablor': ['aboral', 'aboral', 'aboral', 'aboral'],\n",
              " 'aabllory': ['aborally', 'aborally', 'aborally', 'aborally'],\n",
              " 'aabgiilnor': ['aboriginal', 'aboriginal', 'aboriginal', 'aboriginal'],\n",
              " 'abegiinor': ['aborigine', 'aborigine', 'aborigine', 'aborigine'],\n",
              " 'abegiinors': ['aborigines', 'aborigines', 'aborigines', 'aborigines'],\n",
              " 'abginnor': ['aborning', 'aborning', 'aborning', 'aborning'],\n",
              " 'abort': ['abort',\n",
              "  'boart',\n",
              "  'tabor',\n",
              "  'abort',\n",
              "  'boart',\n",
              "  'tabor',\n",
              "  'abort',\n",
              "  'boart',\n",
              "  'tabor',\n",
              "  'abort',\n",
              "  'boart',\n",
              "  'tabor'],\n",
              " 'abdeort': ['aborted',\n",
              "  'borated',\n",
              "  'tabored',\n",
              "  'aborted',\n",
              "  'borated',\n",
              "  'tabored',\n",
              "  'aborted',\n",
              "  'borated',\n",
              "  'tabored',\n",
              "  'aborted',\n",
              "  'borated',\n",
              "  'tabored'],\n",
              " 'abeorrt': ['aborter',\n",
              "  'taborer',\n",
              "  'aborter',\n",
              "  'taborer',\n",
              "  'aborter',\n",
              "  'taborer',\n",
              "  'aborter',\n",
              "  'taborer'],\n",
              " 'abeorrst': ['aborters',\n",
              "  'taborers',\n",
              "  'aborters',\n",
              "  'taborers',\n",
              "  'aborters',\n",
              "  'taborers',\n",
              "  'aborters',\n",
              "  'taborers'],\n",
              " 'abginort': ['aborting',\n",
              "  'taboring',\n",
              "  'aborting',\n",
              "  'taboring',\n",
              "  'aborting',\n",
              "  'taboring',\n",
              "  'aborting',\n",
              "  'taboring'],\n",
              " 'abinoort': ['abortion', 'abortion', 'abortion', 'abortion'],\n",
              " 'abinoorst': ['abortions', 'abortions', 'abortions', 'abortions'],\n",
              " 'abeiortv': ['abortive', 'abortive', 'abortive', 'abortive'],\n",
              " 'aborst': ['aborts',\n",
              "  'boarts',\n",
              "  'tabors',\n",
              "  'aborts',\n",
              "  'boarts',\n",
              "  'tabors',\n",
              "  'aborts',\n",
              "  'boarts',\n",
              "  'tabors',\n",
              "  'aborts',\n",
              "  'boarts',\n",
              "  'tabors'],\n",
              " 'abos': ['abos', 'boas', 'abos', 'boas', 'abos', 'boas', 'abos', 'boas'],\n",
              " 'abghotu': ['abought', 'abought', 'abought', 'abought'],\n",
              " 'aabilou': ['aboulia', 'aboulia', 'aboulia', 'aboulia'],\n",
              " 'aabilosu': ['aboulias', 'aboulias', 'aboulias', 'aboulias'],\n",
              " 'abcilou': ['aboulic', 'aboulic', 'aboulic', 'aboulic'],\n",
              " 'abdnou': ['abound', 'abound', 'abound', 'abound'],\n",
              " 'abddenou': ['abounded', 'abounded', 'abounded', 'abounded'],\n",
              " 'abdginnou': ['abounding', 'abounding', 'abounding', 'abounding'],\n",
              " 'abdnosu': ['abounds',\n",
              "  'bausond',\n",
              "  'abounds',\n",
              "  'bausond',\n",
              "  'abounds',\n",
              "  'bausond',\n",
              "  'abounds',\n",
              "  'bausond'],\n",
              " 'abotu': ['about', 'about', 'about', 'about'],\n",
              " 'abeov': ['above', 'above', 'above', 'above'],\n",
              " 'aabbdeoorv': ['aboveboard', 'aboveboard', 'aboveboard', 'aboveboard'],\n",
              " 'abeosv': ['aboves', 'aboves', 'aboves', 'aboves'],\n",
              " 'aaaaabbcdrr': ['abracadabra', 'abracadabra', 'abracadabra', 'abracadabra'],\n",
              " 'aaabdnrt': ['abradant', 'abradant', 'abradant', 'abradant'],\n",
              " 'aaabdnrst': ['abradants', 'abradants', 'abradants', 'abradants'],\n",
              " 'aabder': ['abrade', 'abrade', 'abrade', 'abrade'],\n",
              " 'aabdder': ['abraded', 'abraded', 'abraded', 'abraded'],\n",
              " 'aabderr': ['abrader', 'abrader', 'abrader', 'abrader'],\n",
              " 'aabderrs': ['abraders', 'abraders', 'abraders', 'abraders'],\n",
              " 'aabders': ['abrades', 'abrades', 'abrades', 'abrades'],\n",
              " 'aabdginr': ['abrading', 'abrading', 'abrading', 'abrading'],\n",
              " 'aabinors': ['abrasion', 'abrasion', 'abrasion', 'abrasion'],\n",
              " 'aabinorss': ['abrasions', 'abrasions', 'abrasions', 'abrasions'],\n",
              " 'aabeirsv': ['abrasive', 'abrasive', 'abrasive', 'abrasive'],\n",
              " 'aabeilrsvy': ['abrasively', 'abrasively', 'abrasively', 'abrasively'],\n",
              " 'aabeeinrsssv': ['abrasiveness',\n",
              "  'abrasiveness',\n",
              "  'abrasiveness',\n",
              "  'abrasiveness'],\n",
              " 'aabeeeinrssssv': ['abrasivenesses',\n",
              "  'abrasivenesses',\n",
              "  'abrasivenesses',\n",
              "  'abrasivenesses'],\n",
              " 'aabeirssv': ['abrasives', 'abrasives', 'abrasives', 'abrasives'],\n",
              " 'aabcert': ['abreact',\n",
              "  'bearcat',\n",
              "  'cabaret',\n",
              "  'abreact',\n",
              "  'bearcat',\n",
              "  'cabaret',\n",
              "  'abreact',\n",
              "  'bearcat',\n",
              "  'cabaret',\n",
              "  'abreact',\n",
              "  'bearcat',\n",
              "  'cabaret'],\n",
              " 'aabcdeert': ['abreacted',\n",
              "  'acerbated',\n",
              "  'abreacted',\n",
              "  'acerbated',\n",
              "  'abreacted',\n",
              "  'acerbated',\n",
              "  'abreacted',\n",
              "  'acerbated'],\n",
              " 'aabceginrt': ['abreacting',\n",
              "  'acerbating',\n",
              "  'abreacting',\n",
              "  'acerbating',\n",
              "  'abreacting',\n",
              "  'acerbating',\n",
              "  'abreacting',\n",
              "  'acerbating'],\n",
              " 'aabcerst': ['abreacts',\n",
              "  'bearcats',\n",
              "  'cabarets',\n",
              "  'cabresta',\n",
              "  'abreacts',\n",
              "  'bearcats',\n",
              "  'cabarets',\n",
              "  'cabresta',\n",
              "  'abreacts',\n",
              "  'bearcats',\n",
              "  'cabarets',\n",
              "  'cabresta',\n",
              "  'abreacts',\n",
              "  'bearcats',\n",
              "  'cabarets',\n",
              "  'cabresta'],\n",
              " 'abir': ['abri', 'abri', 'abri', 'abri'],\n",
              " 'abdegir': ['abridge',\n",
              "  'brigade',\n",
              "  'abridge',\n",
              "  'brigade',\n",
              "  'abridge',\n",
              "  'brigade',\n",
              "  'abridge',\n",
              "  'brigade'],\n",
              " 'abddegir': ['abridged',\n",
              "  'brigaded',\n",
              "  'abridged',\n",
              "  'brigaded',\n",
              "  'abridged',\n",
              "  'brigaded',\n",
              "  'abridged',\n",
              "  'brigaded'],\n",
              " 'abdeegimnrt': ['abridgement', 'abridgement', 'abridgement', 'abridgement'],\n",
              " 'abdeegimnrst': ['abridgements',\n",
              "  'abridgements',\n",
              "  'abridgements',\n",
              "  'abridgements'],\n",
              " 'abdegirr': ['abridger', 'abridger', 'abridger', 'abridger'],\n",
              " 'abdegirrs': ['abridgers', 'abridgers', 'abridgers', 'abridgers'],\n",
              " 'abdegirs': ['abridges',\n",
              "  'brigades',\n",
              "  'abridges',\n",
              "  'brigades',\n",
              "  'abridges',\n",
              "  'brigades',\n",
              "  'abridges',\n",
              "  'brigades'],\n",
              " 'abdggiinr': ['abridging',\n",
              "  'brigading',\n",
              "  'abridging',\n",
              "  'brigading',\n",
              "  'abridging',\n",
              "  'brigading',\n",
              "  'abridging',\n",
              "  'brigading'],\n",
              " 'abdegimnrt': ['abridgment', 'abridgment', 'abridgment', 'abridgment'],\n",
              " 'abdegimnrst': ['abridgments', 'abridgments', 'abridgments', 'abridgments'],\n",
              " 'abirs': ['abris',\n",
              "  'sabir',\n",
              "  'abris',\n",
              "  'sabir',\n",
              "  'abris',\n",
              "  'sabir',\n",
              "  'abris',\n",
              "  'sabir'],\n",
              " 'aabchor': ['abroach', 'abroach', 'abroach', 'abroach'],\n",
              " 'aabegort': ['abrogate', 'abrogate', 'abrogate', 'abrogate'],\n",
              " 'aabdegort': ['abrogated', 'abrogated', 'abrogated', 'abrogated'],\n",
              " 'aabegorst': ['abrogates', 'abrogates', 'abrogates', 'abrogates'],\n",
              " 'aabgginort': ['abrogating', 'abrogating', 'abrogating', 'abrogating'],\n",
              " 'abprtu': ['abrupt', 'abrupt', 'abrupt', 'abrupt'],\n",
              " 'abeprrtu': ['abrupter', 'abrupter', 'abrupter', 'abrupter'],\n",
              " 'abeprsttu': ['abruptest', 'abruptest', 'abruptest', 'abruptest'],\n",
              " 'ablprtuy': ['abruptly', 'abruptly', 'abruptly', 'abruptly'],\n",
              " 'abcesss': ['abscess', 'abscess', 'abscess', 'abscess'],\n",
              " 'abcdeesss': ['abscessed', 'abscessed', 'abscessed', 'abscessed'],\n",
              " 'abceessss': ['abscesses', 'abscesses', 'abscesses', 'abscesses'],\n",
              " 'abceginsss': ['abscessing', 'abscessing', 'abscessing', 'abscessing'],\n",
              " 'abceiss': ['abscise',\n",
              "  'scabies',\n",
              "  'sebasic',\n",
              "  'abscise',\n",
              "  'scabies',\n",
              "  'sebasic',\n",
              "  'abscise',\n",
              "  'scabies',\n",
              "  'sebasic',\n",
              "  'abscise',\n",
              "  'scabies',\n",
              "  'sebasic'],\n",
              " 'abcdeiss': ['abscised', 'abscised', 'abscised', 'abscised'],\n",
              " 'abceisss': ['abscises', 'abscises', 'abscises', 'abscises'],\n",
              " 'abciinss': ['abscisin', 'abscisin', 'abscisin', 'abscisin'],\n",
              " 'abcgiinss': ['abscising', 'abscising', 'abscising', 'abscising'],\n",
              " 'abciinsss': ['abscisins', 'abscisins', 'abscisins', 'abscisins'],\n",
              " 'aabcisss': ['abscissa', 'abscissa', 'abscissa', 'abscissa'],\n",
              " 'aabceisss': ['abscissae', 'abscissae', 'abscissae', 'abscissae'],\n",
              " 'aabcissss': ['abscissas', 'abscissas', 'abscissas', 'abscissas'],\n",
              " 'abcdnos': ['abscond', 'abscond', 'abscond', 'abscond'],\n",
              " 'abcddenos': ['absconded', 'absconded', 'absconded', 'absconded'],\n",
              " 'abcdginnos': ['absconding', 'absconding', 'absconding', 'absconding'],\n",
              " 'abcdnoss': ['absconds', 'absconds', 'absconds', 'absconds'],\n",
              " 'abceens': ['absence', 'absence', 'absence', 'absence'],\n",
              " 'abceenss': ['absences', 'absences', 'absences', 'absences'],\n",
              " 'abenst': ['absent', 'absent', 'absent', 'absent'],\n",
              " 'abdeenst': ['absented', 'absented', 'absented', 'absented'],\n",
              " 'abeeenst': ['absentee', 'absentee', 'absentee', 'absentee'],\n",
              " 'abeeensst': ['absentees', 'absentees', 'absentees', 'absentees'],\n",
              " 'abeenrst': ['absenter', 'absenter', 'absenter', 'absenter'],\n",
              " 'abeenrsst': ['absenters', 'absenters', 'absenters', 'absenters'],\n",
              " 'abeginnst': ['absenting', 'absenting', 'absenting', 'absenting'],\n",
              " 'abelnsty': ['absently', 'absently', 'absently', 'absently'],\n",
              " 'abddeeimnnst': ['absentminded',\n",
              "  'absentminded',\n",
              "  'absentminded',\n",
              "  'absentminded'],\n",
              " 'abddeeilmnnsty': ['absentmindedly',\n",
              "  'absentmindedly',\n",
              "  'absentmindedly',\n",
              "  'absentmindedly'],\n",
              " 'abddeeeimnnnssst': ['absentmindedness',\n",
              "  'absentmindedness',\n",
              "  'absentmindedness',\n",
              "  'absentmindedness'],\n",
              " 'abddeeeeimnnnsssst': ['absentmindednesses',\n",
              "  'absentmindednesses',\n",
              "  'absentmindednesses',\n",
              "  'absentmindednesses'],\n",
              " 'abensst': ['absents', 'absents', 'absents', 'absents'],\n",
              " 'abhinst': ['absinth', 'absinth', 'absinth', 'absinth'],\n",
              " 'abehinst': ['absinthe', 'absinthe', 'absinthe', 'absinthe'],\n",
              " 'abehinsst': ['absinthes', 'absinthes', 'absinthes', 'absinthes'],\n",
              " 'abhinsst': ['absinths', 'absinths', 'absinths', 'absinths'],\n",
              " 'abelostu': ['absolute', 'absolute', 'absolute', 'absolute'],\n",
              " 'abellostuy': ['absolutely', 'absolutely', 'absolutely', 'absolutely'],\n",
              " 'abelorstu': ['absoluter', 'absoluter', 'absoluter', 'absoluter'],\n",
              " 'abelosstu': ['absolutes', 'absolutes', 'absolutes', 'absolutes'],\n",
              " 'abelossttu': ['absolutest', 'absolutest', 'absolutest', 'absolutest'],\n",
              " 'abilnoostu': ['absolution', 'absolution', 'absolution', 'absolution'],\n",
              " 'abilnoosstu': ['absolutions', 'absolutions', 'absolutions', 'absolutions'],\n",
              " 'abelosv': ['absolve', 'absolve', 'absolve', 'absolve'],\n",
              " 'abdelosv': ['absolved', 'absolved', 'absolved', 'absolved'],\n",
              " 'abelorsv': ['absolver', 'absolver', 'absolver', 'absolver'],\n",
              " 'abelorssv': ['absolvers', 'absolvers', 'absolvers', 'absolvers'],\n",
              " 'abelossv': ['absolves', 'absolves', 'absolves', 'absolves'],\n",
              " 'abgilnosv': ['absolving', 'absolving', 'absolving', 'absolving'],\n",
              " 'aabnnost': ['absonant', 'absonant', 'absonant', 'absonant'],\n",
              " 'abbors': ['absorb', 'absorb', 'absorb', 'absorb'],\n",
              " 'abbdeors': ['absorbed', 'absorbed', 'absorbed', 'absorbed'],\n",
              " 'abbceeinorss': ['absorbencies',\n",
              "  'absorbencies',\n",
              "  'absorbencies',\n",
              "  'absorbencies'],\n",
              " 'abbcenorsy': ['absorbency', 'absorbency', 'absorbency', 'absorbency'],\n",
              " 'abbenorst': ['absorbent', 'absorbent', 'absorbent', 'absorbent'],\n",
              " 'abbeorrs': ['absorber',\n",
              "  'reabsorb',\n",
              "  'absorber',\n",
              "  'reabsorb',\n",
              "  'absorber',\n",
              "  'reabsorb',\n",
              "  'absorber',\n",
              "  'reabsorb'],\n",
              " 'abbeorrss': ['absorbers',\n",
              "  'reabsorbs',\n",
              "  'absorbers',\n",
              "  'reabsorbs',\n",
              "  'absorbers',\n",
              "  'reabsorbs',\n",
              "  'absorbers',\n",
              "  'reabsorbs'],\n",
              " 'abbginors': ['absorbing', 'absorbing', 'absorbing', 'absorbing'],\n",
              " 'abbgilnorsy': ['absorbingly', 'absorbingly', 'absorbingly', 'absorbingly'],\n",
              " 'abborss': ['absorbs', 'absorbs', 'absorbs', 'absorbs'],\n",
              " 'abinooprst': ['absorption',\n",
              "  'probations',\n",
              "  'absorption',\n",
              "  'probations',\n",
              "  'absorption',\n",
              "  'probations',\n",
              "  'absorption',\n",
              "  'probations'],\n",
              " 'abinooprsst': ['absorptions', 'absorptions', 'absorptions', 'absorptions'],\n",
              " 'abeioprstv': ['absorptive', 'absorptive', 'absorptive', 'absorptive'],\n",
              " 'aabinst': ['abstain', 'abstain', 'abstain', 'abstain'],\n",
              " 'aabdeinst': ['abstained', 'abstained', 'abstained', 'abstained'],\n",
              " 'aabeinrst': ['abstainer', 'abstainer', 'abstainer', 'abstainer'],\n",
              " 'aabeinrsst': ['abstainers', 'abstainers', 'abstainers', 'abstainers'],\n",
              " 'aabgiinnst': ['abstaining', 'abstaining', 'abstaining', 'abstaining'],\n",
              " 'aabinsst': ['abstains', 'abstains', 'abstains', 'abstains'],\n",
              " 'abeimosstu': ['abstemious', 'abstemious', 'abstemious', 'abstemious'],\n",
              " 'abeilmosstuy': ['abstemiously',\n",
              "  'abstemiously',\n",
              "  'abstemiously',\n",
              "  'abstemiously'],\n",
              " 'abeinnostt': ['abstention', 'abstention', 'abstention', 'abstention'],\n",
              " 'abeinnosstt': ['abstentions', 'abstentions', 'abstentions', 'abstentions'],\n",
              " 'abeegrst': ['absterge', 'absterge', 'absterge', 'absterge'],\n",
              " 'abdeegrst': ['absterged', 'absterged', 'absterged', 'absterged'],\n",
              " 'abeegrsst': ['absterges', 'absterges', 'absterges', 'absterges'],\n",
              " 'abegginrst': ['absterging', 'absterging', 'absterging', 'absterging'],\n",
              " 'abceeinnst': ['abstinence', 'abstinence', 'abstinence', 'abstinence'],\n",
              " 'abceeinnsst': ['abstinences', 'abstinences', 'abstinences', 'abstinences'],\n",
              " 'aabcrstt': ['abstract', 'abstract', 'abstract', 'abstract'],\n",
              " 'aabcderstt': ['abstracted', 'abstracted', 'abstracted', 'abstracted'],\n",
              " 'aabcerrstt': ['abstracter',\n",
              "  'reabstract',\n",
              "  'abstracter',\n",
              "  'reabstract',\n",
              "  'abstracter',\n",
              "  'reabstract',\n",
              "  'abstracter',\n",
              "  'reabstract'],\n",
              " 'aabcerssttt': ['abstractest', 'abstractest', 'abstractest', 'abstractest'],\n",
              " 'aabcginrstt': ['abstracting', 'abstracting', 'abstracting', 'abstracting'],\n",
              " 'aabcinorstt': ['abstraction', 'abstraction', 'abstraction', 'abstraction'],\n",
              " 'aabcinorsstt': ['abstractions',\n",
              "  'abstractions',\n",
              "  'abstractions',\n",
              "  'abstractions'],\n",
              " 'aabclrstty': ['abstractly', 'abstractly', 'abstractly', 'abstractly'],\n",
              " 'aabcenrssstt': ['abstractness',\n",
              "  'abstractness',\n",
              "  'abstractness',\n",
              "  'abstractness'],\n",
              " 'aabceenrsssstt': ['abstractnesses',\n",
              "  'abstractnesses',\n",
              "  'abstractnesses',\n",
              "  'abstractnesses'],\n",
              " 'aabcrsstt': ['abstracts', 'abstracts', 'abstracts', 'abstracts'],\n",
              " 'abcirstt': ['abstrict', 'abstrict', 'abstrict', 'abstrict'],\n",
              " 'abcdeirstt': ['abstricted', 'abstricted', 'abstricted', 'abstricted'],\n",
              " 'abcgiinrstt': ['abstricting', 'abstricting', 'abstricting', 'abstricting'],\n",
              " 'abcirsstt': ['abstricts', 'abstricts', 'abstricts', 'abstricts'],\n",
              " 'abersstu': ['abstruse', 'abstruse', 'abstruse', 'abstruse'],\n",
              " 'abelrsstuy': ['abstrusely', 'abstrusely', 'abstrusely', 'abstrusely'],\n",
              " 'abeenrsssstu': ['abstruseness',\n",
              "  'abstruseness',\n",
              "  'abstruseness',\n",
              "  'abstruseness'],\n",
              " 'abeeenrssssstu': ['abstrusenesses',\n",
              "  'abstrusenesses',\n",
              "  'abstrusenesses',\n",
              "  'abstrusenesses'],\n",
              " 'aberrsstu': ['abstruser', 'abstruser', 'abstruser', 'abstruser'],\n",
              " 'abersssttu': ['abstrusest', 'abstrusest', 'abstrusest', 'abstrusest'],\n",
              " 'abdrsu': ['absurd', 'absurd', 'absurd', 'absurd'],\n",
              " 'abderrsu': ['absurder', 'absurder', 'absurder', 'absurder'],\n",
              " 'abdersstu': ['absurdest', 'absurdest', 'absurdest', 'absurdest'],\n",
              " 'abdeiirsstu': ['absurdities', 'absurdities', 'absurdities', 'absurdities'],\n",
              " 'abdirstuy': ['absurdity', 'absurdity', 'absurdity', 'absurdity'],\n",
              " 'abdlrsuy': ['absurdly', 'absurdly', 'absurdly', 'absurdly'],\n",
              " 'abdrssu': ['absurds', 'absurds', 'absurds', 'absurds'],\n",
              " 'abbbelu': ['abubble', 'abubble', 'abubble', 'abubble'],\n",
              " 'aabilu': ['abulia', 'abulia', 'abulia', 'abulia'],\n",
              " 'aabilsu': ['abulias', 'abulias', 'abulias', 'abulias'],\n",
              " 'abcilu': ['abulic', 'abulic', 'abulic', 'abulic'],\n",
              " 'aabcdennu': ['abundance', 'abundance', 'abundance', 'abundance'],\n",
              " 'aabcdennsu': ['abundances', 'abundances', 'abundances', 'abundances'],\n",
              " 'aabdnntu': ['abundant', 'abundant', 'abundant', 'abundant'],\n",
              " 'aabdlnntuy': ['abundantly', 'abundantly', 'abundantly', 'abundantly'],\n",
              " 'aabbelsu': ['abusable', 'abusable', 'abusable', 'abusable'],\n",
              " 'abesu': ['abuse',\n",
              "  'beaus',\n",
              "  'abuse',\n",
              "  'beaus',\n",
              "  'abuse',\n",
              "  'beaus',\n",
              "  'abuse',\n",
              "  'beaus'],\n",
              " 'abdesu': ['abused',\n",
              "  'daubes',\n",
              "  'abused',\n",
              "  'daubes',\n",
              "  'abused',\n",
              "  'daubes',\n",
              "  'abused',\n",
              "  'daubes'],\n",
              " 'abersu': ['abuser',\n",
              "  'bursae',\n",
              "  'abuser',\n",
              "  'bursae',\n",
              "  'abuser',\n",
              "  'bursae',\n",
              "  'abuser',\n",
              "  'bursae'],\n",
              " 'aberssu': ['abusers',\n",
              "  'rubasse',\n",
              "  'surbase',\n",
              "  'abusers',\n",
              "  'rubasse',\n",
              "  'surbase',\n",
              "  'abusers',\n",
              "  'rubasse',\n",
              "  'surbase',\n",
              "  'abusers',\n",
              "  'rubasse',\n",
              "  'surbase'],\n",
              " 'abessu': ['abuses', 'abuses', 'abuses', 'abuses'],\n",
              " 'abginsu': ['abusing', 'abusing', 'abusing', 'abusing'],\n",
              " 'abeisuv': ['abusive', 'abusive', 'abusive', 'abusive'],\n",
              " 'abeilsuvy': ['abusively', 'abusively', 'abusively', 'abusively'],\n",
              " 'abeeinsssuv': ['abusiveness', 'abusiveness', 'abusiveness', 'abusiveness'],\n",
              " 'abeeeinssssuv': ['abusivenesses',\n",
              "  'abusivenesses',\n",
              "  'abusivenesses',\n",
              "  'abusivenesses'],\n",
              " 'abtu': ['abut',\n",
              "  'tabu',\n",
              "  'tuba',\n",
              "  'abut',\n",
              "  'tabu',\n",
              "  'tuba',\n",
              "  'abut',\n",
              "  'tabu',\n",
              "  'tuba',\n",
              "  'abut',\n",
              "  'tabu',\n",
              "  'tuba'],\n",
              " 'abemnttu': ['abutment', 'abutment', 'abutment', 'abutment'],\n",
              " 'abemnsttu': ['abutments', 'abutments', 'abutments', 'abutments'],\n",
              " 'abstu': ['abuts',\n",
              "  'tabus',\n",
              "  'tsuba',\n",
              "  'tubas',\n",
              "  'abuts',\n",
              "  'tabus',\n",
              "  'tsuba',\n",
              "  'tubas',\n",
              "  'abuts',\n",
              "  'tabus',\n",
              "  'tsuba',\n",
              "  'tubas',\n",
              "  'abuts',\n",
              "  'tabus',\n",
              "  'tsuba',\n",
              "  'tubas'],\n",
              " 'aablttu': ['abuttal', 'abuttal', 'abuttal', 'abuttal'],\n",
              " 'aablsttu': ['abuttals', 'abuttals', 'abuttals', 'abuttals'],\n",
              " 'abdettu': ['abutted', 'abutted', 'abutted', 'abutted'],\n",
              " 'aberttu': ['abutter', 'abutter', 'abutter', 'abutter'],\n",
              " 'abersttu': ['abutters', 'abutters', 'abutters', 'abutters'],\n",
              " 'abginttu': ['abutting', 'abutting', 'abutting', 'abutting'],\n",
              " 'abuzz': ['abuzz', 'abuzz', 'abuzz', 'abuzz'],\n",
              " 'ablotv': ['abvolt', 'abvolt', 'abvolt', 'abvolt'],\n",
              " 'ablostv': ['abvolts', 'abvolts', 'abvolts', 'abvolts'],\n",
              " 'aabttw': ['abwatt', 'abwatt', 'abwatt', 'abwatt'],\n",
              " 'aabsttw': ['abwatts', 'abwatts', 'abwatts', 'abwatts'],\n",
              " 'aby': ['aby', 'bay', 'aby', 'bay', 'aby', 'bay', 'aby', 'bay'],\n",
              " 'abey': ['abye', 'abye', 'abye', 'abye'],\n",
              " 'abdey': ['abyed',\n",
              "  'bayed',\n",
              "  'beady',\n",
              "  'abyed',\n",
              "  'bayed',\n",
              "  'beady',\n",
              "  'abyed',\n",
              "  'bayed',\n",
              "  'beady',\n",
              "  'abyed',\n",
              "  'bayed',\n",
              "  'beady'],\n",
              " 'abesy': ['abyes', 'abyes', 'abyes', 'abyes'],\n",
              " 'abginy': ['abying',\n",
              "  'baying',\n",
              "  'abying',\n",
              "  'baying',\n",
              "  'abying',\n",
              "  'baying',\n",
              "  'abying',\n",
              "  'baying'],\n",
              " 'absy': ['abys', 'bays', 'abys', 'bays', 'abys', 'bays', 'abys', 'bays'],\n",
              " 'abmsy': ['abysm', 'abysm', 'abysm', 'abysm'],\n",
              " 'aablmsy': ['abysmal', 'abysmal', 'abysmal', 'abysmal'],\n",
              " 'aabllmsyy': ['abysmally', 'abysmally', 'abysmally', 'abysmally'],\n",
              " 'abmssy': ['abysms', 'abysms', 'abysms', 'abysms'],\n",
              " 'abssy': ['abyss',\n",
              "  'bassy',\n",
              "  'abyss',\n",
              "  'bassy',\n",
              "  'abyss',\n",
              "  'bassy',\n",
              "  'abyss',\n",
              "  'bassy'],\n",
              " 'aablssy': ['abyssal', 'abyssal', 'abyssal', 'abyssal'],\n",
              " 'abesssy': ['abysses', 'abysses', 'abysses', 'abysses'],\n",
              " 'aaacci': ['acacia', 'acacia', 'acacia', 'acacia'],\n",
              " 'aaaccis': ['acacias', 'acacias', 'acacias', 'acacias'],\n",
              " 'aacdeem': ['academe', 'academe', 'academe', 'academe'],\n",
              " 'aacdeems': ['academes', 'academes', 'academes', 'academes'],\n",
              " 'aaacdeim': ['academia', 'academia', 'academia', 'academia'],\n",
              " 'aaacdeims': ['academias', 'academias', 'academias', 'academias'],\n",
              " 'aaccdeim': ['academic', 'academic', 'academic', 'academic'],\n",
              " 'aaaccdeillmy': ['academically',\n",
              "  'academically',\n",
              "  'academically',\n",
              "  'academically'],\n",
              " 'aaccdeims': ['academics', 'academics', 'academics', 'academics'],\n",
              " 'aacdeeims': ['academies', 'academies', 'academies', 'academies'],\n",
              " 'aacdemy': ['academy', 'academy', 'academy', 'academy'],\n",
              " 'aacjou': ['acajou', 'acajou', 'acajou', 'acajou'],\n",
              " 'aacjosu': ['acajous', 'acajous', 'acajous', 'acajous'],\n",
              " 'aacehlp': ['acaleph', 'acaleph', 'acaleph', 'acaleph'],\n",
              " 'aaaceehlp': ['acalephae', 'acalephae', 'acalephae', 'acalephae'],\n",
              " 'aaceehlp': ['acalephe', 'acalephe', 'acalephe', 'acalephe'],\n",
              " 'aaceehlps': ['acalephes', 'acalephes', 'acalephes', 'acalephes'],\n",
              " 'aacehlps': ['acalephs', 'acalephs', 'acalephs', 'acalephs'],\n",
              " 'aachint': ['acanthi', 'acanthi', 'acanthi', 'acanthi'],\n",
              " 'aachnstu': ['acanthus', 'acanthus', 'acanthus', 'acanthus'],\n",
              " 'aacehnsstu': ['acanthuses', 'acanthuses', 'acanthuses', 'acanthuses'],\n",
              " 'aacir': ['acari', 'acari', 'acari', 'acari'],\n",
              " 'aacdir': ['acarid',\n",
              "  'cardia',\n",
              "  'acarid',\n",
              "  'cardia',\n",
              "  'acarid',\n",
              "  'cardia',\n",
              "  'acarid',\n",
              "  'cardia'],\n",
              " 'aaacdinr': ['acaridan',\n",
              "  'arcadian',\n",
              "  'acaridan',\n",
              "  'arcadian',\n",
              "  'acaridan',\n",
              "  'arcadian',\n",
              "  'acaridan',\n",
              "  'arcadian'],\n",
              " 'aaacdinrs': ['acaridans',\n",
              "  'arcadians',\n",
              "  'acaridans',\n",
              "  'arcadians',\n",
              "  'acaridans',\n",
              "  'arcadians',\n",
              "  'acaridans',\n",
              "  'arcadians'],\n",
              " 'aacdirs': ['acarids',\n",
              "  'ascarid',\n",
              "  'cardias',\n",
              "  'acarids',\n",
              "  'ascarid',\n",
              "  'cardias',\n",
              "  'acarids',\n",
              "  'ascarid',\n",
              "  'cardias',\n",
              "  'acarids',\n",
              "  'ascarid',\n",
              "  'cardias'],\n",
              " 'aaceinr': ['acarine',\n",
              "  'carinae',\n",
              "  'acarine',\n",
              "  'carinae',\n",
              "  'acarine',\n",
              "  'carinae',\n",
              "  'acarine',\n",
              "  'carinae'],\n",
              " 'aaceinrs': ['acarines',\n",
              "  'canaries',\n",
              "  'cesarian',\n",
              "  'acarines',\n",
              "  'canaries',\n",
              "  'cesarian',\n",
              "  'acarines',\n",
              "  'canaries',\n",
              "  'cesarian',\n",
              "  'acarines',\n",
              "  'canaries',\n",
              "  'cesarian'],\n",
              " 'aacdior': ['acaroid', 'acaroid', 'acaroid', 'acaroid'],\n",
              " 'aacoprsu': ['acarpous', 'acarpous', 'acarpous', 'acarpous'],\n",
              " 'aacrsu': ['acarus', 'acarus', 'acarus', 'acarus'],\n",
              " 'aaacdlu': ['acaudal', 'acaudal', 'acaudal', 'acaudal'],\n",
              " 'aaacdetu': ['acaudate', 'acaudate', 'acaudate', 'acaudate'],\n",
              " 'aaceilnu': ['acauline', 'acauline', 'acauline', 'acauline'],\n",
              " 'aacelosu': ['acaulose', 'acaulose', 'acaulose', 'acaulose'],\n",
              " 'aaclosuu': ['acaulous', 'acaulous', 'acaulous', 'acaulous'],\n",
              " 'accdee': ['accede', 'accede', 'accede', 'accede'],\n",
              " 'accddee': ['acceded', 'acceded', 'acceded', 'acceded'],\n",
              " 'accdeer': ['acceder', 'acceder', 'acceder', 'acceder'],\n",
              " 'accdeers': ['acceders', 'acceders', 'acceders', 'acceders'],\n",
              " 'accdees': ['accedes', 'accedes', 'accedes', 'accedes'],\n",
              " 'accdegin': ['acceding', 'acceding', 'acceding', 'acceding'],\n",
              " 'aacceeelrt': ['accelerate', 'accelerate', 'accelerate', 'accelerate'],\n",
              " 'aaccdeeelrt': ['accelerated', 'accelerated', 'accelerated', 'accelerated'],\n",
              " 'aacceeelrst': ['accelerates', 'accelerates', 'accelerates', 'accelerates'],\n",
              " 'aacceegilnrt': ['accelerating',\n",
              "  'accelerating',\n",
              "  'accelerating',\n",
              "  'accelerating'],\n",
              " 'aacceeilnort': ['acceleration',\n",
              "  'acceleration',\n",
              "  'acceleration',\n",
              "  'acceleration'],\n",
              " 'aacceeilnorst': ['accelerations',\n",
              "  'accelerations',\n",
              "  'accelerations',\n",
              "  'accelerations'],\n",
              " 'aacceelorrt': ['accelerator', 'accelerator', 'accelerator', 'accelerator'],\n",
              " 'aacceelorrst': ['accelerators',\n",
              "  'accelerators',\n",
              "  'accelerators',\n",
              "  'accelerators'],\n",
              " 'accent': ['accent', 'accent', 'accent', 'accent'],\n",
              " 'accdeent': ['accented', 'accented', 'accented', 'accented'],\n",
              " 'acceginnt': ['accenting', 'accenting', 'accenting', 'accenting'],\n",
              " 'accenort': ['accentor', 'accentor', 'accentor', 'accentor'],\n",
              " 'accenorst': ['accentors', 'accentors', 'accentors', 'accentors'],\n",
              " 'accenst': ['accents', 'accents', 'accents', 'accents'],\n",
              " 'aaccelntu': ['accentual', 'accentual', 'accentual', 'accentual'],\n",
              " 'aacceenttu': ['accentuate', 'accentuate', 'accentuate', 'accentuate'],\n",
              " 'aaccdeenttu': ['accentuated', 'accentuated', 'accentuated', 'accentuated'],\n",
              " 'aacceensttu': ['accentuates', 'accentuates', 'accentuates', 'accentuates'],\n",
              " 'aacceginnttu': ['accentuating',\n",
              "  'accentuating',\n",
              "  'accentuating',\n",
              "  'accentuating'],\n",
              " 'aacceinnottu': ['accentuation',\n",
              "  'accentuation',\n",
              "  'accentuation',\n",
              "  'accentuation'],\n",
              " 'aacceinnosttu': ['accentuations',\n",
              "  'accentuations',\n",
              "  'accentuations',\n",
              "  'accentuations'],\n",
              " 'accept': ['accept', 'accept', 'accept', 'accept'],\n",
              " 'aabcceeiiilpstt': ['acceptabilities',\n",
              "  'acceptabilities',\n",
              "  'acceptabilities',\n",
              "  'acceptabilities'],\n",
              " 'aabcceiilptty': ['acceptability',\n",
              "  'acceptability',\n",
              "  'acceptability',\n",
              "  'acceptability'],\n",
              " 'aabcceelpt': ['acceptable', 'acceptable', 'acceptable', 'acceptable'],\n",
              " 'aaccceenpt': ['acceptance', 'acceptance', 'acceptance', 'acceptance'],\n",
              " 'aaccceenpst': ['acceptances', 'acceptances', 'acceptances', 'acceptances'],\n",
              " 'accdeept': ['accepted', 'accepted', 'accepted', 'accepted'],\n",
              " 'acceeept': ['acceptee', 'acceptee', 'acceptee', 'acceptee'],\n",
              " 'acceeepst': ['acceptees', 'acceptees', 'acceptees', 'acceptees'],\n",
              " 'acceeprt': ['accepter',\n",
              "  'reaccept',\n",
              "  'accepter',\n",
              "  'reaccept',\n",
              "  'accepter',\n",
              "  'reaccept',\n",
              "  'accepter',\n",
              "  'reaccept'],\n",
              " 'acceeprst': ['accepters',\n",
              "  'reaccepts',\n",
              "  'accepters',\n",
              "  'reaccepts',\n",
              "  'accepters',\n",
              "  'reaccepts',\n",
              "  'accepters',\n",
              "  'reaccepts'],\n",
              " 'acceginpt': ['accepting', 'accepting', 'accepting', 'accepting'],\n",
              " 'acceoprt': ['acceptor', 'acceptor', 'acceptor', 'acceptor'],\n",
              " 'acceoprst': ['acceptors', 'acceptors', 'acceptors', 'acceptors'],\n",
              " 'accepst': ['accepts', 'accepts', 'accepts', 'accepts'],\n",
              " 'access': ['access', 'access', 'access', 'access'],\n",
              " 'accdeess': ['accessed', 'accessed', 'accessed', 'accessed'],\n",
              " 'acceesss': ['accesses', 'accesses', 'accesses', 'accesses'],\n",
              " 'abcceeiiiilssst': ['accessibilities',\n",
              "  'accessibilities',\n",
              "  'accessibilities',\n",
              "  'accessibilities'],\n",
              " 'abcceiiilssty': ['accessibility',\n",
              "  'accessibility',\n",
              "  'accessibility',\n",
              "  'accessibility'],\n",
              " 'abcceeilss': ['accessible', 'accessible', 'accessible', 'accessible'],\n",
              " 'acceginss': ['accessing', 'accessing', 'accessing', 'accessing'],\n",
              " 'acceinoss': ['accession', 'accession', 'accession', 'accession'],\n",
              " 'acceinosss': ['accessions', 'accessions', 'accessions', 'accessions'],\n",
              " 'acceeiorsss': ['accessories', 'accessories', 'accessories', 'accessories'],\n",
              " 'acceorssy': ['accessory', 'accessory', 'accessory', 'accessory'],\n",
              " 'accdeint': ['accident', 'accident', 'accident', 'accident'],\n",
              " 'aaccdeilnt': ['accidental', 'accidental', 'accidental', 'accidental'],\n",
              " 'aaccdeillnty': ['accidentally',\n",
              "  'accidentally',\n",
              "  'accidentally',\n",
              "  'accidentally'],\n",
              " 'aaccdeilnst': ['accidentals', 'accidentals', 'accidentals', 'accidentals'],\n",
              " 'accdeinst': ['accidents', 'accidents', 'accidents', 'accidents'],\n",
              " 'accdeii': ['accidie', 'accidie', 'accidie', 'accidie'],\n",
              " 'accdeiis': ['accidies', 'accidies', 'accidies', 'accidies'],\n",
              " 'aaccilm': ['acclaim', 'acclaim', 'acclaim', 'acclaim'],\n",
              " 'aaccdeilm': ['acclaimed', 'acclaimed', 'acclaimed', 'acclaimed'],\n",
              " 'aaccgiilmn': ['acclaiming', 'acclaiming', 'acclaiming', 'acclaiming'],\n",
              " 'aaccilms': ['acclaims', 'acclaims', 'acclaims', 'acclaims'],\n",
              " 'aaaccilmnot': ['acclamation', 'acclamation', 'acclamation', 'acclamation'],\n",
              " 'aaaccilmnost': ['acclamations',\n",
              "  'acclamations',\n",
              "  'acclamations',\n",
              "  'acclamations'],\n",
              " 'aacceilmt': ['acclimate', 'acclimate', 'acclimate', 'acclimate'],\n",
              " 'aaccdeilmt': ['acclimated', 'acclimated', 'acclimated', 'acclimated'],\n",
              " 'aacceilmst': ['acclimates', 'acclimates', 'acclimates', 'acclimates'],\n",
              " 'aaccgiilmnt': ['acclimating', 'acclimating', 'acclimating', 'acclimating'],\n",
              " 'aacciilmnot': ['acclimation', 'acclimation', 'acclimation', 'acclimation'],\n",
              " 'aacciilmnost': ['acclimations',\n",
              "  'acclimations',\n",
              "  'acclimations',\n",
              "  'acclimations'],\n",
              " 'aaacciiilmnottz': ['acclimatization',\n",
              "  'acclimatization',\n",
              "  'acclimatization',\n",
              "  'acclimatization'],\n",
              " 'aaacciiilmnosttz': ['acclimatizations',\n",
              "  'acclimatizations',\n",
              "  'acclimatizations',\n",
              "  'acclimatizations'],\n",
              " 'aacceiilmtz': ['acclimatize', 'acclimatize', 'acclimatize', 'acclimatize'],\n",
              " 'aacceiilmstz': ['acclimatizes',\n",
              "  'acclimatizes',\n",
              "  'acclimatizes',\n",
              "  'acclimatizes'],\n",
              " 'aaccdelo': ['accolade', 'accolade', 'accolade', 'accolade'],\n",
              " 'aaccdelos': ['accolades', 'accolades', 'accolades', 'accolades'],\n",
              " 'aaccdemmoot': ['accommodate', 'accommodate', 'accommodate', 'accommodate'],\n",
              " 'aaccddemmoot': ['accommodated',\n",
              "  'accommodated',\n",
              "  'accommodated',\n",
              "  'accommodated'],\n",
              " 'aaccdemmoost': ['accommodates',\n",
              "  'accommodates',\n",
              "  'accommodates',\n",
              "  'accommodates'],\n",
              " 'aaccdgimmnoot': ['accommodating',\n",
              "  'accommodating',\n",
              "  'accommodating',\n",
              "  'accommodating'],\n",
              " 'aaccdimmnooot': ['accommodation',\n",
              "  'accommodation',\n",
              "  'accommodation',\n",
              "  'accommodation'],\n",
              " 'aaccdimmnooost': ['accommodations',\n",
              "  'accommodations',\n",
              "  'accommodations',\n",
              "  'accommodations'],\n",
              " 'aaccdeimnop': ['accompanied', 'accompanied', 'accompanied', 'accompanied'],\n",
              " 'aacceimnops': ['accompanies', 'accompanies', 'accompanies', 'accompanies'],\n",
              " 'aacceimmnnopt': ['accompaniment',\n",
              "  'accompaniment',\n",
              "  'accompaniment',\n",
              "  'accompaniment'],\n",
              " 'aacceimmnnopst': ['accompaniments',\n",
              "  'accompaniments',\n",
              "  'accompaniments',\n",
              "  'accompaniments'],\n",
              " 'aaccimnopst': ['accompanist', 'accompanist', 'accompanist', 'accompanist'],\n",
              " 'aaccmnopy': ['accompany', 'accompany', 'accompany', 'accompany'],\n",
              " 'aaccgimnnopy': ['accompanying',\n",
              "  'accompanying',\n",
              "  'accompanying',\n",
              "  'accompanying'],\n",
              " 'accceilmop': ['accomplice', 'accomplice', 'accomplice', 'accomplice'],\n",
              " 'accceilmops': ['accomplices', 'accomplices', 'accomplices', 'accomplices'],\n",
              " 'acchilmops': ['accomplish', 'accomplish', 'accomplish', 'accomplish'],\n",
              " 'accdehilmops': ['accomplished',\n",
              "  'accomplished',\n",
              "  'accomplished',\n",
              "  'accomplished'],\n",
              " 'accehilmoprs': ['accomplisher',\n",
              "  'accomplisher',\n",
              "  'accomplisher',\n",
              "  'accomplisher'],\n",
              " 'accehilmoprss': ['accomplishers',\n",
              "  'accomplishers',\n",
              "  'accomplishers',\n",
              "  'accomplishers'],\n",
              " 'accehilmopss': ['accomplishes',\n",
              "  'accomplishes',\n",
              "  'accomplishes',\n",
              "  'accomplishes'],\n",
              " 'accghiilmnops': ['accomplishing',\n",
              "  'accomplishing',\n",
              "  'accomplishing',\n",
              "  'accomplishing'],\n",
              " 'accehilmmnopst': ['accomplishment',\n",
              "  'accomplishment',\n",
              "  'accomplishment',\n",
              "  'accomplishment'],\n",
              " 'accehilmmnopsst': ['accomplishments',\n",
              "  'accomplishments',\n",
              "  'accomplishments',\n",
              "  'accomplishments'],\n",
              " 'accdor': ['accord', 'accord', 'accord', 'accord'],\n",
              " 'aacccdenor': ['accordance', 'accordance', 'accordance', 'accordance'],\n",
              " 'aaccdnort': ['accordant', 'accordant', 'accordant', 'accordant'],\n",
              " 'accddeor': ['accorded', 'accorded', 'accorded', 'accorded'],\n",
              " 'accdeorr': ['accorder', 'accorder', 'accorder', 'accorder'],\n",
              " 'accdeorrs': ['accorders', 'accorders', 'accorders', 'accorders'],\n",
              " 'accdginor': ['according', 'according', 'according', 'according'],\n",
              " 'accdgilnory': ['accordingly', 'accordingly', 'accordingly', 'accordingly'],\n",
              " 'accdinoor': ['accordion', 'accordion', 'accordion', 'accordion'],\n",
              " 'accdinoors': ['accordions', 'accordions', 'accordions', 'accordions'],\n",
              " 'accdors': ['accords', 'accords', 'accords', 'accords'],\n",
              " 'accost': ['accost',\n",
              "  'coacts',\n",
              "  'accost',\n",
              "  'coacts',\n",
              "  'accost',\n",
              "  'coacts',\n",
              "  'accost',\n",
              "  'coacts'],\n",
              " 'accdeost': ['accosted', 'accosted', 'accosted', 'accosted'],\n",
              " 'accginost': ['accosting', 'accosting', 'accosting', 'accosting'],\n",
              " 'accosst': ['accosts', 'accosts', 'accosts', 'accosts'],\n",
              " 'accnotu': ['account', 'account', 'account', 'account'],\n",
              " 'aabcceiiilnosttu': ['accountabilities',\n",
              "  'accountabilities',\n",
              "  'accountabilities',\n",
              "  'accountabilities'],\n",
              " 'aabcciilnottuy': ['accountability',\n",
              "  'accountability',\n",
              "  'accountability',\n",
              "  'accountability'],\n",
              " 'aabccelnotu': ['accountable', 'accountable', 'accountable', 'accountable'],\n",
              " 'aaccceinnostu': ['accountancies',\n",
              "  'accountancies',\n",
              "  'accountancies',\n",
              "  'accountancies'],\n",
              " 'aacccnnotuy': ['accountancy', 'accountancy', 'accountancy', 'accountancy'],\n",
              " 'aaccnnottu': ['accountant', 'accountant', 'accountant', 'accountant'],\n",
              " 'aaccnnosttu': ['accountants', 'accountants', 'accountants', 'accountants'],\n",
              " 'accdenotu': ['accounted', 'accounted', 'accounted', 'accounted'],\n",
              " 'accginnotu': ['accounting', 'accounting', 'accounting', 'accounting'],\n",
              " 'accginnostu': ['accountings', 'accountings', 'accountings', 'accountings'],\n",
              " 'accnostu': ['accounts', 'accounts', 'accounts', 'accounts'],\n",
              " 'acceortu': ['accouter',\n",
              "  'accoutre',\n",
              "  'accouter',\n",
              "  'accoutre',\n",
              "  'accouter',\n",
              "  'accoutre',\n",
              "  'accouter',\n",
              "  'accoutre'],\n",
              " 'accdeeortu': ['accoutered', 'accoutered', 'accoutered', 'accoutered'],\n",
              " 'acceginortu': ['accoutering', 'accoutering', 'accoutering', 'accoutering'],\n",
              " 'acceorstu': ['accouters',\n",
              "  'accoutres',\n",
              "  'accouters',\n",
              "  'accoutres',\n",
              "  'accouters',\n",
              "  'accoutres',\n",
              "  'accouters',\n",
              "  'accoutres'],\n",
              " 'accdeortu': ['accoutred', 'accoutred', 'accoutred', 'accoutred'],\n",
              " 'acceemnorttu': ['accoutrement',\n",
              "  'accoutrement',\n",
              "  'accoutrement',\n",
              "  'accoutrement'],\n",
              " 'acceemnorsttu': ['accoutrements',\n",
              "  'accoutrements',\n",
              "  'accoutrements',\n",
              "  'accoutrements'],\n",
              " 'accginortu': ['accoutring', 'accoutring', 'accoutring', 'accoutring'],\n",
              " 'accdeirt': ['accredit', 'accredit', 'accredit', 'accredit'],\n",
              " 'accddeeirt': ['accredited', 'accredited', 'accredited', 'accredited'],\n",
              " 'accdegiinrt': ['accrediting', 'accrediting', 'accrediting', 'accrediting'],\n",
              " 'accdeirst': ['accredits', 'accredits', 'accredits', 'accredits'],\n",
              " 'acceert': ['accrete', 'accrete', 'accrete', 'accrete'],\n",
              " 'accdeert': ['accreted', 'accreted', 'accreted', 'accreted'],\n",
              " 'acceerst': ['accretes', 'accretes', 'accretes', 'accretes'],\n",
              " 'acceginrt': ['accreting', 'accreting', 'accreting', 'accreting'],\n",
              " 'aacclru': ['accrual',\n",
              "  'caracul',\n",
              "  'accrual',\n",
              "  'caracul',\n",
              "  'accrual',\n",
              "  'caracul',\n",
              "  'accrual',\n",
              "  'caracul'],\n",
              " 'aacclrsu': ['accruals',\n",
              "  'caraculs',\n",
              "  'saccular',\n",
              "  'accruals',\n",
              "  'caraculs',\n",
              "  'saccular',\n",
              "  'accruals',\n",
              "  'caraculs',\n",
              "  'saccular',\n",
              "  'accruals',\n",
              "  'caraculs',\n",
              "  'saccular'],\n",
              " 'acceru': ['accrue', 'accrue', 'accrue', 'accrue'],\n",
              " 'accderu': ['accrued', 'accrued', 'accrued', 'accrued'],\n",
              " 'accersu': ['accrues',\n",
              "  'accuser',\n",
              "  'accrues',\n",
              "  'accuser',\n",
              "  'accrues',\n",
              "  'accuser',\n",
              "  'accrues',\n",
              "  'accuser'],\n",
              " 'accginru': ['accruing', 'accruing', 'accruing', 'accruing'],\n",
              " 'aaccelmtuu': ['accumulate', 'accumulate', 'accumulate', 'accumulate'],\n",
              " 'aaccdelmtuu': ['accumulated', 'accumulated', 'accumulated', 'accumulated'],\n",
              " 'aaccelmstuu': ['accumulates', 'accumulates', 'accumulates', 'accumulates'],\n",
              " 'aaccgilmntuu': ['accumulating',\n",
              "  'accumulating',\n",
              "  'accumulating',\n",
              "  'accumulating'],\n",
              " 'aaccilmnotuu': ['accumulation',\n",
              "  'accumulation',\n",
              "  'accumulation',\n",
              "  'accumulation'],\n",
              " 'aaccilmnostuu': ['accumulations',\n",
              "  'accumulations',\n",
              "  'accumulations',\n",
              "  'accumulations'],\n",
              " 'aacclmortuu': ['accumulator', 'accumulator', 'accumulator', 'accumulator'],\n",
              " 'aacclmorstuu': ['accumulators',\n",
              "  'accumulators',\n",
              "  'accumulators',\n",
              "  'accumulators'],\n",
              " 'aaccceirsu': ['accuracies', 'accuracies', 'accuracies', 'accuracies'],\n",
              " 'aacccruy': ['accuracy', 'accuracy', 'accuracy', 'accuracy'],\n",
              " 'aaccertu': ['accurate', 'accurate', 'accurate', 'accurate'],\n",
              " 'aaccelrtuy': ['accurately', 'accurately', 'accurately', 'accurately'],\n",
              " 'aacceenrsstu': ['accurateness',\n",
              "  'accurateness',\n",
              "  'accurateness',\n",
              "  'accurateness'],\n",
              " 'aacceeenrssstu': ['accuratenesses',\n",
              "  'accuratenesses',\n",
              "  'accuratenesses',\n",
              "  'accuratenesses'],\n",
              " 'accdersu': ['accursed', 'accursed', 'accursed', 'accursed'],\n",
              " 'accrstu': ['accurst', 'accurst', 'accurst', 'accurst'],\n",
              " 'aacclsu': ['accusal', 'accusal', 'accusal', 'accusal'],\n",
              " 'aacclssu': ['accusals', 'accusals', 'accusals', 'accusals'],\n",
              " 'aaccnstu': ['accusant', 'accusant', 'accusant', 'accusant'],\n",
              " 'aaccnsstu': ['accusants', 'accusants', 'accusants', 'accusants'],\n",
              " 'aaccinostu': ['accusation', 'accusation', 'accusation', 'accusation'],\n",
              " 'aaccinosstu': ['accusations', 'accusations', 'accusations', 'accusations'],\n",
              " 'accesu': ['accuse', 'accuse', 'accuse', 'accuse'],\n",
              " 'accdesu': ['accused', 'accused', 'accused', 'accused'],\n",
              " 'accerssu': ['accusers', 'accusers', 'accusers', 'accusers'],\n",
              " 'accessu': ['accuses', 'accuses', 'accuses', 'accuses'],\n",
              " 'accginsu': ['accusing', 'accusing', 'accusing', 'accusing'],\n",
              " 'accmostu': ['accustom', 'accustom', 'accustom', 'accustom'],\n",
              " 'accdemostu': ['accustomed', 'accustomed', 'accustomed', 'accustomed'],\n",
              " 'accgimnostu': ['accustoming', 'accustoming', 'accustoming', 'accustoming'],\n",
              " 'accmosstu': ['accustoms', 'accustoms', 'accustoms', 'accustoms'],\n",
              " 'ace': ['ace', 'ace', 'ace', 'ace'],\n",
              " 'acde': ['aced',\n",
              "  'cade',\n",
              "  'dace',\n",
              "  'aced',\n",
              "  'cade',\n",
              "  'dace',\n",
              "  'aced',\n",
              "  'cade',\n",
              "  'dace',\n",
              "  'aced',\n",
              "  'cade',\n",
              "  'dace'],\n",
              " 'aacdei': ['acedia', 'acedia', 'acedia', 'acedia'],\n",
              " 'aacdeis': ['acedias', 'acedias', 'acedias', 'acedias'],\n",
              " 'aaacdelm': ['aceldama', 'aceldama', 'aceldama', 'aceldama'],\n",
              " 'aaacdelms': ['aceldamas', 'aceldamas', 'aceldamas', 'aceldamas'],\n",
              " 'acceinrt': ['acentric', 'acentric', 'acentric', 'acentric'],\n",
              " 'aaceiqu': ['acequia', 'acequia', 'acequia', 'acequia'],\n",
              " 'aaceiqsu': ['acequias', 'acequias', 'acequias', 'acequias'],\n",
              " 'aaceert': ['acerate', 'acerate', 'acerate', 'acerate'],\n",
              " 'aacdeert': ['acerated', 'acerated', 'acerated', 'acerated'],\n",
              " 'abcer': ['acerb',\n",
              "  'brace',\n",
              "  'caber',\n",
              "  'acerb',\n",
              "  'brace',\n",
              "  'caber',\n",
              "  'acerb',\n",
              "  'brace',\n",
              "  'caber',\n",
              "  'acerb',\n",
              "  'brace',\n",
              "  'caber'],\n",
              " 'aabceert': ['acerbate', 'acerbate', 'acerbate', 'acerbate'],\n",
              " 'aabceerst': ['acerbates', 'acerbates', 'acerbates', 'acerbates'],\n",
              " 'abceerr': ['acerber',\n",
              "  'cerebra',\n",
              "  'acerber',\n",
              "  'cerebra',\n",
              "  'acerber',\n",
              "  'cerebra',\n",
              "  'acerber',\n",
              "  'cerebra'],\n",
              " 'abceerst': ['acerbest', 'acerbest', 'acerbest', 'acerbest'],\n",
              " 'abcceir': ['acerbic',\n",
              "  'breccia',\n",
              "  'acerbic',\n",
              "  'breccia',\n",
              "  'acerbic',\n",
              "  'breccia',\n",
              "  'acerbic',\n",
              "  'breccia'],\n",
              " 'abceeiirst': ['acerbities', 'acerbities', 'acerbities', 'acerbities'],\n",
              " 'abceirty': ['acerbity', 'acerbity', 'acerbity', 'acerbity'],\n",
              " 'aacelor': ['acerola', 'acerola', 'acerola', 'acerola'],\n",
              " 'aacelors': ['acerolas', 'acerolas', 'acerolas', 'acerolas'],\n",
              " 'aceeors': ['acerose', 'acerose', 'acerose', 'acerose'],\n",
              " 'aceorsu': ['acerous',\n",
              "  'carouse',\n",
              "  'acerous',\n",
              "  'carouse',\n",
              "  'acerous',\n",
              "  'carouse',\n",
              "  'acerous',\n",
              "  'carouse'],\n",
              " 'acers': ['acers',\n",
              "  'acres',\n",
              "  'cares',\n",
              "  'carse',\n",
              "  'escar',\n",
              "  'races',\n",
              "  'scare',\n",
              "  'serac',\n",
              "  'acers',\n",
              "  'acres',\n",
              "  'cares',\n",
              "  'carse',\n",
              "  'escar',\n",
              "  'races',\n",
              "  'scare',\n",
              "  'serac',\n",
              "  'acers',\n",
              "  'acres',\n",
              "  'cares',\n",
              "  'carse',\n",
              "  'escar',\n",
              "  'races',\n",
              "  'scare',\n",
              "  'serac',\n",
              "  'acers',\n",
              "  'acres',\n",
              "  'cares',\n",
              "  'carse',\n",
              "  'escar',\n",
              "  'races',\n",
              "  'scare',\n",
              "  'serac'],\n",
              " 'aaceertv': ['acervate', 'acervate', 'acervate', 'acervate'],\n",
              " 'aceilruv': ['acervuli', 'acervuli', 'acervuli', 'acervuli'],\n",
              " 'aces': ['aces', 'case', 'aces', 'case', 'aces', 'case', 'aces', 'case'],\n",
              " 'acceenst': ['acescent', 'acescent', 'acescent', 'acescent'],\n",
              " 'acceensst': ['acescents', 'acescents', 'acescents', 'acescents'],\n",
              " 'aacet': ['aceta', 'aceta', 'aceta', 'aceta'],\n",
              " 'aacelt': ['acetal', 'acetal', 'acetal', 'acetal'],\n",
              " 'aacelst': ['acetals',\n",
              "  'lactase',\n",
              "  'acetals',\n",
              "  'lactase',\n",
              "  'acetals',\n",
              "  'lactase',\n",
              "  'acetals',\n",
              "  'lactase'],\n",
              " 'aacdeimt': ['acetamid', 'acetamid', 'acetamid', 'acetamid'],\n",
              " 'aacdeimst': ['acetamids', 'acetamids', 'acetamids', 'acetamids'],\n",
              " 'aaceett': ['acetate', 'acetate', 'acetate', 'acetate'],\n",
              " 'aacdeett': ['acetated', 'acetated', 'acetated', 'acetated'],\n",
              " 'aaceestt': ['acetates', 'acetates', 'acetates', 'acetates'],\n",
              " 'acceit': ['acetic', 'acetic', 'acetic', 'acetic'],\n",
              " 'acdeefiit': ['acetified', 'acetified', 'acetified', 'acetified'],\n",
              " 'aceefiist': ['acetifies', 'acetifies', 'acetifies', 'acetifies'],\n",
              " 'acefity': ['acetify', 'acetify', 'acetify', 'acetify'],\n",
              " 'acefgiinty': ['acetifying', 'acetifying', 'acetifying', 'acetifying'],\n",
              " 'aceenot': ['acetone', 'acetone', 'acetone', 'acetone'],\n",
              " 'aceenost': ['acetones',\n",
              "  'notecase',\n",
              "  'acetones',\n",
              "  'notecase',\n",
              "  'acetones',\n",
              "  'notecase',\n",
              "  'acetones',\n",
              "  'notecase'],\n",
              " 'acceinot': ['acetonic', 'acetonic', 'acetonic', 'acetonic'],\n",
              " 'aceeost': ['acetose',\n",
              "  'coatees',\n",
              "  'acetose',\n",
              "  'coatees',\n",
              "  'acetose',\n",
              "  'coatees',\n",
              "  'acetose',\n",
              "  'coatees'],\n",
              " 'aceostu': ['acetous', 'acetous', 'acetous', 'acetous'],\n",
              " 'acelotxy': ['acetoxyl', 'acetoxyl', 'acetoxyl', 'acetoxyl'],\n",
              " 'acelostxy': ['acetoxyls', 'acetoxyls', 'acetoxyls', 'acetoxyls'],\n",
              " 'acemtu': ['acetum', 'acetum', 'acetum', 'acetum'],\n",
              " 'acelty': ['acetyl', 'acetyl', 'acetyl', 'acetyl'],\n",
              " 'aceeelnty': ['acetylene', 'acetylene', 'acetylene', 'acetylene'],\n",
              " 'aceeelnsty': ['acetylenes', 'acetylenes', 'acetylenes', 'acetylenes'],\n",
              " 'acceilty': ['acetylic', 'acetylic', 'acetylic', 'acetylic'],\n",
              " 'acelsty': ['acetyls', 'acetyls', 'acetyls', 'acetyls'],\n",
              " 'aceh': ['ache', 'each', 'ache', 'each', 'ache', 'each', 'ache', 'each'],\n",
              " 'acdeh': ['ached', 'ached', 'ached', 'ached'],\n",
              " 'aceehn': ['achene', 'achene', 'achene', 'achene'],\n",
              " 'aceehns': ['achenes',\n",
              "  'enchase',\n",
              "  'achenes',\n",
              "  'enchase',\n",
              "  'achenes',\n",
              "  'enchase',\n",
              "  'achenes',\n",
              "  'enchase'],\n",
              " 'aacehiln': ['achenial', 'achenial', 'achenial', 'achenial'],\n",
              " 'acehs': ['aches',\n",
              "  'chase',\n",
              "  'aches',\n",
              "  'chase',\n",
              "  'aches',\n",
              "  'chase',\n",
              "  'aches',\n",
              "  'chase'],\n",
              " 'acehir': ['achier',\n",
              "  'cahier',\n",
              "  'achier',\n",
              "  'cahier',\n",
              "  'achier',\n",
              "  'cahier',\n",
              "  'achier',\n",
              "  'cahier'],\n",
              " 'acehist': ['achiest',\n",
              "  'aitches',\n",
              "  'achiest',\n",
              "  'aitches',\n",
              "  'achiest',\n",
              "  'aitches',\n",
              "  'achiest',\n",
              "  'aitches'],\n",
              " 'aabceehilv': ['achievable', 'achievable', 'achievable', 'achievable'],\n",
              " 'aceehiv': ['achieve', 'achieve', 'achieve', 'achieve'],\n",
              " 'acdeehiv': ['achieved', 'achieved', 'achieved', 'achieved'],\n",
              " 'aceeehimntv': ['achievement', 'achievement', 'achievement', 'achievement'],\n",
              " 'aceeehimnstv': ['achievements',\n",
              "  'achievements',\n",
              "  'achievements',\n",
              "  'achievements'],\n",
              " 'aceehirv': ['achiever',\n",
              "  'chivaree',\n",
              "  'achiever',\n",
              "  'chivaree',\n",
              "  'achiever',\n",
              "  'chivaree',\n",
              "  'achiever',\n",
              "  'chivaree'],\n",
              " 'aceehirsv': ['achievers',\n",
              "  'chivarees',\n",
              "  'achievers',\n",
              "  'chivarees',\n",
              "  'achievers',\n",
              "  'chivarees',\n",
              "  'achievers',\n",
              "  'chivarees'],\n",
              " 'aceehisv': ['achieves', 'achieves', 'achieves', 'achieves'],\n",
              " 'aceghiinv': ['achieving', 'achieving', 'achieving', 'achieving'],\n",
              " 'acehinss': ['achiness', 'achiness', 'achiness', 'achiness'],\n",
              " 'aceehinsss': ['achinesses', 'achinesses', 'achinesses', 'achinesses'],\n",
              " 'acghin': ['aching', 'aching', 'aching', 'aching'],\n",
              " 'acghilny': ['achingly', 'achingly', 'achingly', 'achingly'],\n",
              " 'acehiot': ['achiote', 'achiote', 'achiote', 'achiote'],\n",
              " 'acehiost': ['achiotes', 'achiotes', 'achiotes', 'achiotes'],\n",
              " 'achoo': ['achoo', 'achoo', 'achoo', 'achoo'],\n",
              " 'aachmort': ['achromat',\n",
              "  'trachoma',\n",
              "  'achromat',\n",
              "  'trachoma',\n",
              "  'achromat',\n",
              "  'trachoma',\n",
              "  'achromat',\n",
              "  'trachoma'],\n",
              " 'aachmorst': ['achromats',\n",
              "  'trachomas',\n",
              "  'achromats',\n",
              "  'trachomas',\n",
              "  'achromats',\n",
              "  'trachomas',\n",
              "  'achromats',\n",
              "  'trachomas'],\n",
              " 'acchimor': ['achromic', 'achromic', 'achromic', 'achromic'],\n",
              " 'achy': ['achy', 'achy', 'achy', 'achy'],\n",
              " 'aaccilu': ['acicula', 'acicula', 'acicula', 'acicula'],\n",
              " 'aacceilu': ['aciculae', 'aciculae', 'aciculae', 'aciculae'],\n",
              " 'aaccilru': ['acicular', 'acicular', 'acicular', 'acicular'],\n",
              " 'aaccilsu': ['aciculas', 'aciculas', 'aciculas', 'aciculas'],\n",
              " 'acdi': ['acid',\n",
              "  'cadi',\n",
              "  'caid',\n",
              "  'acid',\n",
              "  'cadi',\n",
              "  'caid',\n",
              "  'acid',\n",
              "  'cadi',\n",
              "  'caid',\n",
              "  'acid',\n",
              "  'cadi',\n",
              "  'caid'],\n",
              " 'aacddehi': ['acidhead', 'acidhead', 'acidhead', 'acidhead'],\n",
              " 'aacddehis': ['acidheads', 'acidheads', 'acidheads', 'acidheads'],\n",
              " 'accdii': ['acidic', 'acidic', 'acidic', 'acidic'],\n",
              " 'acddefiii': ['acidified', 'acidified', 'acidified', 'acidified'],\n",
              " 'acdefiiis': ['acidifies', 'acidifies', 'acidifies', 'acidifies'],\n",
              " 'acdfiiy': ['acidify', 'acidify', 'acidify', 'acidify'],\n",
              " 'acdfgiiiny': ['acidifying', 'acidifying', 'acidifying', 'acidifying'],\n",
              " 'acdeiiist': ['acidities', 'acidities', 'acidities', 'acidities'],\n",
              " 'acdiity': ['acidity', 'acidity', 'acidity', 'acidity'],\n",
              " 'acdily': ['acidly', 'acidly', 'acidly', 'acidly'],\n",
              " 'acdeinss': ['acidness', 'acidness', 'acidness', 'acidness'],\n",
              " 'acdeeinsss': ['acidnesses', 'acidnesses', 'acidnesses', 'acidnesses'],\n",
              " 'acdeioss': ['acidoses', 'acidoses', 'acidoses', 'acidoses'],\n",
              " 'acdiioss': ['acidosis', 'acidosis', 'acidosis', 'acidosis'],\n",
              " 'accdiiot': ['acidotic', 'acidotic', 'acidotic', 'acidotic'],\n",
              " 'acdis': ['acids',\n",
              "  'asdic',\n",
              "  'cadis',\n",
              "  'caids',\n",
              "  'acids',\n",
              "  'asdic',\n",
              "  'cadis',\n",
              "  'caids',\n",
              "  'acids',\n",
              "  'asdic',\n",
              "  'cadis',\n",
              "  'caids',\n",
              "  'acids',\n",
              "  'asdic',\n",
              "  'cadis',\n",
              "  'caids'],\n",
              " 'acdiy': ['acidy', 'acidy', 'acidy', 'acidy'],\n",
              " 'aaceeirt': ['acierate', 'acierate', 'acierate', 'acierate'],\n",
              " 'aacdeeirt': ['acierated',\n",
              "  'eradicate',\n",
              "  'acierated',\n",
              "  'eradicate',\n",
              "  'acierated',\n",
              "  'eradicate',\n",
              "  'acierated',\n",
              "  'eradicate'],\n",
              " 'aaceeirst': ['acierates', 'acierates', 'acierates', 'acierates'],\n",
              " 'aacegiinrt': ['acierating', 'acierating', 'acierating', 'acierating'],\n",
              " 'acfimor': ['aciform', 'aciform', 'aciform', 'aciform'],\n",
              " 'aacinr': ['acinar',\n",
              "  'arnica',\n",
              "  'carina',\n",
              "  'crania',\n",
              "  'acinar',\n",
              "  'arnica',\n",
              "  'carina',\n",
              "  'crania',\n",
              "  'acinar',\n",
              "  'arnica',\n",
              "  'carina',\n",
              "  'crania',\n",
              "  'acinar',\n",
              "  'arnica',\n",
              "  'carina',\n",
              "  'crania'],\n",
              " 'acgin': ['acing', 'acing', 'acing', 'acing'],\n",
              " 'aciin': ['acini', 'acini', 'acini', 'acini'],\n",
              " 'acciin': ['acinic', 'acinic', 'acinic', 'acinic'],\n",
              " 'aceinos': ['acinose', 'acinose', 'acinose', 'acinose'],\n",
              " 'acinosu': ['acinous', 'acinous', 'acinous', 'acinous'],\n",
              " 'acinsu': ['acinus', 'acinus', 'acinus', 'acinus'],\n",
              " 'acdeegklnow': ['acknowledge', 'acknowledge', 'acknowledge', 'acknowledge'],\n",
              " 'acddeegklnow': ['acknowledged',\n",
              "  'acknowledged',\n",
              "  'acknowledged',\n",
              "  'acknowledged'],\n",
              " 'acdeeegklmnnotw': ['acknowledgement',\n",
              "  'acknowledgement',\n",
              "  'acknowledgement',\n",
              "  'acknowledgement'],\n",
              " 'acdeeegklmnnostw': ['acknowledgements',\n",
              "  'acknowledgements',\n",
              "  'acknowledgements',\n",
              "  'acknowledgements'],\n",
              " 'acdeegklnosw': ['acknowledges',\n",
              "  'acknowledges',\n",
              "  'acknowledges',\n",
              "  'acknowledges'],\n",
              " 'acdeggiklnnow': ['acknowledging',\n",
              "  'acknowledging',\n",
              "  'acknowledging',\n",
              "  'acknowledging'],\n",
              " 'acdeegklmnnotw': ['acknowledgment',\n",
              "  'acknowledgment',\n",
              "  'acknowledgment',\n",
              "  'acknowledgment'],\n",
              " 'acdeegklmnnostw': ['acknowledgments',\n",
              "  'acknowledgments',\n",
              "  'acknowledgments',\n",
              "  'acknowledgments'],\n",
              " 'acciiln': ['aclinic', 'aclinic', 'aclinic', 'aclinic'],\n",
              " 'aaccimt': ['acmatic', 'acmatic', 'acmatic', 'acmatic'],\n",
              " 'acem': ['acme',\n",
              "  'came',\n",
              "  'mace',\n",
              "  'acme',\n",
              "  'came',\n",
              "  'mace',\n",
              "  'acme',\n",
              "  'came',\n",
              "  'mace',\n",
              "  'acme',\n",
              "  'came',\n",
              "  'mace'],\n",
              " 'acems': ['acmes',\n",
              "  'cames',\n",
              "  'maces',\n",
              "  'acmes',\n",
              "  'cames',\n",
              "  'maces',\n",
              "  'acmes',\n",
              "  'cames',\n",
              "  'maces',\n",
              "  'acmes',\n",
              "  'cames',\n",
              "  'maces'],\n",
              " 'accim': ['acmic', 'acmic', 'acmic', 'acmic'],\n",
              " 'acen': ['acne', 'cane', 'acne', 'cane', 'acne', 'cane', 'acne', 'cane'],\n",
              " 'acden': ['acned',\n",
              "  'caned',\n",
              "  'dance',\n",
              "  'acned',\n",
              "  'caned',\n",
              "  'dance',\n",
              "  'acned',\n",
              "  'caned',\n",
              "  'dance',\n",
              "  'acned',\n",
              "  'caned',\n",
              "  'dance'],\n",
              " 'acens': ['acnes',\n",
              "  'canes',\n",
              "  'scena',\n",
              "  'acnes',\n",
              "  'canes',\n",
              "  'scena',\n",
              "  'acnes',\n",
              "  'canes',\n",
              "  'scena',\n",
              "  'acnes',\n",
              "  'canes',\n",
              "  'scena'],\n",
              " 'acdeno': ['acnode',\n",
              "  'canoed',\n",
              "  'deacon',\n",
              "  'acnode',\n",
              "  'canoed',\n",
              "  'deacon',\n",
              "  'acnode',\n",
              "  'canoed',\n",
              "  'deacon',\n",
              "  'acnode',\n",
              "  'canoed',\n",
              "  'deacon'],\n",
              " 'acdenos': ['acnodes',\n",
              "  'deacons',\n",
              "  'acnodes',\n",
              "  'deacons',\n",
              "  'acnodes',\n",
              "  'deacons',\n",
              "  'acnodes',\n",
              "  'deacons'],\n",
              " 'accko': ['acock', 'acock', 'acock', 'acock'],\n",
              " 'acdlo': ['acold', 'acold', 'acold', 'acold'],\n",
              " 'aceloty': ['acolyte', 'acolyte', 'acolyte', 'acolyte'],\n",
              " 'acelosty': ['acolytes', 'acolytes', 'acolytes', 'acolytes'],\n",
              " 'aceinot': ['aconite', 'aconite', 'aconite', 'aconite'],\n",
              " 'aceinost': ['aconites',\n",
              "  'canoeist',\n",
              "  'sonicate',\n",
              "  'aconites',\n",
              "  'canoeist',\n",
              "  'sonicate',\n",
              "  'aconites',\n",
              "  'canoeist',\n",
              "  'sonicate',\n",
              "  'aconites',\n",
              "  'canoeist',\n",
              "  'sonicate'],\n",
              " 'acciinot': ['aconitic',\n",
              "  'cationic',\n",
              "  'aconitic',\n",
              "  'cationic',\n",
              "  'aconitic',\n",
              "  'cationic',\n",
              "  'aconitic',\n",
              "  'cationic'],\n",
              " 'acimnotu': ['aconitum', 'aconitum', 'aconitum', 'aconitum'],\n",
              " 'acimnostu': ['aconitums', 'aconitums', 'aconitums', 'aconitums'],\n",
              " 'acnor': ['acorn',\n",
              "  'narco',\n",
              "  'racon',\n",
              "  'acorn',\n",
              "  'narco',\n",
              "  'racon',\n",
              "  'acorn',\n",
              "  'narco',\n",
              "  'racon',\n",
              "  'acorn',\n",
              "  'narco',\n",
              "  'racon'],\n",
              " 'acnors': ['acorns',\n",
              "  'narcos',\n",
              "  'racons',\n",
              "  'acorns',\n",
              "  'narcos',\n",
              "  'racons',\n",
              "  'acorns',\n",
              "  'narcos',\n",
              "  'racons',\n",
              "  'acorns',\n",
              "  'narcos',\n",
              "  'racons'],\n",
              " 'acciostu': ['acoustic', 'acoustic', 'acoustic', 'acoustic'],\n",
              " 'aaccilostu': ['acoustical', 'acoustical', 'acoustical', 'acoustical'],\n",
              " 'aaccillostuy': ['acoustically',\n",
              "  'acoustically',\n",
              "  'acoustically',\n",
              "  'acoustically'],\n",
              " 'acciosstu': ['acoustics', 'acoustics', 'acoustics', 'acoustics'],\n",
              " 'aacinqtu': ['acquaint', 'acquaint', 'acquaint', 'acquaint'],\n",
              " 'aaacceinnqtu': ['acquaintance',\n",
              "  'acquaintance',\n",
              "  'acquaintance',\n",
              "  'acquaintance'],\n",
              " 'aaacceinnqstu': ['acquaintances',\n",
              "  'acquaintances',\n",
              "  'acquaintances',\n",
              "  'acquaintances'],\n",
              " 'aaaccehiinnpqstu': ['acquaintanceship',\n",
              "  'acquaintanceship',\n",
              "  'acquaintanceship',\n",
              "  'acquaintanceship'],\n",
              " 'aaaccehiinnpqsstu': ['acquaintanceships',\n",
              "  'acquaintanceships',\n",
              "  'acquaintanceships',\n",
              "  'acquaintanceships'],\n",
              " 'aacdeinqtu': ['acquainted', 'acquainted', 'acquainted', 'acquainted'],\n",
              " 'aacgiinnqtu': ['acquainting', 'acquainting', 'acquainting', 'acquainting'],\n",
              " 'aacinqstu': ['acquaints', 'acquaints', 'acquaints', 'acquaints'],\n",
              " 'aceqstu': ['acquest', 'acquest', 'acquest', 'acquest'],\n",
              " 'aceqsstu': ['acquests', 'acquests', 'acquests', 'acquests'],\n",
              " 'acceeiqsu': ['acquiesce', 'acquiesce', 'acquiesce', 'acquiesce'],\n",
              " 'accdeeiqsu': ['acquiesced', 'acquiesced', 'acquiesced', 'acquiesced'],\n",
              " 'accceeeinqsu': ['acquiescence',\n",
              "  'acquiescence',\n",
              "  'acquiescence',\n",
              "  'acquiescence'],\n",
              " 'accceeeinqssu': ['acquiescences',\n",
              "  'acquiescences',\n",
              "  'acquiescences',\n",
              "  'acquiescences'],\n",
              " 'acceeinqstu': ['acquiescent', 'acquiescent', 'acquiescent', 'acquiescent'],\n",
              " 'acceeilnqstuy': ['acquiescently',\n",
              "  'acquiescently',\n",
              "  'acquiescently',\n",
              "  'acquiescently'],\n",
              " 'acceeiqssu': ['acquiesces', 'acquiesces', 'acquiesces', 'acquiesces'],\n",
              " 'accegiinqsu': ['acquiescing', 'acquiescing', 'acquiescing', 'acquiescing'],\n",
              " 'aceiqru': ['acquire', 'acquire', 'acquire', 'acquire'],\n",
              " 'acdeiqru': ['acquired', 'acquired', 'acquired', 'acquired'],\n",
              " 'aceiqrru': ['acquirer', 'acquirer', 'acquirer', 'acquirer'],\n",
              " 'aceiqrrsu': ['acquirers', 'acquirers', 'acquirers', 'acquirers'],\n",
              " 'aceiqrsu': ['acquires', 'acquires', 'acquires', 'acquires'],\n",
              " 'acgiinqru': ['acquiring', 'acquiring', 'acquiring', 'acquiring'],\n",
              " 'aciiinoqstu': ['acquisition', 'acquisition', 'acquisition', 'acquisition'],\n",
              " 'aciiinoqsstu': ['acquisitions',\n",
              "  'acquisitions',\n",
              "  'acquisitions',\n",
              "  'acquisitions'],\n",
              " 'aceiiiqstuv': ['acquisitive', 'acquisitive', 'acquisitive', 'acquisitive'],\n",
              " 'aciqtu': ['acquit', 'acquit', 'acquit', 'acquit'],\n",
              " 'aciqstu': ['acquits', 'acquits', 'acquits', 'acquits'],\n",
              " 'acdeiqttu': ['acquitted', 'acquitted', 'acquitted', 'acquitted'],\n",
              " 'acgiinqttu': ['acquitting', 'acquitting', 'acquitting', 'acquitting'],\n",
              " 'aacinrs': ['acrasin',\n",
              "  'arnicas',\n",
              "  'carinas',\n",
              "  'acrasin',\n",
              "  'arnicas',\n",
              "  'carinas',\n",
              "  'acrasin',\n",
              "  'arnicas',\n",
              "  'carinas',\n",
              "  'acrasin',\n",
              "  'arnicas',\n",
              "  'carinas'],\n",
              " 'aacinrss': ['acrasins', 'acrasins', 'acrasins', 'acrasins'],\n",
              " 'acer': ['acre',\n",
              "  'care',\n",
              "  'race',\n",
              "  'acre',\n",
              "  'care',\n",
              "  'race',\n",
              "  'acre',\n",
              "  'care',\n",
              "  'race',\n",
              "  'acre',\n",
              "  'care',\n",
              "  'race'],\n",
              " 'aaceegr': ['acreage', 'acreage', 'acreage', 'acreage'],\n",
              " 'aaceegrs': ['acreages',\n",
              "  'gearcase',\n",
              "  'acreages',\n",
              "  'gearcase',\n",
              "  'acreages',\n",
              "  'gearcase',\n",
              "  'acreages',\n",
              "  'gearcase'],\n",
              " 'acder': ['acred',\n",
              "  'arced',\n",
              "  'cadre',\n",
              "  'cared',\n",
              "  'cedar',\n",
              "  'raced',\n",
              "  'acred',\n",
              "  'arced',\n",
              "  'cadre',\n",
              "  'cared',\n",
              "  'cedar',\n",
              "  'raced',\n",
              "  'acred',\n",
              "  'arced',\n",
              "  'cadre',\n",
              "  'cared',\n",
              "  'cedar',\n",
              "  'raced',\n",
              "  'acred',\n",
              "  'arced',\n",
              "  'cadre',\n",
              "  'cared',\n",
              "  'cedar',\n",
              "  'raced'],\n",
              " 'acdir': ['acrid',\n",
              "  'caird',\n",
              "  'daric',\n",
              "  'acrid',\n",
              "  'caird',\n",
              "  'daric',\n",
              "  'acrid',\n",
              "  'caird',\n",
              "  'daric',\n",
              "  'acrid',\n",
              "  'caird',\n",
              "  'daric'],\n",
              " 'acdeirr': ['acrider',\n",
              "  'carried',\n",
              "  'acrider',\n",
              "  'carried',\n",
              "  'acrider',\n",
              "  'carried',\n",
              "  'acrider',\n",
              "  'carried'],\n",
              " 'acdeirst': ['acridest', 'acridest', 'acridest', 'acridest'],\n",
              " 'acdeiinr': ['acridine', 'acridine', 'acridine', 'acridine'],\n",
              " 'acdeiinrs': ['acridines', 'acridines', 'acridines', 'acridines'],\n",
              " 'acdeiiirst': ['acridities', 'acridities', 'acridities', 'acridities'],\n",
              " 'acdiirty': ['acridity', 'acridity', 'acridity', 'acridity'],\n",
              " 'acdilry': ['acridly', 'acridly', 'acridly', 'acridly'],\n",
              " 'acdeinrss': ['acridness', 'acridness', 'acridness', 'acridness'],\n",
              " 'acdeeinrsss': ['acridnesses', 'acridnesses', 'acridnesses', 'acridnesses'],\n",
              " 'aceiimnors': ['acrimonies', 'acrimonies', 'acrimonies', 'acrimonies'],\n",
              " 'aciimnoorsu': ['acrimonious', 'acrimonious', 'acrimonious', 'acrimonious'],\n",
              " 'acimnory': ['acrimony', 'acrimony', 'acrimony', 'acrimony'],\n",
              " 'aabcort': ['acrobat', 'acrobat', 'acrobat', 'acrobat'],\n",
              " 'aabcciort': ['acrobatic', 'acrobatic', 'acrobatic', 'acrobatic'],\n",
              " 'aabcorst': ['acrobats', 'acrobats', 'acrobats', 'acrobats'],\n",
              " 'acdnoort': ['acrodont', 'acrodont', 'acrodont', 'acrodont'],\n",
              " 'acdnoorst': ['acrodonts', 'acrodonts', 'acrodonts', 'acrodonts'],\n",
              " 'acegnor': ['acrogen', 'acrogen', 'acrogen', 'acrogen'],\n",
              " 'acegnors': ['acrogens', 'acrogens', 'acrogens', 'acrogens'],\n",
              " 'aceilnor': ['acrolein',\n",
              "  'colinear',\n",
              "  'acrolein',\n",
              "  'colinear',\n",
              "  'acrolein',\n",
              "  'colinear',\n",
              "  'acrolein',\n",
              "  'colinear'],\n",
              " 'aceilnors': ['acroleins',\n",
              "  'censorial',\n",
              "  'acroleins',\n",
              "  'censorial',\n",
              "  'acroleins',\n",
              "  'censorial',\n",
              "  'acroleins',\n",
              "  'censorial'],\n",
              " 'achilort': ['acrolith', 'acrolith', 'acrolith', 'acrolith'],\n",
              " 'achilorst': ['acroliths', 'acroliths', 'acroliths', 'acroliths'],\n",
              " 'aacimor': ['acromia', 'acromia', 'acromia', 'acromia'],\n",
              " 'aacilmor': ['acromial', 'acromial', 'acromial', 'acromial'],\n",
              " 'acimnoor': ['acromion', 'acromion', 'acromion', 'acromion'],\n",
              " 'accinor': ['acronic', 'acronic', 'acronic', 'acronic'],\n",
              " 'acmnory': ['acronym', 'acronym', 'acronym', 'acronym'],\n",
              " 'acmnorsy': ['acronyms', 'acronyms', 'acronyms', 'acronyms'],\n",
              " 'acorss': ['across', 'across', 'across', 'across'],\n",
              " 'acciorst': ['acrostic', 'acrostic', 'acrostic', 'acrostic'],\n",
              " 'acciorsst': ['acrostics', 'acrostics', 'acrostics', 'acrostics'],\n",
              " 'acciort': ['acrotic', 'acrotic', 'acrotic', 'acrotic'],\n",
              " 'acimorst': ['acrotism', 'acrotism', 'acrotism', 'acrotism'],\n",
              " 'acimorsst': ['acrotisms',\n",
              "  'ostracism',\n",
              "  'acrotisms',\n",
              "  'ostracism',\n",
              "  'acrotisms',\n",
              "  'ostracism',\n",
              "  'acrotisms',\n",
              "  'ostracism'],\n",
              " 'aacelrty': ['acrylate', 'acrylate', 'acrylate', 'acrylate'],\n",
              " 'aacelrsty': ['acrylates', 'acrylates', 'acrylates', 'acrylates'],\n",
              " 'accilry': ['acrylic', 'acrylic', 'acrylic', 'acrylic'],\n",
              " 'accilrsy': ['acrylics', 'acrylics', 'acrylics', 'acrylics'],\n",
              " 'act': ['act', 'cat', 'act', 'cat', 'act', 'cat', 'act', 'cat'],\n",
              " 'aact': ['acta', 'acta', 'acta', 'acta'],\n",
              " 'aabcelt': ['actable', 'actable', 'actable', 'actable'],\n",
              " 'acdet': ['acted',\n",
              "  'cadet',\n",
              "  'acted',\n",
              "  'cadet',\n",
              "  'acted',\n",
              "  'cadet',\n",
              "  'acted',\n",
              "  'cadet'],\n",
              " 'acint': ['actin',\n",
              "  'antic',\n",
              "  'actin',\n",
              "  'antic',\n",
              "  'actin',\n",
              "  'antic',\n",
              "  'actin',\n",
              "  'antic'],\n",
              " 'aacilnt': ['actinal', 'actinal', 'actinal', 'actinal'],\n",
              " 'acgint': ['acting', 'acting', 'acting', 'acting'],\n",
              " 'acginst': ['actings',\n",
              "  'casting',\n",
              "  'actings',\n",
              "  'casting',\n",
              "  'actings',\n",
              "  'casting',\n",
              "  'actings',\n",
              "  'casting'],\n",
              " 'aaciint': ['actinia', 'actinia', 'actinia', 'actinia'],\n",
              " 'aaceiint': ['actiniae', 'actiniae', 'actiniae', 'actiniae'],\n",
              " 'aaciinnt': ['actinian', 'actinian', 'actinian', 'actinian'],\n",
              " 'aaciinnst': ['actinians', 'actinians', 'actinians', 'actinians'],\n",
              " 'aaciinst': ['actinias', 'actinias', 'actinias', 'actinias'],\n",
              " 'acciint': ['actinic', 'actinic', 'actinic', 'actinic'],\n",
              " 'acdeiint': ['actinide',\n",
              "  'ctenidia',\n",
              "  'indicate',\n",
              "  'actinide',\n",
              "  'ctenidia',\n",
              "  'indicate',\n",
              "  'actinide',\n",
              "  'ctenidia',\n",
              "  'indicate',\n",
              "  'actinide',\n",
              "  'ctenidia',\n",
              "  'indicate'],\n",
              " 'acdeiinst': ['actinides',\n",
              "  'indicates',\n",
              "  'actinides',\n",
              "  'indicates',\n",
              "  'actinides',\n",
              "  'indicates',\n",
              "  'actinides',\n",
              "  'indicates'],\n",
              " 'aciimnst': ['actinism', 'actinism', 'actinism', 'actinism'],\n",
              " 'aciimnsst': ['actinisms', 'actinisms', 'actinisms', 'actinisms'],\n",
              " 'aciimntu': ['actinium', 'actinium', 'actinium', 'actinium'],\n",
              " 'aciimnstu': ['actiniums', 'actiniums', 'actiniums', 'actiniums'],\n",
              " 'acdiinot': ['actinoid',\n",
              "  'diatonic',\n",
              "  'actinoid',\n",
              "  'diatonic',\n",
              "  'actinoid',\n",
              "  'diatonic',\n",
              "  'actinoid',\n",
              "  'diatonic'],\n",
              " 'acdiinost': ['actinoids', 'actinoids', 'actinoids', 'actinoids'],\n",
              " 'acinnot': ['actinon',\n",
              "  'contain',\n",
              "  'actinon',\n",
              "  'contain',\n",
              "  'actinon',\n",
              "  'contain',\n",
              "  'actinon',\n",
              "  'contain'],\n",
              " 'acinnost': ['actinons',\n",
              "  'canonist',\n",
              "  'contains',\n",
              "  'sanction',\n",
              "  'sonantic',\n",
              "  'actinons',\n",
              "  'canonist',\n",
              "  'contains',\n",
              "  'sanction',\n",
              "  'sonantic',\n",
              "  'actinons',\n",
              "  'canonist',\n",
              "  'contains',\n",
              "  'sanction',\n",
              "  'sonantic',\n",
              "  'actinons',\n",
              "  'canonist',\n",
              "  'contains',\n",
              "  'sanction',\n",
              "  'sonantic'],\n",
              " 'acinst': ['actins',\n",
              "  'antics',\n",
              "  'nastic',\n",
              "  'actins',\n",
              "  'antics',\n",
              "  'nastic',\n",
              "  'actins',\n",
              "  'antics',\n",
              "  'nastic',\n",
              "  'actins',\n",
              "  'antics',\n",
              "  'nastic'],\n",
              " 'acinot': ['action',\n",
              "  'atonic',\n",
              "  'cation',\n",
              "  'action',\n",
              "  'atonic',\n",
              "  'cation',\n",
              "  'action',\n",
              "  'atonic',\n",
              "  'cation',\n",
              "  'action',\n",
              "  'atonic',\n",
              "  'cation'],\n",
              " 'acinost': ['actions',\n",
              "  'atonics',\n",
              "  'cations',\n",
              "  'actions',\n",
              "  'atonics',\n",
              "  'cations',\n",
              "  'actions',\n",
              "  'atonics',\n",
              "  'cations',\n",
              "  'actions',\n",
              "  'atonics',\n",
              "  'cations'],\n",
              " 'aaceittv': ['activate',\n",
              "  'cavitate',\n",
              "  'activate',\n",
              "  'cavitate',\n",
              "  'activate',\n",
              "  'cavitate',\n",
              "  'activate',\n",
              "  'cavitate'],\n",
              " 'aacdeittv': ['activated',\n",
              "  'cavitated',\n",
              "  'activated',\n",
              "  'cavitated',\n",
              "  'activated',\n",
              "  'cavitated',\n",
              "  'activated',\n",
              "  'cavitated'],\n",
              " 'aaceisttv': ['activates',\n",
              "  'cavitates',\n",
              "  'activates',\n",
              "  'cavitates',\n",
              "  'activates',\n",
              "  'cavitates',\n",
              "  'activates',\n",
              "  'cavitates'],\n",
              " 'aacgiinttv': ['activating',\n",
              "  'cavitating',\n",
              "  'activating',\n",
              "  'cavitating',\n",
              "  'activating',\n",
              "  'cavitating',\n",
              "  'activating',\n",
              "  'cavitating'],\n",
              " 'aaciinottv': ['activation', 'activation', 'activation', 'activation'],\n",
              " 'aaciinosttv': ['activations', 'activations', 'activations', 'activations'],\n",
              " 'aceitv': ['active', 'active', 'active', 'active'],\n",
              " 'aceiltvy': ['actively', 'actively', 'actively', 'actively'],\n",
              " 'aceistv': ['actives', 'actives', 'actives', 'actives'],\n",
              " 'aciimstv': ['activism', 'activism', 'activism', 'activism'],\n",
              " 'aciimsstv': ['activisms', 'activisms', 'activisms', 'activisms'],\n",
              " 'aciisttv': ['activist', 'activist', 'activist', 'activist'],\n",
              " 'aciissttv': ['activists', 'activists', 'activists', 'activists'],\n",
              " 'aceiiisttv': ['activities', 'activities', 'activities', 'activities'],\n",
              " 'aciittvy': ['activity', 'activity', 'activity', 'activity'],\n",
              " 'acort': ['actor',\n",
              "  'taroc',\n",
              "  'actor',\n",
              "  'taroc',\n",
              "  'actor',\n",
              "  'taroc',\n",
              "  'actor',\n",
              "  'taroc'],\n",
              " 'achiorst': ['actorish',\n",
              "  'chariots',\n",
              "  'haricots',\n",
              "  'actorish',\n",
              "  'chariots',\n",
              "  'haricots',\n",
              "  'actorish',\n",
              "  'chariots',\n",
              "  'haricots',\n",
              "  'actorish',\n",
              "  'chariots',\n",
              "  'haricots'],\n",
              " 'acorst': ['actors',\n",
              "  'castor',\n",
              "  'costar',\n",
              "  'scrota',\n",
              "  'tarocs',\n",
              "  'actors',\n",
              "  'castor',\n",
              "  'costar',\n",
              "  'scrota',\n",
              "  'tarocs',\n",
              "  'actors',\n",
              "  'castor',\n",
              "  'costar',\n",
              "  'scrota',\n",
              "  'tarocs',\n",
              "  'actors',\n",
              "  'castor',\n",
              "  'costar',\n",
              "  'scrota',\n",
              "  'tarocs'],\n",
              " 'acersst': ['actress',\n",
              "  'casters',\n",
              "  'recasts',\n",
              "  'actress',\n",
              "  'casters',\n",
              "  'recasts',\n",
              "  'actress',\n",
              "  'casters',\n",
              "  'recasts',\n",
              "  'actress',\n",
              "  'casters',\n",
              "  'recasts'],\n",
              " 'aceerssst': ['actresses', 'actresses', 'actresses', 'actresses'],\n",
              " 'acst': ['acts',\n",
              "  'cast',\n",
              "  'cats',\n",
              "  'scat',\n",
              "  'acts',\n",
              "  'cast',\n",
              "  'cats',\n",
              "  'scat',\n",
              "  'acts',\n",
              "  'cast',\n",
              "  'cats',\n",
              "  'scat',\n",
              "  'acts',\n",
              "  'cast',\n",
              "  'cats',\n",
              "  'scat'],\n",
              " 'aacltu': ['actual', 'actual', 'actual', 'actual'],\n",
              " 'aaceiilsttu': ['actualities', 'actualities', 'actualities', 'actualities'],\n",
              " 'aacilttuy': ['actuality', 'actuality', 'actuality', 'actuality'],\n",
              " 'aaaciilnottuz': ['actualization',\n",
              "  'actualization',\n",
              "  'actualization',\n",
              "  'actualization'],\n",
              " 'aaaciilnosttuz': ['actualizations',\n",
              "  'actualizations',\n",
              "  'actualizations',\n",
              "  'actualizations'],\n",
              " 'aaceiltuz': ['actualize', 'actualize', 'actualize', 'actualize'],\n",
              " 'aacdeiltuz': ['actualized', 'actualized', 'actualized', 'actualized'],\n",
              " 'aaceilstuz': ['actualizes', 'actualizes', 'actualizes', 'actualizes'],\n",
              " 'aacgiilntuz': ['actualizing', 'actualizing', 'actualizing', 'actualizing'],\n",
              " 'aaclltuy': ['actually', 'actually', 'actually', 'actually'],\n",
              " 'aaacilrtu': ['actuarial', 'actuarial', 'actuarial', 'actuarial'],\n",
              " 'aaceirstu': ['actuaries', 'actuaries', 'actuaries', 'actuaries'],\n",
              " 'aacrtuy': ['actuary', 'actuary', 'actuary', 'actuary'],\n",
              " 'aacettu': ['actuate', 'actuate', 'actuate', 'actuate'],\n",
              " 'aacdettu': ['actuated', 'actuated', 'actuated', 'actuated'],\n",
              " 'aacesttu': ['actuates', 'actuates', 'actuates', 'actuates'],\n",
              " 'aacginttu': ['actuating', 'actuating', 'actuating', 'actuating'],\n",
              " 'aacorttu': ['actuator',\n",
              "  'autocrat',\n",
              "  'actuator',\n",
              "  'autocrat',\n",
              "  'actuator',\n",
              "  'autocrat',\n",
              "  'actuator',\n",
              "  'autocrat'],\n",
              " 'aacorsttu': ['actuators',\n",
              "  'autocrats',\n",
              "  'actuators',\n",
              "  'autocrats',\n",
              "  'actuators',\n",
              "  'autocrats',\n",
              "  'actuators',\n",
              "  'autocrats'],\n",
              " 'aacetu': ['acuate', 'acuate', 'acuate', 'acuate'],\n",
              " 'aceiistu': ['acuities', 'acuities', 'acuities', 'acuities'],\n",
              " 'acituy': ['acuity', 'acuity', 'acuity', 'acuity'],\n",
              " 'aaceeltu': ['aculeate', 'aculeate', 'aculeate', 'aculeate'],\n",
              " 'acemnu': ['acumen', 'acumen', 'acumen', 'acumen'],\n",
              " 'acemnsu': ['acumens', 'acumens', 'acumens', 'acumens'],\n",
              " ...}"
            ]
          },
          "execution_count": 29,
          "metadata": {},
          "output_type": "execute_result"
        }
      ],
      "source": [
        "anag"
      ]
    },
    {
      "cell_type": "code",
      "execution_count": null,
      "id": "75108c21",
      "metadata": {},
      "outputs": [],
      "source": [
        "import pickle\n",
        "with open('anagram_map', 'wb') as f:\n",
        "    pickle.dump(anag, f)\n",
        "\n"
      ]
    },
    {
      "cell_type": "code",
      "execution_count": 44,
      "id": "be4e3255",
      "metadata": {},
      "outputs": [
        {
          "name": "stdout",
          "output_type": "stream",
          "text": [
            "{'a': 1, 'b': 2}\n"
          ]
        }
      ],
      "source": [
        "import pickle\n",
        "\n",
        "data = {'a': 1, 'b': 2}\n",
        "with open('datapkl', 'wb') as f:\n",
        "    pickle.dump(data, f)\n",
        "\n",
        "with open('datapkl', 'rb') as file:\n",
        "    print(pickle.load(file))\n"
      ]
    },
    {
      "cell_type": "code",
      "execution_count": 25,
      "id": "abdb57e9",
      "metadata": {},
      "outputs": [
        {
          "data": {
            "text/plain": [
              "0"
            ]
          },
          "execution_count": 25,
          "metadata": {},
          "output_type": "execute_result"
        }
      ],
      "source": [
        "len(db)\n",
        "#for key, value in anag.items():\n",
        "    #db[key] = value"
      ]
    },
    {
      "cell_type": "markdown",
      "id": "40342366",
      "metadata": {
        "id": "40342366",
        "tags": []
      },
      "source": [
        "If everything is working, you should be able to look up a key like `'opst'` and get a list of words that can be spelled with those letters."
      ]
    },
    {
      "cell_type": "code",
      "execution_count": 69,
      "id": "ffefe13e",
      "metadata": {
        "id": "ffefe13e",
        "tags": []
      },
      "outputs": [
        {
          "ename": "KeyError",
          "evalue": "b'aals'",
          "output_type": "error",
          "traceback": [
            "\u001b[31m---------------------------------------------------------------------------\u001b[39m",
            "\u001b[31mKeyError\u001b[39m                                  Traceback (most recent call last)",
            "\u001b[36mFile \u001b[39m\u001b[32mC:\\Program Files\\WindowsApps\\PythonSoftwareFoundation.Python.3.13_3.13.2032.0_x64__qbz5n2kfra8p0\\Lib\\shelve.py:111\u001b[39m, in \u001b[36mShelf.__getitem__\u001b[39m\u001b[34m(self=<shelve.DbfilenameShelf object>, key='aals')\u001b[39m\n\u001b[32m    110\u001b[39m \u001b[38;5;28;01mtry\u001b[39;00m:\n\u001b[32m--> \u001b[39m\u001b[32m111\u001b[39m     value = \u001b[38;5;28;43mself\u001b[39;49m\u001b[43m.\u001b[49m\u001b[43mcache\u001b[49m\u001b[43m[\u001b[49m\u001b[43mkey\u001b[49m\u001b[43m]\u001b[49m\n        self.cache \u001b[34m= \u001b[39m\u001b[34m{}\u001b[39m\n        key \u001b[34m= \u001b[39m\u001b[34m'aals'\u001b[39m\n        self \u001b[34m= \u001b[39m\u001b[34m<shelve.DbfilenameShelf object at 0x000002267BF0E210>\u001b[39m\u001b[32m    112\u001b[39m \u001b[38;5;28;01mexcept\u001b[39;00m \u001b[38;5;167;01mKeyError\u001b[39;00m:\n",
            "\u001b[31mKeyError\u001b[39m: 'aals'",
            "\nDuring handling of the above exception, another exception occurred:\n",
            "\u001b[31mKeyError\u001b[39m                                  Traceback (most recent call last)",
            "\u001b[36mCell\u001b[39m\u001b[36m \u001b[39m\u001b[32mIn[69]\u001b[39m\u001b[32m, line 1\u001b[39m\n\u001b[32m----> \u001b[39m\u001b[32m1\u001b[39m \u001b[43mdb\u001b[49m\u001b[43m[\u001b[49m\u001b[33;43m'\u001b[39;49m\u001b[33;43maals\u001b[39;49m\u001b[33;43m'\u001b[39;49m\u001b[43m]\u001b[49m\n        db \u001b[34m= \u001b[39m\u001b[34m<shelve.DbfilenameShelf object at 0x000002267BF0E210>\u001b[39m",
            "\u001b[36mFile \u001b[39m\u001b[32mC:\\Program Files\\WindowsApps\\PythonSoftwareFoundation.Python.3.13_3.13.2032.0_x64__qbz5n2kfra8p0\\Lib\\shelve.py:113\u001b[39m, in \u001b[36mShelf.__getitem__\u001b[39m\u001b[34m(self=<shelve.DbfilenameShelf object>, key='aals')\u001b[39m\n\u001b[32m    111\u001b[39m     value = \u001b[38;5;28mself\u001b[39m.cache[key]\n\u001b[32m    112\u001b[39m \u001b[38;5;28;01mexcept\u001b[39;00m \u001b[38;5;167;01mKeyError\u001b[39;00m:\n\u001b[32m--> \u001b[39m\u001b[32m113\u001b[39m     f = BytesIO(\u001b[38;5;28;43mself\u001b[39;49m\u001b[43m.\u001b[49m\u001b[43mdict\u001b[49m\u001b[43m[\u001b[49m\u001b[43mkey\u001b[49m\u001b[43m.\u001b[49m\u001b[43mencode\u001b[49m\u001b[43m(\u001b[49m\u001b[38;5;28;43mself\u001b[39;49m\u001b[43m.\u001b[49m\u001b[43mkeyencoding\u001b[49m\u001b[43m)\u001b[49m\u001b[43m]\u001b[49m)\n        key \u001b[34m= \u001b[39m\u001b[34m'aals'\u001b[39m\n        self \u001b[34m= \u001b[39m\u001b[34m<shelve.DbfilenameShelf object at 0x000002267BF0E210>\u001b[39m\n        self.dict \u001b[34m= \u001b[39m\u001b[34m<dbm.sqlite3._Database object at 0x000002267F7E88D0>\u001b[39m\n        self.keyencoding \u001b[34m= \u001b[39m\u001b[34m'utf-8'\u001b[39m\u001b[32m    114\u001b[39m     value = Unpickler(f).load()\n\u001b[32m    115\u001b[39m     \u001b[38;5;28;01mif\u001b[39;00m \u001b[38;5;28mself\u001b[39m.writeback:\n",
            "\u001b[36mFile \u001b[39m\u001b[32mC:\\Program Files\\WindowsApps\\PythonSoftwareFoundation.Python.3.13_3.13.2032.0_x64__qbz5n2kfra8p0\\Lib\\dbm\\sqlite3.py:92\u001b[39m, in \u001b[36m_Database.__getitem__\u001b[39m\u001b[34m(self=<dbm.sqlite3._Database object>, key=b'aals')\u001b[39m\n\u001b[32m     90\u001b[39m     row = cu.fetchone()\n\u001b[32m     91\u001b[39m \u001b[38;5;28;01mif\u001b[39;00m \u001b[38;5;129;01mnot\u001b[39;00m row:\n\u001b[32m---> \u001b[39m\u001b[32m92\u001b[39m     \u001b[38;5;28;01mraise\u001b[39;00m \u001b[38;5;167;01mKeyError\u001b[39;00m(key)\n        key \u001b[34m= \u001b[39m\u001b[34mb'aals'\u001b[39m\u001b[32m     93\u001b[39m \u001b[38;5;28;01mreturn\u001b[39;00m row[\u001b[32m0\u001b[39m]\n",
            "\u001b[31mKeyError\u001b[39m: b'aals'"
          ]
        }
      ],
      "source": [
        "db['aals']"
      ]
    },
    {
      "cell_type": "code",
      "execution_count": null,
      "id": "7eb54fbc",
      "metadata": {
        "id": "7eb54fbc",
        "tags": []
      },
      "outputs": [],
      "source": [
        "for key, value in db.items():\n",
        "    if len(value) > 8:\n",
        "        print(value)"
      ]
    },
    {
      "cell_type": "code",
      "execution_count": null,
      "id": "ac784df7",
      "metadata": {
        "id": "ac784df7",
        "tags": []
      },
      "outputs": [],
      "source": [
        "db.close()"
      ]
    },
    {
      "cell_type": "markdown",
      "id": "228e977c",
      "metadata": {
        "id": "228e977c"
      },
      "source": [
        "### Exercise\n",
        "\n",
        "In a large collection of files, there may be more than one copy of the same file, stored in different directories or with different file names.\n",
        "The goal of this exercise is to search for duplicates.\n",
        "As an example, we'll work with image files in the `photos` directory.\n",
        "\n",
        "Here's how it will work:\n",
        "\n",
        "* We'll use the `walk` function from [](section_walking_directories) to search this directory for files that end with one of the extensions in `config['extensions']`.\n",
        "\n",
        "* For each file, we'll use `md5_digest` from [](section_md5_digest) to compute a digest of the contents.\n",
        "\n",
        "* Using a shelf, we'll make a mapping from each digest to a list of paths with that digest.\n",
        "\n",
        "* Finally, we'll search the shelf for any digests that map to multiple files.\n",
        "\n",
        "* If we find any, we'll use `same_contents` to confirm that the files contain the same data."
      ]
    },
    {
      "cell_type": "markdown",
      "id": "8f5365da",
      "metadata": {
        "id": "8f5365da"
      },
      "source": [
        "I'll suggest some functions to write first, then we'll bring it all together.\n",
        "\n",
        "1. To identify image files, write a function called `is_image` that takes a path and a list of file extensions, and returns `True` if the path ends with one of the extensions in the list. Hint: Use `os.path.splitext` -- or ask a virtual assistant to write this function for you."
      ]
    },
    {
      "cell_type": "code",
      "execution_count": 21,
      "id": "03b6acf9",
      "metadata": {
        "id": "03b6acf9"
      },
      "outputs": [
        {
          "data": {
            "text/plain": [
              "True"
            ]
          },
          "execution_count": 21,
          "metadata": {},
          "output_type": "execute_result"
        }
      ],
      "source": [
        "def is_image(path_, extensions = ['jpg', 'png', 'jpeg']):\n",
        "    imgname = os.path.split(path_)[1]\n",
        "    if len(imgname.split('.'))>1:\n",
        "        return imgname.split('.')[1] in extensions\n",
        "    else:  \n",
        "        return False\n",
        "    \n",
        "is_image('gandon\\\\zhopa\\\\pisya.png')\n",
        "    "
      ]
    },
    {
      "cell_type": "markdown",
      "id": "dde4b5c8",
      "metadata": {
        "id": "dde4b5c8",
        "tags": []
      },
      "source": [
        "You can use `doctest` to test your function."
      ]
    },
    {
      "cell_type": "code",
      "execution_count": 67,
      "id": "21c33092",
      "metadata": {
        "id": "21c33092",
        "tags": []
      },
      "outputs": [],
      "source": [
        "from doctest import run_docstring_examples\n",
        "\n",
        "def run_doctests(func):\n",
        "    run_docstring_examples(func, globals(), name=func.__name__)\n",
        "\n",
        "run_doctests(is_image)"
      ]
    },
    {
      "cell_type": "markdown",
      "id": "1a7c8f49",
      "metadata": {
        "id": "1a7c8f49"
      },
      "source": [
        "2. Write a function called `add_path` that takes as arguments a path and a shelf. It should use `md5_digest` to compute a digest of the file contents. Then it should update the shelf, either creating a new item that maps from the digest to a list containing the path, or appending the path to the list if it exists."
      ]
    },
    {
      "cell_type": "code",
      "execution_count": 1,
      "id": "31c056a9",
      "metadata": {
        "id": "31c056a9"
      },
      "outputs": [],
      "source": [
        "def add_path(path_, shelf_):\n",
        "    digest = md5_digest(path_)\n",
        "    if digest in shelf_:\n",
        "        x = shelf_[digest]\n",
        "        x.append(path_)\n",
        "        shelf_[digest] = x\n",
        "    else:\n",
        "        shelf_[digest] = [path_] \n"
      ]
    },
    {
      "cell_type": "markdown",
      "id": "08223a21",
      "metadata": {
        "id": "08223a21"
      },
      "source": [
        "3. Write a version of `walk` called `walk_images` that takes a directory and walks through the files in the directory and its subdirectories. For each file, it should use `is_image` to check whether it's an image file and `add_path` to add it to the shelf."
      ]
    },
    {
      "cell_type": "code",
      "execution_count": 14,
      "id": "e54d6993",
      "metadata": {
        "id": "e54d6993"
      },
      "outputs": [],
      "source": [
        "\n",
        "def walk_images(dirname, db):\n",
        "    for name in os.listdir(dirname):\n",
        "        path = os.path.join(dirname, name)\n",
        "\n",
        "        if os.path.isfile(path):\n",
        "            if is_image(path):\n",
        "                add_path(path,db)\n",
        "            \n",
        "        elif os.path.isdir(path):\n",
        "            walk_images(path,db)"
      ]
    },
    {
      "cell_type": "markdown",
      "id": "1ea76a52",
      "metadata": {
        "id": "1ea76a52"
      },
      "source": [
        "When everything is working, you can use the following program to create the shelf, search the `photos` directory and add paths to the shelf, and then check whether there are multiple files with the same digest."
      ]
    },
    {
      "cell_type": "code",
      "execution_count": 19,
      "id": "fa09a8eb",
      "metadata": {},
      "outputs": [],
      "source": [
        "import shelve, os"
      ]
    },
    {
      "cell_type": "code",
      "execution_count": 23,
      "id": "c31ba5b6",
      "metadata": {
        "id": "c31ba5b6",
        "tags": []
      },
      "outputs": [
        {
          "name": "stdout",
          "output_type": "stream",
          "text": [
            "aa1d2fc25b7ae247b2931f5a0882fa37 ['photos\\\\mar-2023\\\\photo2.jpg', 'photos\\\\jan-2023\\\\photo1.jpg']\n"
          ]
        }
      ],
      "source": [
        "with shelve.open('photos/digests', 'n') as db:\n",
        "    walk_images('photos', db)\n",
        "\n",
        "    for digest, paths in db.items():\n",
        "        if len(paths) > 1:\n",
        "            print(digest, paths)"
      ]
    },
    {
      "cell_type": "markdown",
      "id": "102d4d10",
      "metadata": {
        "id": "102d4d10"
      },
      "source": [
        "You should find one pair of files that have the same digest.\n",
        "Use `same_contents` to check whether they contain the same data."
      ]
    },
    {
      "cell_type": "code",
      "execution_count": 26,
      "id": "d7c7e679",
      "metadata": {
        "id": "d7c7e679"
      },
      "outputs": [
        {
          "data": {
            "text/plain": [
              "True"
            ]
          },
          "execution_count": 26,
          "metadata": {},
          "output_type": "execute_result"
        }
      ],
      "source": [
        "same_contents('photos\\\\mar-2023\\\\photo2.jpg', 'photos\\\\jan-2023\\\\photo1.jpg')"
      ]
    },
    {
      "cell_type": "code",
      "execution_count": null,
      "id": "c6a6b5a7",
      "metadata": {
        "id": "c6a6b5a7"
      },
      "outputs": [],
      "source": []
    },
    {
      "cell_type": "markdown",
      "id": "a7f4edf8",
      "metadata": {
        "id": "a7f4edf8",
        "tags": []
      },
      "source": [
        "[Think Python: 3rd Edition](https://allendowney.github.io/ThinkPython/index.html)\n",
        "\n",
        "Copyright 2024 [Allen B. Downey](https://allendowney.com)\n",
        "\n",
        "Code license: [MIT License](https://mit-license.org/)\n",
        "\n",
        "Text license: [Creative Commons Attribution-NonCommercial-ShareAlike 4.0 International](https://creativecommons.org/licenses/by-nc-sa/4.0/)"
      ]
    }
  ],
  "metadata": {
    "celltoolbar": "Tags",
    "colab": {
      "provenance": []
    },
    "kernelspec": {
      "display_name": "Python 3",
      "language": "python",
      "name": "python3"
    },
    "language_info": {
      "codemirror_mode": {
        "name": "ipython",
        "version": 3
      },
      "file_extension": ".py",
      "mimetype": "text/x-python",
      "name": "python",
      "nbconvert_exporter": "python",
      "pygments_lexer": "ipython3",
      "version": "3.13.7"
    }
  },
  "nbformat": 4,
  "nbformat_minor": 5
}
